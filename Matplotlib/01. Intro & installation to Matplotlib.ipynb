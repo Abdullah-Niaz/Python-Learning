{
 "cells": [
  {
   "attachments": {},
   "cell_type": "markdown",
   "metadata": {},
   "source": [
    "## What is Matplotlib?\n",
    "\n",
    "* Matplotlib is a low level graph plotting library in python that serves as a visualization utility.\n",
    "* Matplotlib was created by John D. Hunter.\n",
    "* Matplotlib is open source and we can use it freely.\n",
    "* Matplotlib is mostly written in python, a few segments are written in C, Objective-C and Javascript for Platform compatibility."
   ]
  },
  {
   "attachments": {},
   "cell_type": "markdown",
   "metadata": {},
   "source": [
    "## Installation of Matplotlib\n",
    "\n",
    "* If you have Python and PIP already installed on a system, then installation of Matplotlib is very easy.\n",
    "Install it using this command:\n",
    "\n",
    "**pip install matplotlib**\n",
    "\n",
    "## Import Matplotlib\n",
    "\n",
    "* Once Matplotlib is installed, import it in your applications by adding the import module statement:\n",
    "\n",
    "**import matplotlib**\n",
    "\n",
    "Now Matplotlib is imported and ready to use:\n",
    "\n",
    "## Check Version By Typing\n",
    "    **matplotlib.__version__**"
   ]
  }
 ],
 "metadata": {
  "language_info": {
   "name": "python"
  },
  "orig_nbformat": 4
 },
 "nbformat": 4,
 "nbformat_minor": 2
}
