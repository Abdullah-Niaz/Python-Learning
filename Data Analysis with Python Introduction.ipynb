{
 "cells": [
  {
   "cell_type": "code",
   "execution_count": 8,
   "id": "1943560c",
   "metadata": {},
   "outputs": [
    {
     "name": "stdout",
     "output_type": "stream",
     "text": [
      "[['a' 'b']\n",
      " ['d' 'e']\n",
      " ['g' 'h']]\n"
     ]
    }
   ],
   "source": [
    "import numpy as np\n",
    "A = np.array([\n",
    "    ['a', 'b', 'c'],\n",
    "    ['d', 'e', 'f'],\n",
    "    ['g', 'h', 'i']\n",
    "])\n",
    "\n",
    "print(A[:, : 2])\n",
    "# because (rows and columns )\n"
   ]
  },
  {
   "cell_type": "code",
   "execution_count": 12,
   "id": "bb3f9279",
   "metadata": {},
   "outputs": [
    {
     "data": {
      "text/plain": [
       "array([20, 21, 22, 23, 24])"
      ]
     },
     "execution_count": 12,
     "metadata": {},
     "output_type": "execute_result"
    }
   ],
   "source": [
    "a = np.arange(5)\n",
    "a + 20\n",
    "# it will be added with the every index of array"
   ]
  },
  {
   "cell_type": "code",
   "execution_count": 14,
   "id": "b2b7604f",
   "metadata": {},
   "outputs": [
    {
     "name": "stdout",
     "output_type": "stream",
     "text": [
      "[ True  True  True  True False]\n"
     ]
    }
   ],
   "source": [
    "a = np.arange(5)\n",
    "\n",
    "print(a <= 3)"
   ]
  },
  {
   "cell_type": "code",
   "execution_count": 16,
   "id": "030a325a",
   "metadata": {},
   "outputs": [
    {
     "name": "stdout",
     "output_type": "stream",
     "text": [
      "Tom      8\n",
      "Kris     2\n",
      "Ahmad    5\n",
      "Beau     6\n",
      "dtype: int64\n"
     ]
    }
   ],
   "source": [
    "import pandas as pd\n",
    "\n",
    "certificates_earned = pd.Series(\n",
    "    [8, 2, 5, 6],\n",
    "    index=['Tom', 'Kris', 'Ahmad', 'Beau']\n",
    ")\n",
    "\n",
    "print(certificates_earned)"
   ]
  },
  {
   "cell_type": "code",
   "execution_count": 18,
   "id": "a489afa1",
   "metadata": {},
   "outputs": [
    {
     "name": "stdout",
     "output_type": "stream",
     "text": [
      "Tom     8\n",
      "Beau    6\n",
      "dtype: int64\n"
     ]
    }
   ],
   "source": [
    "import pandas as pd\n",
    "\n",
    "certificates_earned = pd.Series(\n",
    "    [8, 2, 5, 6],\n",
    "    index=['Tom', 'Kris', 'Ahmad', 'Beau']\n",
    ")\n",
    "\n",
    "print(certificates_earned[certificates_earned > 5])"
   ]
  },
  {
   "cell_type": "code",
   "execution_count": 20,
   "id": "887f672a",
   "metadata": {},
   "outputs": [
    {
     "name": "stdout",
     "output_type": "stream",
     "text": [
      "Certificates        5\n",
      "Time (in months)    9\n",
      "Name: Ahmad, dtype: int64\n"
     ]
    }
   ],
   "source": [
    "import pandas as pd\n",
    "\n",
    "certificates_earned = pd.DataFrame({\n",
    "    'Certificates': [8, 2, 5, 6],\n",
    "    'Time (in months)': [16, 5, 9, 12]\n",
    "})\n",
    "\n",
    "certificates_earned.index = ['Tom', 'Kris', 'Ahmad', 'Beau']\n",
    "\n",
    "print(certificates_earned.iloc[2])"
   ]
  },
  {
   "cell_type": "code",
   "execution_count": 29,
   "id": "decbcb66",
   "metadata": {},
   "outputs": [],
   "source": [
    "ss = pd.Series(5)"
   ]
  },
  {
   "cell_type": "code",
   "execution_count": 31,
   "id": "720ba625",
   "metadata": {},
   "outputs": [
    {
     "name": "stdout",
     "output_type": "stream",
     "text": [
      "       Certificates  Time (in months)  Longest streak\n",
      "Tom               8                16              13\n",
      "Kris              2                 5              11\n",
      "Ahmad             5                 9               9\n",
      "Beau              6                12               7\n"
     ]
    }
   ],
   "source": [
    "import pandas as pd\n",
    "\n",
    "certificates_earned = pd.DataFrame({\n",
    "    'Certificates': [8, 2, 5, 6],\n",
    "    'Time (in months)': [16, 5, 9, 12]\n",
    "})\n",
    "names = ['Tom', 'Kris', 'Ahmad', 'Beau']\n",
    "\n",
    "certificates_earned.index = names\n",
    "longest_streak = pd.Series([13, 11, 9, 7], index=names)\n",
    "certificates_earned['Longest streak'] = longest_streak\n",
    "\n",
    "print(certificates_earned)"
   ]
  },
  {
   "cell_type": "code",
   "execution_count": 33,
   "id": "f0e3a2cd",
   "metadata": {},
   "outputs": [
    {
     "name": "stdout",
     "output_type": "stream",
     "text": [
      "3\n"
     ]
    }
   ],
   "source": [
    "import pandas as pd\n",
    "import numpy as np\n",
    "\n",
    "s = pd.Series(['a', 3, np.nan, 1, np.nan])\n",
    "\n",
    "print(s.notnull().sum())"
   ]
  },
  {
   "cell_type": "code",
   "execution_count": 35,
   "id": "9b31141e",
   "metadata": {},
   "outputs": [
    {
     "name": "stdout",
     "output_type": "stream",
     "text": [
      "0    NaN\n",
      "1    1.0\n",
      "2    2.0\n",
      "3    2.0\n",
      "4    3.0\n",
      "dtype: float64\n"
     ]
    }
   ],
   "source": [
    "import pandas as pd\n",
    "import numpy as np\n",
    "\n",
    "s = pd.Series([np.nan, 1, 2, np.nan, 3])\n",
    "s = s.fillna(method='ffill')\n",
    "\n",
    "print(s)"
   ]
  },
  {
   "cell_type": "code",
   "execution_count": 36,
   "id": "2b22ee29",
   "metadata": {},
   "outputs": [
    {
     "ename": "NameError",
     "evalue": "name '__A__' is not defined",
     "output_type": "error",
     "traceback": [
      "\u001b[1;31m---------------------------------------------------------------------------\u001b[0m",
      "\u001b[1;31mNameError\u001b[0m                                 Traceback (most recent call last)",
      "Cell \u001b[1;32mIn [36], line 3\u001b[0m\n\u001b[0;32m      1\u001b[0m \u001b[38;5;28;01mimport\u001b[39;00m \u001b[38;5;21;01mcsv\u001b[39;00m\n\u001b[1;32m----> 3\u001b[0m \u001b[38;5;28;01mwith\u001b[39;00m \u001b[38;5;28mopen\u001b[39m(\u001b[43m__A__\u001b[49m, \u001b[38;5;124m'\u001b[39m\u001b[38;5;124mr\u001b[39m\u001b[38;5;124m'\u001b[39m) \u001b[38;5;28;01mas\u001b[39;00m fp:\n\u001b[0;32m      4\u001b[0m     reader \u001b[38;5;241m=\u001b[39m csv\u001b[38;5;241m.\u001b[39mreader(fp, delimiter\u001b[38;5;241m=\u001b[39m__B__)\n\u001b[0;32m      5\u001b[0m     \u001b[38;5;28mnext\u001b[39m(reader)\n",
      "\u001b[1;31mNameError\u001b[0m: name '__A__' is not defined"
     ]
    }
   ],
   "source": [
    "import csv\n",
    "\n",
    "with open(__A__, 'r') as fp:\n",
    "    reader = csv.reader(fp, delimiter=__B__)\n",
    "    next(reader)\n",
    "    for index, values in enumerate(reader):\n",
    "        name, certs_num, months_num = values\n",
    "        print(f\"{name} earned {__C__} certificates in {months_num} months\")"
   ]
  }
 ],
 "metadata": {
  "kernelspec": {
   "display_name": "Python 3 (ipykernel)",
   "language": "python",
   "name": "python3"
  },
  "language_info": {
   "codemirror_mode": {
    "name": "ipython",
    "version": 3
   },
   "file_extension": ".py",
   "mimetype": "text/x-python",
   "name": "python",
   "nbconvert_exporter": "python",
   "pygments_lexer": "ipython3",
   "version": "3.10.7"
  }
 },
 "nbformat": 4,
 "nbformat_minor": 5
}
