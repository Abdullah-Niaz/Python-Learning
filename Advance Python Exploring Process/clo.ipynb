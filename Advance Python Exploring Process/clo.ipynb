{
 "cells": [
  {
   "cell_type": "code",
   "execution_count": 1,
   "metadata": {},
   "outputs": [
    {
     "name": "stdout",
     "output_type": "stream",
     "text": [
      "Outside function - original id(l): 1732514999424\n",
      "Original list: [1, 2, 3, 4]\n",
      "Inside function - original id(L): 1732515003584\n",
      "Inside function - modified id(L): 1732515003584\n",
      "Modified list: [1, 2, 3, 4, 5]\n",
      "Outside function - modified id(l): 1732515003584\n",
      "orignal list: [1, 2, 3, 4]\n"
     ]
    }
   ],
   "source": [
    "def change(L):\n",
    "    print(\"Inside function - original id(L):\", id(L))\n",
    "    L.append(5)\n",
    "    print(\"Inside function - modified id(L):\", id(L))\n",
    "    return L\n",
    "\n",
    "l = [1, 2, 3, 4]\n",
    "print(\"Outside function - original id(l):\", id(l))\n",
    "print(\"Original list:\", l)\n",
    "\n",
    "b = change(l[:])\n",
    "print(\"Modified list:\", b)\n",
    "print(\"Outside function - modified id(l):\", id(b))\n",
    "\n",
    "print(f\"orignal list: {l}\")"
   ]
  }
 ],
 "metadata": {
  "kernelspec": {
   "display_name": "Python 3",
   "language": "python",
   "name": "python3"
  },
  "language_info": {
   "codemirror_mode": {
    "name": "ipython",
    "version": 3
   },
   "file_extension": ".py",
   "mimetype": "text/x-python",
   "name": "python",
   "nbconvert_exporter": "python",
   "pygments_lexer": "ipython3",
   "version": "3.12.2"
  }
 },
 "nbformat": 4,
 "nbformat_minor": 2
}
