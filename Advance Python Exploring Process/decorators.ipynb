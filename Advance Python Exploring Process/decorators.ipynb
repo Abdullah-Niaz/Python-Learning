{
 "cells": [
  {
   "cell_type": "code",
   "execution_count": 5,
   "metadata": {},
   "outputs": [
    {
     "data": {
      "text/plain": [
       "6"
      ]
     },
     "execution_count": 5,
     "metadata": {},
     "output_type": "execute_result"
    }
   ],
   "source": [
    "# Assiging fucntion to object\n",
    "def foo(n):\n",
    "    n +=1\n",
    "    return n\n",
    "f = foo\n",
    "f(5)"
   ]
  },
  {
   "cell_type": "code",
   "execution_count": 9,
   "metadata": {},
   "outputs": [
    {
     "data": {
      "text/plain": [
       "3"
      ]
     },
     "execution_count": 9,
     "metadata": {},
     "output_type": "execute_result"
    }
   ],
   "source": [
    "# Define Fucntions inside another fucntion\n",
    "def outer_func(n):\n",
    "    def inner_func(n):\n",
    "        n += 1\n",
    "        return n \n",
    "    result = inner_func(n)\n",
    "    return result\n",
    "f1 = outer_func\n",
    "f1(2)"
   ]
  },
  {
   "cell_type": "code",
   "execution_count": 15,
   "metadata": {},
   "outputs": [
    {
     "data": {
      "text/plain": [
       "4"
      ]
     },
     "execution_count": 15,
     "metadata": {},
     "output_type": "execute_result"
    }
   ],
   "source": [
    "# Passsing Function to another function as an argument\n",
    "\n",
    "def sum(a,b):\n",
    "    return a + b\n",
    "\n",
    "# sum(2,2)\n",
    "\n",
    "def sum_multiply(n,m):\n",
    "    return sum(n,m)\n",
    "\n",
    "sum_multiply(2,2)"
   ]
  }
 ],
 "metadata": {
  "kernelspec": {
   "display_name": "venv",
   "language": "python",
   "name": "python3"
  },
  "language_info": {
   "codemirror_mode": {
    "name": "ipython",
    "version": 3
   },
   "file_extension": ".py",
   "mimetype": "text/x-python",
   "name": "python",
   "nbconvert_exporter": "python",
   "pygments_lexer": "ipython3",
   "version": "3.11.4"
  },
  "orig_nbformat": 4
 },
 "nbformat": 4,
 "nbformat_minor": 2
}
