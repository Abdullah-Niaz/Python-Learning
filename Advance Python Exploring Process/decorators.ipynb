{
 "cells": [
  {
   "cell_type": "code",
   "execution_count": 5,
   "metadata": {},
   "outputs": [
    {
     "data": {
      "text/plain": [
       "6"
      ]
     },
     "execution_count": 5,
     "metadata": {},
     "output_type": "execute_result"
    }
   ],
   "source": [
    "# Assiging fucntion to object\n",
    "def foo(n):\n",
    "    n +=1\n",
    "    return n\n",
    "f = foo\n",
    "f(5)"
   ]
  },
  {
   "cell_type": "code",
   "execution_count": 9,
   "metadata": {},
   "outputs": [
    {
     "data": {
      "text/plain": [
       "3"
      ]
     },
     "execution_count": 9,
     "metadata": {},
     "output_type": "execute_result"
    }
   ],
   "source": [
    "# Define Fucntions inside another fucntion\n",
    "def outer_func(n):\n",
    "    def inner_func(n):\n",
    "        n += 1\n",
    "        return n \n",
    "    result = inner_func(n)\n",
    "    return result\n",
    "f1 = outer_func\n",
    "f1(2)"
   ]
  },
  {
   "cell_type": "code",
   "execution_count": 16,
   "metadata": {},
   "outputs": [
    {
     "data": {
      "text/plain": [
       "4"
      ]
     },
     "execution_count": 16,
     "metadata": {},
     "output_type": "execute_result"
    }
   ],
   "source": [
    "# Passsing Function to another function as an argument\n",
    "\n",
    "def sum(a,b):\n",
    "    return a + b\n",
    "\n",
    "# sum(2,2)\n",
    "\n",
    "def sum_multiply(n,m):\n",
    "    return sum(n,m)\n",
    "\n",
    "sum_multiply(2,2)"
   ]
  },
  {
   "cell_type": "code",
   "execution_count": 21,
   "metadata": {},
   "outputs": [
    {
     "data": {
      "text/plain": [
       "'Hello, I am inner function speaking inside outer function'"
      ]
     },
     "execution_count": 21,
     "metadata": {},
     "output_type": "execute_result"
    }
   ],
   "source": [
    "# Function returning another function\n",
    "def outer():\n",
    "    def inner():\n",
    "        return \"Hello, I am inner function speaking inside outer function\"\n",
    "    return inner()\n",
    "outer()"
   ]
  },
  {
   "cell_type": "code",
   "execution_count": 22,
   "metadata": {},
   "outputs": [
    {
     "name": "stdout",
     "output_type": "stream",
     "text": [
      "Some random message\n"
     ]
    }
   ],
   "source": [
    "# Nested Functions have access to the Enclosing Function's Variable Scope\n",
    "def print_message(message):\n",
    "    \"Enclosong Function\"\n",
    "    def message_sender():\n",
    "        \"Nested Function\"\n",
    "        print(message)\n",
    "\n",
    "    message_sender()\n",
    "\n",
    "print_message(\"Some random message\")\n"
   ]
  }
 ],
 "metadata": {
  "kernelspec": {
   "display_name": "venv",
   "language": "python",
   "name": "python3"
  },
  "language_info": {
   "codemirror_mode": {
    "name": "ipython",
    "version": 3
   },
   "file_extension": ".py",
   "mimetype": "text/x-python",
   "name": "python",
   "nbconvert_exporter": "python",
   "pygments_lexer": "ipython3",
   "version": "3.11.4"
  },
  "orig_nbformat": 4
 },
 "nbformat": 4,
 "nbformat_minor": 2
}
