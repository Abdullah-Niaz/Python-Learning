{
 "cells": [
  {
   "cell_type": "code",
   "execution_count": 2,
   "metadata": {},
   "outputs": [
    {
     "name": "stdout",
     "output_type": "stream",
     "text": [
      "[1, 3, 6, 10]\n"
     ]
    }
   ],
   "source": [
    "# # input \n",
    "# nums = [1,2,3,4]\n",
    "# # ouput \n",
    "# # nums = [1, 3, 6, 10]\n",
    "# # Declare a variable where you can store the sum\n",
    "# sum = 0 \n",
    "# #Declare a list where you will append the sum o\n",
    "# result = []\n",
    "# for i in nums:\n",
    "#     sum += i\n",
    "#     result.append(sum)\n",
    "\n",
    "# print(result)"
   ]
  },
  {
   "cell_type": "code",
   "execution_count": 7,
   "metadata": {},
   "outputs": [],
   "source": [
    "# Time:  O(n^2)\n",
    "# Space: O(1)\n",
    "\n",
    "class Solution(object):\n",
    "    def threeSumClosest(self, nums, target):\n",
    "        \"\"\"\n",
    "        :type nums: List[int]\n",
    "        :type target: int\n",
    "        :rtype: int\n",
    "        \"\"\"\n",
    "        result, min_diff = 0, float(\"inf\")\n",
    "        nums.sort()\n",
    "        for i in reversed(xrange(2, len(nums))):\n",
    "            if i+1 < len(nums) and nums[i] == nums[i+1]:\n",
    "                continue\n",
    "            left, right = 0, i-1\n",
    "            while left < right:\n",
    "                total = nums[left]+nums[right]+nums[i]\n",
    "                if total < target:\n",
    "                    left += 1\n",
    "                elif total > target:\n",
    "                    right -= 1\n",
    "                else:\n",
    "                    return target\n",
    "                if abs(total-target) < min_diff:\n",
    "                    min_diff = abs(total-target)\n",
    "                    result = total\n",
    "        return result\n",
    "\n"
   ]
  }
 ],
 "metadata": {
  "kernelspec": {
   "display_name": "Python 3.10.7 64-bit",
   "language": "python",
   "name": "python3"
  },
  "language_info": {
   "codemirror_mode": {
    "name": "ipython",
    "version": 3
   },
   "file_extension": ".py",
   "mimetype": "text/x-python",
   "name": "python",
   "nbconvert_exporter": "python",
   "pygments_lexer": "ipython3",
   "version": "3.10.7"
  },
  "orig_nbformat": 4,
  "vscode": {
   "interpreter": {
    "hash": "26de051ba29f2982a8de78e945f0abaf191376122a1563185a90213a26c5da77"
   }
  }
 },
 "nbformat": 4,
 "nbformat_minor": 2
}
