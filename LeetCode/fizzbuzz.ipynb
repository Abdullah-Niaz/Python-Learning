{
 "cells": [
  {
   "cell_type": "code",
   "execution_count": 1,
   "metadata": {},
   "outputs": [
    {
     "name": "stdout",
     "output_type": "stream",
     "text": [
      "['1', '2', 'Fizz', '4', 'Buzz', 'Fizz', '7', '8', 'Fizz', 'Buzz', '11', 'Fizz', '13', '14', 'FizzBuzz']\n"
     ]
    }
   ],
   "source": [
    "n = 15\n",
    "a = []\n",
    "for i in range(1,n+1):\n",
    "    if (i % 3==0):\n",
    "        if (i % 5==0):\n",
    "            a.append(\"FizzBuzz\")\n",
    "        else:\n",
    "            a.append(\"Fizz\")      \n",
    "    else:\n",
    "        if(i%5==0):\n",
    "            a.append(\"Buzz\")\n",
    "        else:\n",
    "            a.append(str(i))\n",
    "print(a)"
   ]
  },
  {
   "cell_type": "code",
   "execution_count": 7,
   "metadata": {},
   "outputs": [
    {
     "name": "stdout",
     "output_type": "stream",
     "text": [
      "['1', '2', 'Fizz', '4', 'Buzz', 'Fizz', '7', '8', 'Fizz', 'Buzz', '11', 'Fizz', '13', '14', 'FizzBuzz', '16', '17', 'Fizz', '19', 'Buzz']\n"
     ]
    }
   ],
   "source": [
    "n  = 20\n",
    "a = []\n",
    "for i in range(1 , n+1 ):\n",
    "    if(i%3 == 0 ):\n",
    "        if(i%5 == 0 ):\n",
    "            a.append(\"FizzBuzz\")\n",
    "        else:\n",
    "            a.append(\"Fizz\")\n",
    "    else:\n",
    "        if(i%5==0):\n",
    "            a.append(\"Buzz\")\n",
    "        else:\n",
    "            a.append(str(i))\n",
    "print(a)"
   ]
  },
  {
   "cell_type": "code",
   "execution_count": null,
   "metadata": {},
   "outputs": [],
   "source": []
  }
 ],
 "metadata": {
  "kernelspec": {
   "display_name": "Python 3.10.7 64-bit",
   "language": "python",
   "name": "python3"
  },
  "language_info": {
   "codemirror_mode": {
    "name": "ipython",
    "version": 3
   },
   "file_extension": ".py",
   "mimetype": "text/x-python",
   "name": "python",
   "nbconvert_exporter": "python",
   "pygments_lexer": "ipython3",
   "version": "3.10.7"
  },
  "orig_nbformat": 4,
  "vscode": {
   "interpreter": {
    "hash": "26de051ba29f2982a8de78e945f0abaf191376122a1563185a90213a26c5da77"
   }
  }
 },
 "nbformat": 4,
 "nbformat_minor": 2
}
