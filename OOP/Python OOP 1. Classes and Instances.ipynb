{
 "cells": [
  {
   "cell_type": "code",
   "execution_count": 1,
   "id": "a841d253",
   "metadata": {},
   "outputs": [
    {
     "name": "stdout",
     "output_type": "stream",
     "text": [
      "<__main__.Employee object at 0x000002841D520C10> <__main__.Employee object at 0x000002841EA5C0D0>\n"
     ]
    }
   ],
   "source": [
    "class Employee:\n",
    "    pass\n",
    "emp1 = Employee()\n",
    "emp2 = Employee()\n",
    "print(emp1,emp2)"
   ]
  },
  {
   "cell_type": "code",
   "execution_count": 8,
   "id": "8c019f4a-b488-4125-9129-b29c23b743c3",
   "metadata": {},
   "outputs": [
    {
     "name": "stdout",
     "output_type": "stream",
     "text": [
      "Ali\n"
     ]
    }
   ],
   "source": [
    "class Person:\n",
    "    def __init__(self,name):\n",
    "        self.name = name \n",
    "ali = Person(\"Ali\")\n",
    "print(ali.name)"
   ]
  },
  {
   "cell_type": "code",
   "execution_count": 5,
   "id": "276ce46e-289d-406e-b562-bb23658f1d16",
   "metadata": {},
   "outputs": [
    {
     "name": "stdout",
     "output_type": "stream",
     "text": [
      "Hello Aysha Mam\n"
     ]
    }
   ],
   "source": [
    "class person:\n",
    "    def __init__(self,name,gender):\n",
    "        self.name = name \n",
    "        self.gender = gender\n",
    "\n",
    "def greet(customer):\n",
    "    if customer.gender ==\"Male\":\n",
    "        print(\"Hello \",customer.name,\"Sir\")\n",
    "    else:\n",
    "        print(\"Hello\",customer.name,\"Mam\")\n",
    "\n",
    "cus = person(\"Aysha\",\"Female\")\n",
    "greet(cus)\n",
    "\n",
    "\n",
    "# pass By Refrence "
   ]
  }
 ],
 "metadata": {
  "kernelspec": {
   "display_name": "Python 3 (ipykernel)",
   "language": "python",
   "name": "python3"
  },
  "language_info": {
   "codemirror_mode": {
    "name": "ipython",
    "version": 3
   },
   "file_extension": ".py",
   "mimetype": "text/x-python",
   "name": "python",
   "nbconvert_exporter": "python",
   "pygments_lexer": "ipython3",
   "version": "3.11.4"
  }
 },
 "nbformat": 4,
 "nbformat_minor": 5
}
