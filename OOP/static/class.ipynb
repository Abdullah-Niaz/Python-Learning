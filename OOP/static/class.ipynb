{
 "cells": [
  {
   "cell_type": "code",
   "execution_count": 7,
   "metadata": {},
   "outputs": [
    {
     "name": "stdout",
     "output_type": "stream",
     "text": [
      "1\n",
      "2\n",
      "3\n"
     ]
    },
    {
     "data": {
      "text/plain": [
       "3"
      ]
     },
     "execution_count": 7,
     "metadata": {},
     "output_type": "execute_result"
    }
   ],
   "source": [
    "class person:\n",
    "\n",
    "    counter = 0\n",
    "\n",
    "    def __init__(self,name,age):\n",
    "        self.name = name\n",
    "        self.age = age\n",
    "\n",
    "        self.sno = person.counter\n",
    "        person.counter +=1\n",
    "\n",
    "p1  = person(\"Ali\",20)\n",
    "print(p1.counter)\n",
    "p2  = person(\"Omer\",30)\n",
    "print(p2.counter)\n",
    "p3 = person(\"Talha\",50)\n",
    "print(p3.counter)\n",
    "\n",
    "person.counter"
   ]
  },
  {
   "cell_type": "code",
   "execution_count": 58,
   "metadata": {},
   "outputs": [
    {
     "data": {
      "text/plain": [
       "2234324"
      ]
     },
     "execution_count": 58,
     "metadata": {},
     "output_type": "execute_result"
    }
   ],
   "source": [
    "class person:\n",
    "    # static/class\n",
    "    __counter = 0\n",
    "    def __init__(self,name,age):\n",
    "        self.name = name\n",
    "        self.age = age\n",
    "        self.sno = person.__counter\n",
    "        # person.__counter +=1\n",
    "\n",
    "\n",
    "    # static methods\n",
    "    @staticmethod\n",
    "    def get_cou():\n",
    "        return person.__counter\n",
    "    \n",
    "    def set_pin(new):\n",
    "        if type(new) == int:\n",
    "            person.__counter = new\n",
    "        else:\n",
    "            print(\"Not Allowed\")\n",
    "\n",
    "\n",
    "p1 = person(\"Ali\",30)\n",
    "person.set_pin(2234324)\n",
    "a = person.get_cou()\n",
    "a"
   ]
  },
  {
   "cell_type": "code",
   "execution_count": 74,
   "metadata": {},
   "outputs": [
    {
     "name": "stdout",
     "output_type": "stream",
     "text": [
      "University: University of Education\n",
      "Departments:\n",
      "Computer Science\n",
      "Mathematics\n"
     ]
    }
   ],
   "source": [
    "class Department:\n",
    "    def __init__(self, name):\n",
    "        self.name = name\n",
    "\n",
    "class University:\n",
    "    def __init__(self, name):\n",
    "        self.name = name\n",
    "        self.departments = []\n",
    "\n",
    "    def add_department(self, department):\n",
    "        self.departments.append(department)\n",
    "\n",
    "# Create Department objects\n",
    "cs_department = Department(\"Computer Science\")\n",
    "math_department = Department(\"Mathematics\")\n",
    "\n",
    "# Create University object and add departments\n",
    "my_university = University(\"University of Education\")\n",
    "my_university.add_department(cs_department)\n",
    "my_university.add_department(math_department)\n",
    "\n",
    "# Print university details\n",
    "print(f\"University: {my_university.name}\")\n",
    "print(f\"Departments:\")\n",
    "\n",
    "for department in my_university.departments:\n",
    "    print(department.name)\n"
   ]
  }
 ],
 "metadata": {
  "kernelspec": {
   "display_name": "venv",
   "language": "python",
   "name": "python3"
  },
  "language_info": {
   "codemirror_mode": {
    "name": "ipython",
    "version": 3
   },
   "file_extension": ".py",
   "mimetype": "text/x-python",
   "name": "python",
   "nbconvert_exporter": "python",
   "pygments_lexer": "ipython3",
   "version": "3.11.4"
  },
  "orig_nbformat": 4
 },
 "nbformat": 4,
 "nbformat_minor": 2
}
