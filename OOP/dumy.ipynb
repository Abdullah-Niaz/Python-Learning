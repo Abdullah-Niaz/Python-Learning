{
 "cells": [
  {
   "cell_type": "code",
   "execution_count": 5,
   "metadata": {},
   "outputs": [
    {
     "name": "stdout",
     "output_type": "stream",
     "text": [
      "+++++++++++++++++++++++++++++++\n",
      "\n",
      "\n",
      "\n",
      "+++++++++++++++++++++++++++++++\n",
      "\n",
      "\n",
      "\n",
      "+++++++++++++++++++++++++++++++\n",
      "\n",
      "\n",
      "\n",
      "+++++++++++++++++++++++++++++++\n",
      "\n",
      "\n",
      "\n",
      "+++++++++++++++++++++++++++++++\n",
      "\n",
      "\n"
     ]
    }
   ],
   "source": [
    "class my_class():\n",
    "    # To make the Code Reuseable, Make a constructure in side the class\n",
    "    def __init__(self, fname, lname, age, education):\n",
    "        self.first_name = fname\n",
    "        self.last_name = lname\n",
    "        self.child_age = age\n",
    "        self.child_education = education\n",
    "    \n",
    "    # str return the Value of class when it is called in strings\n",
    "    # def __str__(self):\n",
    "        # return f\"{self.first_name},{self.last_name}\"\n",
    "first_name  = input(\"Enter Your First Name \")\n",
    "last_name  = input(\"Enter Your Last Name \")\n",
    "age  = input(\"Enter Your Age \")\n",
    "education  = input(\"Enter Your Education \")\n",
    "\n",
    "Abdullah = my_class(first_name, last_name, age , education)\n",
    "print(\"+++++++++++++++++++++++++++++++\\n\\n\")\n",
    "print(Abdullah.first_name)\n",
    "print(\"+++++++++++++++++++++++++++++++\\n\\n\")\n",
    "print(Abdullah.last_name)\n",
    "print(\"+++++++++++++++++++++++++++++++\\n\\n\")\n",
    "print(Abdullah.child_age)\n",
    "print(\"+++++++++++++++++++++++++++++++\\n\\n\")\n",
    "print(Abdullah.child_education)\n",
    "print(\"+++++++++++++++++++++++++++++++\\n\\n\")\n"
   ]
  },
  {
   "cell_type": "code",
   "execution_count": null,
   "metadata": {},
   "outputs": [],
   "source": []
  },
  {
   "cell_type": "code",
   "execution_count": 11,
   "metadata": {},
   "outputs": [
    {
     "name": "stdout",
     "output_type": "stream",
     "text": [
      "John, 36\n"
     ]
    }
   ],
   "source": [
    "class Person:\n",
    "    def __init__(self, name, age):\n",
    "        self.name = name\n",
    "        self.age = age\n",
    "\n",
    "    def __str__(self):\n",
    "        return f\"{self.name}, {self.age}\"\n",
    "\n",
    "p1 = Person(\"John\", 36)\n",
    "\n",
    "print(p1)"
   ]
  },
  {
   "cell_type": "code",
   "execution_count": 16,
   "metadata": {},
   "outputs": [
    {
     "name": "stdout",
     "output_type": "stream",
     "text": [
      "Hello my name is John\n"
     ]
    }
   ],
   "source": [
    "class Person:\n",
    "    def __init__(self, name, age):\n",
    "        self.name = name\n",
    "        self.age = age\n",
    "\n",
    "    def myfunc(self):\n",
    "        print(\"Hello my name is \" + self.name)\n",
    "\n",
    "p1 = Person(\"John\", 36)\n",
    "p1.myfunc()"
   ]
  },
  {
   "cell_type": "code",
   "execution_count": 53,
   "metadata": {},
   "outputs": [
    {
     "data": {
      "text/plain": [
       "('Hello, Here is your product ',\n",
       " 'Omer',\n",
       " 'Congratulation ! we are giving 50 % discount today so your total is',\n",
       " 1250.0,\n",
       " 'from ',\n",
       " 2500)"
      ]
     },
     "execution_count": 53,
     "metadata": {},
     "output_type": "execute_result"
    }
   ],
   "source": [
    "class Book:\n",
    "    def __init__(self,name, age, pages, price):\n",
    "        self.name = name\n",
    "        self.age = age\n",
    "        self.pages = pages\n",
    "        self.price = price\n",
    "\n",
    "    # instances methods\n",
    "    \n",
    "    def getprice(self):\n",
    "        if hasattr(self,\"_discount\"):\n",
    "            return self.price - ( self.price * self._discount)\n",
    "        else:\n",
    "            return self.price\n",
    "    def discount(self,amount):\n",
    "        self._discount = amount\n",
    "b1 = Book(name=\"Omer\", age=20,pages=100,price=2500)\n",
    "# b1._Book__name\n",
    "x = b1.getprice()\n",
    "y = b1.discount(0.50)\n",
    "z = b1.getprice()\n",
    "result = \"Hello, Here is your product \", b1.name , \"Congratulation ! we are giving 50 % discount today so your total is\", z , \"from \", x\n",
    "result"
   ]
  },
  {
   "cell_type": "code",
   "execution_count": 58,
   "metadata": {},
   "outputs": [
    {
     "data": {
      "text/plain": [
       "True"
      ]
     },
     "execution_count": 58,
     "metadata": {},
     "output_type": "execute_result"
    }
   ],
   "source": [
    "class Book:\n",
    "    pass\n",
    "x = Book()\n",
    "type(x)\n",
    "isinstance(x,object)"
   ]
  },
  {
   "cell_type": "code",
   "execution_count": null,
   "metadata": {},
   "outputs": [],
   "source": [
    "class New:\n",
    "    pass\n",
    "y = New()\n",
    "type(x)\n",
    "isinstance(x,object)"
   ]
  },
  {
   "cell_type": "code",
   "execution_count": null,
   "metadata": {},
   "outputs": [],
   "source": []
  }
 ],
 "metadata": {
  "kernelspec": {
   "display_name": "Python 3",
   "language": "python",
   "name": "python3"
  },
  "language_info": {
   "codemirror_mode": {
    "name": "ipython",
    "version": 3
   },
   "file_extension": ".py",
   "mimetype": "text/x-python",
   "name": "python",
   "nbconvert_exporter": "python",
   "pygments_lexer": "ipython3",
   "version": "3.11.1"
  },
  "orig_nbformat": 4,
  "vscode": {
   "interpreter": {
    "hash": "75eef46696976f9d99545f8398d5cc026a55ac773bd21dca42ce1aa59af96408"
   }
  }
 },
 "nbformat": 4,
 "nbformat_minor": 2
}
