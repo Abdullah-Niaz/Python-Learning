{
 "cells": [
  {
   "cell_type": "code",
   "execution_count": 3,
   "metadata": {},
   "outputs": [
    {
     "name": "stdout",
     "output_type": "stream",
     "text": [
      "+++++++++++++++++++++++++++++++\n",
      "\n",
      "\n",
      "+++++++++++++++++++++++++++++++\n",
      "\n",
      "\n",
      "Abdullah\n",
      "+++++++++++++++++++++++++++++++\n",
      "\n",
      "\n",
      "+++++++++++++++++++++++++++++++\n",
      "\n",
      "\n",
      "Abdullah\n",
      "+++++++++++++++++++++++++++++++\n",
      "\n",
      "\n",
      "+++++++++++++++++++++++++++++++\n",
      "\n",
      "\n",
      "20\n",
      "+++++++++++++++++++++++++++++++\n",
      "\n",
      "\n",
      "+++++++++++++++++++++++++++++++\n",
      "\n",
      "\n",
      "bscs\n",
      "+++++++++++++++++++++++++++++++\n",
      "\n",
      "\n",
      "+++++++++++++++++++++++++++++++\n",
      "\n",
      "\n"
     ]
    }
   ],
   "source": [
    "class my_class():\n",
    "    # To make the Code Reuseable, Make a constructure in side the class\n",
    "    def __init__(self, fname, lname, age, education):\n",
    "        self.first_name = fname\n",
    "        self.last_name = lname\n",
    "        self.child_age = age\n",
    "        self.child_education = education\n",
    "first_name  = input(\"Enter Your First Name \")\n",
    "last_name  = input(\"Enter Your Last Name \")\n",
    "age  = input(\"Enter Your Age \")\n",
    "education  = input(\"Enter Your Education \")\n",
    "\n",
    "Abdullah = my_class(first_name, last_name, age , education)\n",
    "print(\"+++++++++++++++++++++++++++++++\\n\\n\")\n",
    "print(Abdullah.first_name)\n",
    "print(\"+++++++++++++++++++++++++++++++\\n\\n\")\n",
    "print(Abdullah.last_name)\n",
    "print(\"+++++++++++++++++++++++++++++++\\n\\n\")\n",
    "print(Abdullah.child_age)\n",
    "print(\"+++++++++++++++++++++++++++++++\\n\\n\")\n",
    "print(Abdullah.child_education)\n",
    "print(\"+++++++++++++++++++++++++++++++\\n\\n\")\n"
   ]
  },
  {
   "cell_type": "code",
   "execution_count": null,
   "metadata": {},
   "outputs": [],
   "source": []
  }
 ],
 "metadata": {
  "kernelspec": {
   "display_name": "Python 3",
   "language": "python",
   "name": "python3"
  },
  "language_info": {
   "codemirror_mode": {
    "name": "ipython",
    "version": 3
   },
   "file_extension": ".py",
   "mimetype": "text/x-python",
   "name": "python",
   "nbconvert_exporter": "python",
   "pygments_lexer": "ipython3",
   "version": "3.11.1"
  },
  "orig_nbformat": 4,
  "vscode": {
   "interpreter": {
    "hash": "75eef46696976f9d99545f8398d5cc026a55ac773bd21dca42ce1aa59af96408"
   }
  }
 },
 "nbformat": 4,
 "nbformat_minor": 2
}
