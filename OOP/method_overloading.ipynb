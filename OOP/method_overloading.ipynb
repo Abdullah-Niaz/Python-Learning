{
 "cells": [
  {
   "cell_type": "markdown",
   "metadata": {},
   "source": [
    "Method overlaoding\n",
    " - Technically we can't overload the functions i python \n",
    " - But smartly we can do the same thing using the default arguments"
   ]
  },
  {
   "cell_type": "code",
   "execution_count": 7,
   "metadata": {},
   "outputs": [
    {
     "data": {
      "text/plain": [
       "6"
      ]
     },
     "execution_count": 7,
     "metadata": {},
     "output_type": "execute_result"
    }
   ],
   "source": [
    "class parent:\n",
    "\n",
    "    def area(self,radius):\n",
    "        return 3.14 * radius * radius\n",
    "    \n",
    "    def area(self,l,b):\n",
    "        return l * b\n",
    "\n",
    "s = parent()\n",
    "s.area(2,3)"
   ]
  },
  {
   "cell_type": "code",
   "execution_count": 13,
   "metadata": {},
   "outputs": [
    {
     "name": "stdout",
     "output_type": "stream",
     "text": [
      "Circle:  50.24\n",
      "Rectangle:  6\n"
     ]
    }
   ],
   "source": [
    "class Geometry:\n",
    "    \"\"\"It will calculate the cirle and rectangle area accroding to the given instructions\"\"\"\n",
    "    def area(self,a,b=0):\n",
    "        if (b == 0 ):\n",
    "            print(\"Circle: \", 3.14 * a * a)\n",
    "        else:\n",
    "            print(\"Rectangle: \",a * b)\n",
    "\n",
    "\n",
    "s = Geometry()\n",
    "\n",
    "s.area(4)\n",
    "s.area(2,3)"
   ]
  }
 ],
 "metadata": {
  "kernelspec": {
   "display_name": "venv",
   "language": "python",
   "name": "python3"
  },
  "language_info": {
   "codemirror_mode": {
    "name": "ipython",
    "version": 3
   },
   "file_extension": ".py",
   "mimetype": "text/x-python",
   "name": "python",
   "nbconvert_exporter": "python",
   "pygments_lexer": "ipython3",
   "version": "3.11.4"
  },
  "orig_nbformat": 4
 },
 "nbformat": 4,
 "nbformat_minor": 2
}
