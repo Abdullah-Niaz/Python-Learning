{
 "cells": [
  {
   "cell_type": "code",
   "execution_count": 2,
   "metadata": {},
   "outputs": [
    {
     "name": "stdout",
     "output_type": "stream",
     "text": [
      "I am: Ali and my age is: 20\n",
      "I am: Abbas and my age is: 30\n",
      "I am: Talha and my age is: 40\n"
     ]
    }
   ],
   "source": [
    "class person:\n",
    "    def __init__(self,name,age):\n",
    "        self.name = name \n",
    "        self.age = age\n",
    "    def intro(self):\n",
    "        print(f\"I am: {self.name} and my age is: {self.age}\")\n",
    "\n",
    "p1 = person(\"Ali\",20)\n",
    "p2 = person(\"Abbas\",30)\n",
    "p3 = person(\"Talha\",40)\n",
    "p = [p1,p2,p3]\n",
    "for i in p:\n",
    "    i.intro()"
   ]
  },
  {
   "cell_type": "code",
   "execution_count": 6,
   "metadata": {},
   "outputs": [
    {
     "name": "stdout",
     "output_type": "stream",
     "text": [
      "2232668600400\n",
      "2232668600400\n",
      "<__main__.person object at 0x00000207D56B3850>\n"
     ]
    }
   ],
   "source": [
    "class person:\n",
    "    def __init__(self,name):\n",
    "        self.name = name \n",
    "\n",
    "    def intro(self):\n",
    "        return self.name\n",
    "    \n",
    "def foo(p):\n",
    "    print(id(p))\n",
    "    p.name = \"Hello\"\n",
    "\n",
    "l  = person(\"Ali\")\n",
    "\n",
    "foo(l)\n",
    "print(id(l))\n",
    "print(l)"
   ]
  },
  {
   "cell_type": "code",
   "execution_count": null,
   "metadata": {},
   "outputs": [],
   "source": []
  }
 ],
 "metadata": {
  "kernelspec": {
   "display_name": "venv",
   "language": "python",
   "name": "python3"
  },
  "language_info": {
   "codemirror_mode": {
    "name": "ipython",
    "version": 3
   },
   "file_extension": ".py",
   "mimetype": "text/x-python",
   "name": "python",
   "nbconvert_exporter": "python",
   "pygments_lexer": "ipython3",
   "version": "3.11.4"
  },
  "orig_nbformat": 4
 },
 "nbformat": 4,
 "nbformat_minor": 2
}
