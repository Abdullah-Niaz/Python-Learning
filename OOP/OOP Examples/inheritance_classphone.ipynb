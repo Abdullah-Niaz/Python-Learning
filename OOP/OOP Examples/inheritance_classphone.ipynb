{
 "cells": [
  {
   "cell_type": "code",
   "execution_count": 15,
   "metadata": {},
   "outputs": [
    {
     "name": "stdout",
     "output_type": "stream",
     "text": [
      "Inside SmartPhone, if constructor -> attributes does not exit, phone automcatically called\n",
      "Iside Phone Constuctor which Atumatically Called\n",
      "Oppo 25000 10M 64\n"
     ]
    }
   ],
   "source": [
    "# Inheriting Class Constuctor\n",
    "class Phone:\n",
    "    def __init__(self,brand,price,camera,memory):\n",
    "        print(\"Iside Phone Constuctor which Atumatically Called\")\n",
    "        self.brand = brand\n",
    "        self.price = price\n",
    "        self.camera = camera\n",
    "        self.memory = memory\n",
    "\n",
    "\n",
    "class smartPhone(Phone):\n",
    "    print(\"Inside SmartPhone, if constructor -> attributes does not exit, phone automcatically called\")\n",
    "    pass\n",
    "\n",
    "s = smartPhone(\"Oppo\",25000,\"10M\",64)\n",
    "print(s.brand,\n",
    "s.price,\n",
    "s.camera,\n",
    "s.memory)"
   ]
  }
 ],
 "metadata": {
  "kernelspec": {
   "display_name": "venv",
   "language": "python",
   "name": "python3"
  },
  "language_info": {
   "codemirror_mode": {
    "name": "ipython",
    "version": 3
   },
   "file_extension": ".py",
   "mimetype": "text/x-python",
   "name": "python",
   "nbconvert_exporter": "python",
   "pygments_lexer": "ipython3",
   "version": "3.11.4"
  },
  "orig_nbformat": 4
 },
 "nbformat": 4,
 "nbformat_minor": 2
}
