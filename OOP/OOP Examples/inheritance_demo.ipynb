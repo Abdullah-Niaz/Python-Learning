{
 "cells": [
  {
   "cell_type": "code",
   "execution_count": 4,
   "metadata": {},
   "outputs": [
    {
     "name": "stdout",
     "output_type": "stream",
     "text": [
      "This is the child Class\n"
     ]
    }
   ],
   "source": [
    "class parent:\n",
    "    def __init__(self,num):\n",
    "        self.__num = num\n",
    "\n",
    "    def get_num(self):\n",
    "        return self.__num\n",
    "class child(parent):\n",
    "    def show(self):\n",
    "        print(\"This is the child Class\")\n",
    "\n",
    "son_Ali  = child(100)\n",
    "son_Ali.get_num()\n",
    "son_Ali.show()"
   ]
  },
  {
   "cell_type": "code",
   "execution_count": 8,
   "metadata": {},
   "outputs": [
    {
     "ename": "AttributeError",
     "evalue": "'child' object has no attribute '_parent__num'",
     "output_type": "error",
     "traceback": [
      "\u001b[1;31m---------------------------------------------------------------------------\u001b[0m",
      "\u001b[1;31mAttributeError\u001b[0m                            Traceback (most recent call last)",
      "Cell \u001b[1;32mIn[8], line 18\u001b[0m\n\u001b[0;32m     14\u001b[0m         \u001b[39mreturn\u001b[39;00m \u001b[39mself\u001b[39m\u001b[39m.\u001b[39m__val\n\u001b[0;32m     17\u001b[0m son \u001b[39m=\u001b[39m child(\u001b[39m100\u001b[39m,\u001b[39m10\u001b[39m)\n\u001b[1;32m---> 18\u001b[0m \u001b[39mprint\u001b[39m(son\u001b[39m.\u001b[39;49mget_num(),\n\u001b[0;32m     19\u001b[0m son\u001b[39m.\u001b[39mget_val())\n\u001b[0;32m     22\u001b[0m \u001b[39m# Note: if the constructor of child is not present then the parent constuctor will automaticlally will be invoked\u001b[39;00m\n\u001b[0;32m     23\u001b[0m         \u001b[39m# - if the constructor of the child class is present then the parent constructor will not invoke\u001b[39;00m\n",
      "Cell \u001b[1;32mIn[8], line 6\u001b[0m, in \u001b[0;36mparent.get_num\u001b[1;34m(self)\u001b[0m\n\u001b[0;32m      5\u001b[0m \u001b[39mdef\u001b[39;00m \u001b[39mget_num\u001b[39m(\u001b[39mself\u001b[39m):\n\u001b[1;32m----> 6\u001b[0m     \u001b[39mreturn\u001b[39;00m \u001b[39mself\u001b[39;49m\u001b[39m.\u001b[39;49m__num\n",
      "\u001b[1;31mAttributeError\u001b[0m: 'child' object has no attribute '_parent__num'"
     ]
    }
   ],
   "source": [
    "class parent:\n",
    "    def __init__(self,num):\n",
    "        self.__num = num\n",
    "\n",
    "    def get_num(self):\n",
    "        return self.__num\n",
    "    \n",
    "\n",
    "class child(parent):\n",
    "    def __init__(self,val, num):\n",
    "        self.__val = val\n",
    "\n",
    "    def get_val(self):\n",
    "        return self.__val\n",
    "    \n",
    "\n",
    "son = child(100,10)\n",
    "print(son.get_num(),\n",
    "son.get_val())\n",
    "\n",
    "\n",
    "# Note: if the constructor of child is not present then the parent constuctor will automaticlally will be invoked\n",
    "        # - if the constructor of the child class is present then the parent constructor will not invoke"
   ]
  },
  {
   "cell_type": "code",
   "execution_count": 14,
   "metadata": {},
   "outputs": [
    {
     "name": "stdout",
     "output_type": "stream",
     "text": [
      "Class A 100\n",
      "Class B 100\n"
     ]
    }
   ],
   "source": [
    "class A:\n",
    "    def __init__(self):\n",
    "        self.var = 100\n",
    "\n",
    "    def display1(self,var):\n",
    "        print(\"Class A\",self.var)\n",
    "class B(A):\n",
    "    def display2(self,var):\n",
    "        print(\"Class B\",self.var)\n",
    "\n",
    "\n",
    "\n",
    "child = B()\n",
    "child.display1(20)\n",
    "child.display2(20)"
   ]
  },
  {
   "cell_type": "code",
   "execution_count": 21,
   "metadata": {},
   "outputs": [
    {
     "name": "stdout",
     "output_type": "stream",
     "text": [
      "Buying a SmartPhone\n",
      "Buying a Phone\n"
     ]
    },
    {
     "data": {
      "text/plain": [
       "'10M'"
      ]
     },
     "execution_count": 21,
     "metadata": {},
     "output_type": "execute_result"
    }
   ],
   "source": [
    "class phone:\n",
    "    def __init__(self,price,brand,camera):\n",
    "        self.__price = price\n",
    "        self.brand = brand\n",
    "        self.camera = camera\n",
    "\n",
    "    def buy(self):\n",
    "        print(\"Buying a Phone\")\n",
    "\n",
    "class smartPhone(phone):\n",
    "\n",
    "    def buy(self):\n",
    "        print(\"Buying a SmartPhone\")\n",
    "        super().buy()\n",
    "\n",
    "ph = smartPhone(222,\"oppo\",\"10M\")\n",
    "ph.buy()\n",
    "ph.camera"
   ]
  },
  {
   "cell_type": "code",
   "execution_count": 27,
   "metadata": {},
   "outputs": [
    {
     "name": "stdout",
     "output_type": "stream",
     "text": [
      "Inside of the Parent Class\n",
      "Inside of the Child Class\n"
     ]
    },
    {
     "data": {
      "text/plain": [
       "'Oppo'"
      ]
     },
     "execution_count": 27,
     "metadata": {},
     "output_type": "execute_result"
    }
   ],
   "source": [
    "class parent:\n",
    "    def __init__(self,price,brand,camera):\n",
    "        print(\"Inside of the Parent Class\")\n",
    "        self.__price = price\n",
    "        self.brand = brand\n",
    "        self.camera = camera\n",
    "\n",
    "\n",
    "class child(parent):\n",
    "    def __init__(self,price,brand,camera,os,ram):\n",
    "        super().__init__(price,brand,camera)\n",
    "        print(\"Inside of the Child Class\")\n",
    "        self.os = os\n",
    "        self.ram = ram\n",
    "s = child(22222,\"Oppo\",\"10M\",\"Andriod\",\"10GB\")\n",
    "\n",
    "s.brand"
   ]
  },
  {
   "cell_type": "code",
   "execution_count": 32,
   "metadata": {},
   "outputs": [
    {
     "name": "stdout",
     "output_type": "stream",
     "text": [
      "100\n",
      "200\n"
     ]
    }
   ],
   "source": [
    "class parent:\n",
    "    def __init__(self):\n",
    "        self.num = 100\n",
    "\n",
    "class child(parent):\n",
    "\n",
    "    def __init__(self):\n",
    "        super().__init__()\n",
    "        self.var  = 200\n",
    "\n",
    "    def show(self):\n",
    "        print(self.num)\n",
    "        print(self.var)\n",
    "\n",
    "\n",
    "c = child()\n",
    "c.show()"
   ]
  }
 ],
 "metadata": {
  "kernelspec": {
   "display_name": "venv",
   "language": "python",
   "name": "python3"
  },
  "language_info": {
   "codemirror_mode": {
    "name": "ipython",
    "version": 3
   },
   "file_extension": ".py",
   "mimetype": "text/x-python",
   "name": "python",
   "nbconvert_exporter": "python",
   "pygments_lexer": "ipython3",
   "version": "3.11.4"
  },
  "orig_nbformat": 4
 },
 "nbformat": 4,
 "nbformat_minor": 2
}
