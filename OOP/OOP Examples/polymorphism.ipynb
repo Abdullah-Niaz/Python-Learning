{
 "cells": [
  {
   "cell_type": "code",
   "execution_count": 3,
   "metadata": {},
   "outputs": [
    {
     "name": "stdout",
     "output_type": "stream",
     "text": [
      "Inside SmartPhone, if constructor -> attributes does not exit, phone automcatically called\n",
      "Iside Phone Constuctor which Atumatically Called\n",
      "Oppo 25000 10M 64\n"
     ]
    }
   ],
   "source": [
    "# Inheriting Polymorhpish Class Constuctor\n",
    "# Types:\n",
    "    # Method Overriding\n",
    "    # Method Overloading\n",
    "    # Operator Overloading\n",
    "class Phone:\n",
    "    def __init__(self,brand,price,camera,memory):\n",
    "        print(\"Iside Phone Constuctor which Atumatically Called\")\n",
    "        self.brand = brand\n",
    "        self.price = price\n",
    "        self.camera = camera\n",
    "        self.memory = memory\n",
    "\n",
    "\n",
    "class smartPhone(Phone):\n",
    "    print(\"Inside SmartPhone, if constructor -> attributes does not exit, phone automcatically called\")\n",
    "    pass\n",
    "\n",
    "s = smartPhone(\"Oppo\",25000,\"10M\",64)\n",
    "print(s.brand,\n",
    "    #   private members inside the parent class can't be inherited\n",
    "s.price,\n",
    "s.camera,\n",
    "s.memory)"
   ]
  },
  {
   "cell_type": "code",
   "execution_count": 10,
   "metadata": {},
   "outputs": [
    {
     "name": "stdout",
     "output_type": "stream",
     "text": [
      "Buing SmartPhone of Brand oppo\n"
     ]
    }
   ],
   "source": [
    "class phone:\n",
    "    def __init__(self,price,brand,camera):\n",
    "        self.price = price\n",
    "        self.brand = brand\n",
    "        self.camera = camera\n",
    "\n",
    "    def buyPhone(self):\n",
    "        print(\"Buying Phone \")\n",
    "\n",
    "class smartPhone(phone):\n",
    "    pass\n",
    "    def buyPhone(self):\n",
    "        print(f\"Buing SmartPhone of Brand {self.brand}\")\n",
    "\n",
    "s = smartPhone(232000,\"oppo\",\"36M\")\n",
    "s.buyPhone()\n"
   ]
  }
 ],
 "metadata": {
  "kernelspec": {
   "display_name": "venv",
   "language": "python",
   "name": "python3"
  },
  "language_info": {
   "codemirror_mode": {
    "name": "ipython",
    "version": 3
   },
   "file_extension": ".py",
   "mimetype": "text/x-python",
   "name": "python",
   "nbconvert_exporter": "python",
   "pygments_lexer": "ipython3",
   "version": "3.11.4"
  },
  "orig_nbformat": 4
 },
 "nbformat": 4,
 "nbformat_minor": 2
}
