{
 "cells": [
  {
   "cell_type": "code",
   "execution_count": 1,
   "metadata": {},
   "outputs": [
    {
     "name": "stdout",
     "output_type": "stream",
     "text": [
      "Pride and Prejudice by Jane Austen\n",
      "Great Expectations by Charles Dickens\n"
     ]
    }
   ],
   "source": [
    "class Author:\n",
    "    def __init__(self, name):\n",
    "        self.name = name\n",
    "\n",
    "class Book:\n",
    "    def __init__(self, title, author):\n",
    "        self.title = title\n",
    "        self.author = author\n",
    "\n",
    "# Create Author objects\n",
    "jane_austen = Author(\"Jane Austen\")\n",
    "charles_dickens = Author(\"Charles Dickens\")\n",
    "\n",
    "# Create Book objects and associate them with authors\n",
    "pride_and_prejudice = Book(\"Pride and Prejudice\", jane_austen)\n",
    "great_expectations = Book(\"Great Expectations\", charles_dickens)\n",
    "\n",
    "# Print book details with author information\n",
    "print(f\"{pride_and_prejudice.title} by {pride_and_prejudice.author.name}\")\n",
    "print(f\"{great_expectations.title} by {great_expectations.author.name}\")\n"
   ]
  }
 ],
 "metadata": {
  "kernelspec": {
   "display_name": "venv",
   "language": "python",
   "name": "python3"
  },
  "language_info": {
   "codemirror_mode": {
    "name": "ipython",
    "version": 3
   },
   "file_extension": ".py",
   "mimetype": "text/x-python",
   "name": "python",
   "nbconvert_exporter": "python",
   "pygments_lexer": "ipython3",
   "version": "3.11.4"
  },
  "orig_nbformat": 4
 },
 "nbformat": 4,
 "nbformat_minor": 2
}
