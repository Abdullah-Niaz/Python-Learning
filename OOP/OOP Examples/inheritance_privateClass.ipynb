{
 "cells": [
  {
   "cell_type": "code",
   "execution_count": 3,
   "metadata": {},
   "outputs": [
    {
     "name": "stdout",
     "output_type": "stream",
     "text": [
      "Inside SmartPhone, if constructor -> attributes does not exit, phone automcatically called\n",
      "Iside Phone Constuctor which Atumatically Called\n"
     ]
    },
    {
     "ename": "AttributeError",
     "evalue": "'smartPhone' object has no attribute '__price'",
     "output_type": "error",
     "traceback": [
      "\u001b[1;31m---------------------------------------------------------------------------\u001b[0m",
      "\u001b[1;31mAttributeError\u001b[0m                            Traceback (most recent call last)",
      "Cell \u001b[1;32mIn[3], line 18\u001b[0m\n\u001b[0;32m     13\u001b[0m     \u001b[39mpass\u001b[39;00m\n\u001b[0;32m     15\u001b[0m s \u001b[39m=\u001b[39m smartPhone(\u001b[39m\"\u001b[39m\u001b[39mOppo\u001b[39m\u001b[39m\"\u001b[39m,\u001b[39m25000\u001b[39m,\u001b[39m\"\u001b[39m\u001b[39m10M\u001b[39m\u001b[39m\"\u001b[39m,\u001b[39m64\u001b[39m)\n\u001b[0;32m     16\u001b[0m \u001b[39mprint\u001b[39m(s\u001b[39m.\u001b[39mbrand,\n\u001b[0;32m     17\u001b[0m     \u001b[39m#   private members inside the parent class can't be inherited\u001b[39;00m\n\u001b[1;32m---> 18\u001b[0m s\u001b[39m.\u001b[39;49m__price,\n\u001b[0;32m     19\u001b[0m s\u001b[39m.\u001b[39mcamera,\n\u001b[0;32m     20\u001b[0m s\u001b[39m.\u001b[39mmemory)\n",
      "\u001b[1;31mAttributeError\u001b[0m: 'smartPhone' object has no attribute '__price'"
     ]
    }
   ],
   "source": [
    "# Inheriting Private Class Constuctor\n",
    "class Phone:\n",
    "    def __init__(self,brand,price,camera,memory):\n",
    "        print(\"Iside Phone Constuctor which Atumatically Called\")\n",
    "        self.brand = brand\n",
    "        self.__price = price\n",
    "        self.camera = camera\n",
    "        self.memory = memory\n",
    "\n",
    "\n",
    "class smartPhone(Phone):\n",
    "    print(\"Inside SmartPhone, if constructor -> attributes does not exit, phone automcatically called\")\n",
    "    pass\n",
    "\n",
    "s = smartPhone(\"Oppo\",25000,\"10M\",64)\n",
    "print(s.brand,\n",
    "    #   private members inside the parent class can't be inherited\n",
    "s.__price,\n",
    "s.camera,\n",
    "s.memory)"
   ]
  }
 ],
 "metadata": {
  "kernelspec": {
   "display_name": "venv",
   "language": "python",
   "name": "python3"
  },
  "language_info": {
   "codemirror_mode": {
    "name": "ipython",
    "version": 3
   },
   "file_extension": ".py",
   "mimetype": "text/x-python",
   "name": "python",
   "nbconvert_exporter": "python",
   "pygments_lexer": "ipython3",
   "version": "3.11.4"
  },
  "orig_nbformat": 4
 },
 "nbformat": 4,
 "nbformat_minor": 2
}
