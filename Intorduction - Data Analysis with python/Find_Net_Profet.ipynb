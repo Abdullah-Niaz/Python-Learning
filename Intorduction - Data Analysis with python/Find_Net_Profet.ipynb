{
 "cells": [
  {
   "cell_type": "code",
   "execution_count": null,
   "metadata": {},
   "outputs": [],
   "source": []
  },
  {
   "cell_type": "markdown",
   "metadata": {},
   "source": [
    "A Grocery Store sells a bad of ice  for $1.25, and make 20% profit. if it sells 500 bags of ice, how much total profit does it makes?"
   ]
  },
  {
   "cell_type": "markdown",
   "metadata": {},
   "source": [
    "We can list out the provided information.\n",
    "Cost of ice bag = 1.25$\n",
    "Profit Margin = 20% = .2\n",
    "Profit per bag = 1.25 * .2\n",
    "NO of bags = 500\n",
    "Total profit = no of bags * profit per bag\n",
    "Total profit = 500 * ( 1.25 * .2)"
   ]
  },
  {
   "cell_type": "code",
   "execution_count": 14,
   "metadata": {},
   "outputs": [
    {
     "data": {
      "text/plain": [
       "'The Grocery store makes a profit of $125.0 '"
      ]
     },
     "execution_count": 14,
     "metadata": {},
     "output_type": "execute_result"
    }
   ],
   "source": [
    "# List out the input data \n",
    "Cost_of_ice_per_bag = 1.25\n",
    "Profit_margin = .2\n",
    "No_of_bags = 500\n",
    "\n",
    "# Performed som calculation \n",
    "Profit_per_bag = 1.25 * .2\n",
    "Total_profit = No_of_bags * Profit_per_bag\n",
    "# ceil(Total_profit)\n",
    "# floor(Total_profit)\n",
    "# ouput result \n",
    "Total_profit\n",
    "ouput = \"The Grocery store makes a profit of ${} \".format(Total_profit)\n",
    "ouput\n"
   ]
  }
 ],
 "metadata": {
  "kernelspec": {
   "display_name": "Python 3.10.7 64-bit",
   "language": "python",
   "name": "python3"
  },
  "language_info": {
   "codemirror_mode": {
    "name": "ipython",
    "version": 3
   },
   "file_extension": ".py",
   "mimetype": "text/x-python",
   "name": "python",
   "nbconvert_exporter": "python",
   "pygments_lexer": "ipython3",
   "version": "3.10.7"
  },
  "orig_nbformat": 4,
  "vscode": {
   "interpreter": {
    "hash": "26de051ba29f2982a8de78e945f0abaf191376122a1563185a90213a26c5da77"
   }
  }
 },
 "nbformat": 4,
 "nbformat_minor": 2
}
