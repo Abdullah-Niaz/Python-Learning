{
 "cells": [
  {
   "cell_type": "markdown",
   "id": "ec7e7097",
   "metadata": {},
   "source": [
    "# Python Loops\n",
    "\n",
    "\tPython has two primitive loops\n",
    "\t\t* While Loop\n",
    "\t\t* For Loop"
   ]
  },
  {
   "cell_type": "markdown",
   "id": "109eb4fd",
   "metadata": {},
   "source": [
    "## While Loop\n",
    "\tWhile loop can execute the set of statements as long as condition is true.\n",
    "    * Note: remember to increment i, or else the loop will continue forever.\n",
    "    * The while loop requires relevant variables to be ready, in this example we need to define an indexing variable, i, which we set to 1."
   ]
  },
  {
   "cell_type": "code",
   "execution_count": null,
   "id": "1c5e64b7",
   "metadata": {},
   "outputs": [],
   "source": [
    "i = 0 \n",
    "while i < 7:\n",
    "    print(i)\n",
    "    i += 1"
   ]
  },
  {
   "cell_type": "markdown",
   "id": "c6318762",
   "metadata": {},
   "source": [
    "## The Break Statement\n",
    "* With the break statement we can stop the loop even if the while condition is true:"
   ]
  },
  {
   "cell_type": "code",
   "execution_count": null,
   "id": "a15b6d0c",
   "metadata": {},
   "outputs": [],
   "source": [
    "i = 0 \n",
    "while i < 6:\n",
    "    print(i)\n",
    "    if i == 3:\n",
    "        break\n",
    "    i += 1"
   ]
  },
  {
   "cell_type": "markdown",
   "id": "15fd3762",
   "metadata": {},
   "source": [
    "## The Continue Statement\n",
    "* With continue statement we can stop the current iteration and move to the next.\n"
   ]
  },
  {
   "cell_type": "code",
   "execution_count": null,
   "id": "569cda53",
   "metadata": {},
   "outputs": [],
   "source": [
    "i = 0 \n",
    "while i < 6:\n",
    "\ti = i + 1\n",
    "\tif i == 3 :\n",
    "\t\tcontinue\n",
    "\tprint(i)"
   ]
  },
  {
   "cell_type": "markdown",
   "id": "17072a39",
   "metadata": {},
   "source": [
    "## The Else Statement\n",
    "* With the else statement we can run a block of code once when the condition no longer is true:"
   ]
  },
  {
   "cell_type": "code",
   "execution_count": null,
   "id": "341921d0",
   "metadata": {},
   "outputs": [],
   "source": [
    "i = 1\n",
    "while (i < 6):\n",
    "    print(i)\n",
    "    i += 1\n",
    "else:\n",
    "    print(\"i is no longer less then 6\")"
   ]
  }
 ],
 "metadata": {
  "kernelspec": {
   "display_name": "Python 3 (ipykernel)",
   "language": "python",
   "name": "python3"
  },
  "language_info": {
   "codemirror_mode": {
    "name": "ipython",
    "version": 3
   },
   "file_extension": ".py",
   "mimetype": "text/x-python",
   "name": "python",
   "nbconvert_exporter": "python",
   "pygments_lexer": "ipython3",
   "version": "3.11.2"
  }
 },
 "nbformat": 4,
 "nbformat_minor": 5
}
