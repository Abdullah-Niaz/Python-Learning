{
 "cells": [
  {
   "cell_type": "markdown",
   "id": "f30cc8c9",
   "metadata": {},
   "source": [
    "# Python Operators"
   ]
  },
  {
   "cell_type": "markdown",
   "id": "a33035ae",
   "metadata": {},
   "source": [
    "Operators are used to perform operation on variables and values.\n",
    "\n",
    "In this example below, we use + operators to add together two values."
   ]
  },
  {
   "cell_type": "code",
   "execution_count": 1,
   "id": "08dec8ab",
   "metadata": {},
   "outputs": [
    {
     "name": "stdout",
     "output_type": "stream",
     "text": [
      "15\n"
     ]
    }
   ],
   "source": [
    "print(10+5)"
   ]
  },
  {
   "cell_type": "markdown",
   "id": "c4a59556",
   "metadata": {},
   "source": [
    "### Python divides the operators in the following groups:\n",
    "\n",
    "* Arithmetic operators\n",
    "* Assignment operators\n",
    "* Comparison operators\n",
    "* Logical operators\n",
    "* Identity operators\n",
    "* Membership operators\n",
    "* Bitwise operators"
   ]
  },
  {
   "cell_type": "markdown",
   "id": "e32766a0",
   "metadata": {},
   "source": [
    "## Python Arithmetic Operators"
   ]
  },
  {
   "cell_type": "code",
   "execution_count": 7,
   "id": "8e5d8d02",
   "metadata": {},
   "outputs": [
    {
     "name": "stdout",
     "output_type": "stream",
     "text": [
      "Sum of Two is:  15\n",
      "Sub of Two is:  5\n",
      "Mult of Two is:  50\n",
      "Expo of Two is:  100000\n",
      "Divi of Two is:  2.0\n",
      "Floor of Two is:  2\n",
      "Modulus of Two is:  0\n"
     ]
    }
   ],
   "source": [
    "print(\"Sum of Two is: \",10 + 5)   # Addition\n",
    "print(\"Sub of Two is: \",10 - 5)   # Subtraction\n",
    "print(\"Mult of Two is: \",10 * 5)   # Multiplication\n",
    "print(\"Expo of Two is: \",10 ** 5)  # Exponention\n",
    "print(\"Divi of Two is: \",10 / 5)   # Division\n",
    "print(\"Floor of Two is: \",10 // 5)  # Floor Division\n",
    "print(\"Modulus of Two is: \",10 % 5)   # Modlus "
   ]
  },
  {
   "cell_type": "markdown",
   "id": "01b80814",
   "metadata": {},
   "source": [
    "## Python Assignment Operators"
   ]
  },
  {
   "cell_type": "code",
   "execution_count": 20,
   "id": "c2d77c87",
   "metadata": {},
   "outputs": [
    {
     "name": "stdout",
     "output_type": "stream",
     "text": [
      "Value of X:  5\n",
      "Sum and Assiging value:  10\n",
      "Subraction and Assiging value:  5\n",
      "Multiplication and Assiging value:  25\n",
      "Division and Assiging Values:  5.0\n",
      "Floor Division and Assiging Values:  1.0\n",
      "Adding and Assiging Values:  1.0\n"
     ]
    }
   ],
   "source": [
    "x = 5   # Assigning Values\n",
    "print(\"Value of X: \",x)\n",
    "\n",
    "x += 5  # Adding and Assiging Values\n",
    "print(\"Sum and Assiging value: \",x)\n",
    "\n",
    "x -= 5  # Subtraction and Assiging Values\n",
    "print(\"Subraction and Assiging value: \",x)\n",
    "\n",
    "\n",
    "x *= 5  # Multiplication and Assiging Values\n",
    "print(\"Multiplication and Assiging value: \",x)\n",
    "\n",
    "\n",
    "x /= 5  # Division and Assiging Values\n",
    "print(\"Division and Assiging Values: \",x)\n",
    "\n",
    "x //= 5  # Floor Division and Assiging Values\n",
    "print(\"Floor Division and Assiging Values: \",x)\n",
    "\n",
    "x %= 5  # Adding and Assiging Values\n",
    "print(\"Adding and Assiging Values: \",x)\n"
   ]
  },
  {
   "cell_type": "markdown",
   "id": "0c30df27",
   "metadata": {},
   "source": [
    "## Python Comparison Operators"
   ]
  },
  {
   "cell_type": "code",
   "execution_count": 24,
   "id": "4a94b350",
   "metadata": {},
   "outputs": [
    {
     "name": "stdout",
     "output_type": "stream",
     "text": [
      "Equal:  False\n",
      "Not Equal to:  True\n",
      "Greater than:  False\n",
      "Less than:  True\n",
      "Greater than equal to:  False\n",
      "Less than equal to:  True\n"
     ]
    }
   ],
   "source": [
    "x = 5 \n",
    "y = 10\n",
    "\n",
    "print(\"Equal: \",x==y)\n",
    "print(\"Not Equal to: \",x!=y)\n",
    "print(\"Greater than: \", x > y)\n",
    "print(\"Less than: \", x < y)\n",
    "print(\"Greater than equal to: \", x >= y)\n",
    "print(\"Less than equal to: \", x <= y)"
   ]
  },
  {
   "cell_type": "markdown",
   "id": "9021e714",
   "metadata": {},
   "source": [
    "## Python Logical Operators"
   ]
  },
  {
   "cell_type": "code",
   "execution_count": 30,
   "id": "0cb8de12",
   "metadata": {},
   "outputs": [
    {
     "name": "stdout",
     "output_type": "stream",
     "text": [
      "Returns True if both statements are true:  False\n",
      "Returns True if One of statements is true:  True\n",
      "Reverse the result, returns False if the result is true:  True\n"
     ]
    }
   ],
   "source": [
    "x = 10\n",
    "y = 20\n",
    "print(\"Returns True if both statements are true: \",x > y and y > x)\n",
    "print(\"Returns True if One of statements is true: \",x > y or y > x)\n",
    "print(\"Reverse the result, returns False if the result is true: \",not(x > y and y > x))"
   ]
  },
  {
   "cell_type": "markdown",
   "id": "932f96f1",
   "metadata": {},
   "source": [
    "## Python Identity Operators"
   ]
  },
  {
   "cell_type": "code",
   "execution_count": 33,
   "id": "d35d3d36",
   "metadata": {},
   "outputs": [
    {
     "name": "stdout",
     "output_type": "stream",
     "text": [
      "Returns True if both variables are the same object:  False\n",
      "Returns True if both variables are not the same object:  True\n"
     ]
    }
   ],
   "source": [
    "x = 10\n",
    "y = 20\n",
    "print(\"Returns True if both variables are the same object: \",x is y)\n",
    "print(\"Returns True if both variables are not the same object: \",x is not y)"
   ]
  },
  {
   "cell_type": "markdown",
   "id": "e6ac636e",
   "metadata": {},
   "source": [
    "## Python Membership Operators"
   ]
  },
  {
   "cell_type": "code",
   "execution_count": 34,
   "id": "c71cd560",
   "metadata": {},
   "outputs": [
    {
     "name": "stdout",
     "output_type": "stream",
     "text": [
      "True\n"
     ]
    }
   ],
   "source": [
    "x = [\"apple\", \"banana\"]\n",
    "\n",
    "print(\"banana\" in x)\n",
    "\n",
    "# returns True because a sequence with the value \"banana\" is in the list\n"
   ]
  },
  {
   "cell_type": "code",
   "execution_count": 36,
   "id": "560dfe9e",
   "metadata": {},
   "outputs": [
    {
     "name": "stdout",
     "output_type": "stream",
     "text": [
      "True\n"
     ]
    }
   ],
   "source": [
    "x = [\"apple\", \"banana\"]\n",
    "\n",
    "print(\"orange\" not in x)\n",
    "\n",
    "# returns True because a sequence with the value \"pineapple\" is not in the list\n"
   ]
  },
  {
   "cell_type": "markdown",
   "id": "446b6bc5",
   "metadata": {},
   "source": [
    "## Python Bitwise Operators"
   ]
  },
  {
   "cell_type": "code",
   "execution_count": 41,
   "id": "c6164096",
   "metadata": {},
   "outputs": [
    {
     "name": "stdout",
     "output_type": "stream",
     "text": [
      "Bitwise And:  0\n",
      "Bitwise OR:  15\n",
      "Bitwise Xor:  15\n",
      "Left Shift:  0\n",
      "Right Shift:  5120\n",
      "Not Operators:  -6\n",
      "Not Operators:  -11\n"
     ]
    }
   ],
   "source": [
    "x = 5\n",
    "y = 10\n",
    "print(\"Bitwise And: \",x & y)\n",
    "print(\"Bitwise OR: \",x | y)\n",
    "print(\"Bitwise Xor: \",x ^ y)\n",
    "print(\"Left Shift: \",x >> y)\n",
    "print(\"Right Shift: \",x << y)\n",
    "print(\"Not Operators: \",~x)\n",
    "print(\"Not Operators: \",~y)"
   ]
  },
  {
   "cell_type": "markdown",
   "id": "b2317f7a",
   "metadata": {},
   "source": [
    "## Operators Precedence"
   ]
  },
  {
   "cell_type": "markdown",
   "id": "16449517",
   "metadata": {},
   "source": [
    "Operator precedence describes the order in which operations are performed."
   ]
  },
  {
   "cell_type": "code",
   "execution_count": 48,
   "id": "81aed126",
   "metadata": {},
   "outputs": [
    {
     "name": "stdout",
     "output_type": "stream",
     "text": [
      "-10\n",
      "115\n",
      "5\n"
     ]
    }
   ],
   "source": [
    "print((10 + 5 ) - (5 * 5))\n",
    "print(100 + 5 * 3)\n",
    "print(5 + 4 - 7 + 3)"
   ]
  }
 ],
 "metadata": {
  "kernelspec": {
   "display_name": "Python 3 (ipykernel)",
   "language": "python",
   "name": "python3"
  },
  "language_info": {
   "codemirror_mode": {
    "name": "ipython",
    "version": 3
   },
   "file_extension": ".py",
   "mimetype": "text/x-python",
   "name": "python",
   "nbconvert_exporter": "python",
   "pygments_lexer": "ipython3",
   "version": "3.11.2"
  }
 },
 "nbformat": 4,
 "nbformat_minor": 5
}
