{
 "cells": [
  {
   "cell_type": "markdown",
   "id": "f9ba2ef7",
   "metadata": {},
   "source": [
    "# Lists "
   ]
  },
  {
   "cell_type": "markdown",
   "id": "054fd023",
   "metadata": {},
   "source": [
    "Lists are used to store multiple items in a single variable.\n",
    "\n",
    "Lists is built in data type in python which is ued to store collection of data\n"
   ]
  },
  {
   "cell_type": "markdown",
   "id": "f38deb6d",
   "metadata": {},
   "source": [
    "* List are created uing square brackets"
   ]
  },
  {
   "cell_type": "code",
   "execution_count": 4,
   "id": "82ce8dde",
   "metadata": {},
   "outputs": [
    {
     "name": "stdout",
     "output_type": "stream",
     "text": [
      "['Apple', 'Banana', 'Mango']\n"
     ]
    }
   ],
   "source": [
    "mylist = [\"Apple\", \"Banana\", \"Mango\"]\n",
    "print(mylist)"
   ]
  },
  {
   "cell_type": "markdown",
   "id": "903c7357",
   "metadata": {},
   "source": [
    "## Lists items"
   ]
  },
  {
   "cell_type": "markdown",
   "id": "724b6f43",
   "metadata": {},
   "source": [
    "List items are ordered, changeable, and allow duplicate values.\n",
    "\n",
    "Liste items are indexed, the first item has index [0], the second item has index [1] etc "
   ]
  },
  {
   "cell_type": "markdown",
   "id": "87ed5ec8",
   "metadata": {},
   "source": [
    "## Ordered "
   ]
  },
  {
   "cell_type": "markdown",
   "id": "0ec637b5",
   "metadata": {},
   "source": [
    "When we say that lists are ordered, it means that the items have a defined order, and that order will not change.\n",
    "\n",
    "if you add new items to a list, the new items will be placed at the end of the list."
   ]
  },
  {
   "cell_type": "markdown",
   "id": "dbaf92be",
   "metadata": {},
   "source": [
    "## Changeable"
   ]
  },
  {
   "cell_type": "markdown",
   "id": "c1d44e58",
   "metadata": {},
   "source": [
    "The lists item are changeable, we can change, add, remove items in list."
   ]
  },
  {
   "cell_type": "markdown",
   "id": "29bccf33",
   "metadata": {},
   "source": [
    "## Allow Duplicates"
   ]
  },
  {
   "cell_type": "markdown",
   "id": "5e61f5b5",
   "metadata": {},
   "source": [
    "Since lists are indexed, lists can have items with the same values."
   ]
  },
  {
   "cell_type": "code",
   "execution_count": 8,
   "id": "4ba14212",
   "metadata": {},
   "outputs": [
    {
     "name": "stdout",
     "output_type": "stream",
     "text": [
      "['apple', 'banana', 'cherry', 'apple', 'cherry']\n"
     ]
    }
   ],
   "source": [
    "mylist = [\"apple\", \"banana\", \"cherry\", \"apple\", \"cherry\"]\n",
    "print(mylist)"
   ]
  },
  {
   "cell_type": "markdown",
   "id": "c71bebfa",
   "metadata": {},
   "source": [
    "## List Length"
   ]
  },
  {
   "cell_type": "markdown",
   "id": "5c960222",
   "metadata": {},
   "source": [
    "To determine how many items a list has, use the len() function to check:\n",
    "   "
   ]
  },
  {
   "cell_type": "code",
   "execution_count": 11,
   "id": "1b4fd965",
   "metadata": {},
   "outputs": [
    {
     "name": "stdout",
     "output_type": "stream",
     "text": [
      "5\n"
     ]
    }
   ],
   "source": [
    "mylist = [\"apple\", \"banana\", \"cherry\", \"apple\", \"cherry\"]\n",
    "print(len(mylist))"
   ]
  },
  {
   "cell_type": "markdown",
   "id": "757b22fc",
   "metadata": {},
   "source": [
    "## List items - Data Types\n",
    "list items can be of any data type:"
   ]
  },
  {
   "cell_type": "code",
   "execution_count": 17,
   "id": "4eef9e1c",
   "metadata": {},
   "outputs": [
    {
     "name": "stdout",
     "output_type": "stream",
     "text": [
      "['apple', 'banana', 'cherry'] [1, 5, 7, 9, 3] [True, False, False] ['abc', 34, True, 40, 'male']\n",
      "<class 'list'>\n",
      "<class 'list'>\n",
      "<class 'list'>\n",
      "<class 'list'>\n"
     ]
    }
   ],
   "source": [
    "list1 = [\"apple\", \"banana\", \"cherry\"]\n",
    "list2 = [1, 5, 7, 9, 3]\n",
    "list3 = [True, False, False]\n",
    "list4 = [\"abc\", 34, True, 40, \"male\"]\n",
    "\n",
    "print(list1,list2,list3,list4)\n",
    "print(type(list1))\n",
    "print(type(list2))\n",
    "print(type(list3))\n",
    "print(type(list4))"
   ]
  },
  {
   "cell_type": "markdown",
   "id": "35952629",
   "metadata": {},
   "source": [
    "## List Constructor\n",
    "It is also possible to use the list() constructor when creating a new list."
   ]
  },
  {
   "cell_type": "code",
   "execution_count": 21,
   "id": "d6f27876",
   "metadata": {},
   "outputs": [
    {
     "name": "stdout",
     "output_type": "stream",
     "text": [
      "('apple', 'banana', 'mango')\n",
      "<class 'tuple'>\n",
      "['apple', 'banana', 'mango']\n",
      "<class 'list'>\n"
     ]
    }
   ],
   "source": [
    "mytuple = (\"apple\",\"banana\",\"mango\")\n",
    "print(mytuple)\n",
    "print(type(mytuple))\n",
    "mylist = list(mytuple)\n",
    "print(mylist)\n",
    "print(type(mylist))"
   ]
  }
 ],
 "metadata": {
  "kernelspec": {
   "display_name": "Python 3 (ipykernel)",
   "language": "python",
   "name": "python3"
  },
  "language_info": {
   "codemirror_mode": {
    "name": "ipython",
    "version": 3
   },
   "file_extension": ".py",
   "mimetype": "text/x-python",
   "name": "python",
   "nbconvert_exporter": "python",
   "pygments_lexer": "ipython3",
   "version": "3.11.2"
  }
 },
 "nbformat": 4,
 "nbformat_minor": 5
}
