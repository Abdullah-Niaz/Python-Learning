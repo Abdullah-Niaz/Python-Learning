{
 "cells": [
  {
   "cell_type": "markdown",
   "id": "ad2b98f4",
   "metadata": {},
   "source": [
    "# Tuples "
   ]
  },
  {
   "cell_type": "markdown",
   "id": "099921a6",
   "metadata": {},
   "source": [
    "* Tuples are used to store mulitple items in a single variable.\n",
    "* A tuple is collection which is ordered and unchangeable."
   ]
  },
  {
   "cell_type": "code",
   "execution_count": 26,
   "id": "4dcb018a",
   "metadata": {},
   "outputs": [
    {
     "data": {
      "text/plain": [
       "('hello', 'world', 1, 2, 3, 33.3)"
      ]
     },
     "execution_count": 26,
     "metadata": {},
     "output_type": "execute_result"
    }
   ],
   "source": [
    "tuple1 = (\"hello\", \"world\",1,2,3,33.3)\n",
    "tuple1"
   ]
  },
  {
   "cell_type": "markdown",
   "id": "975897f3",
   "metadata": {},
   "source": [
    "## Tuple items\n",
    "* Tuples items are ordered, unchangeable, and allow duplicated values.\n",
    "* Tuple items are indexed, the first item has index [0], seond item has  index [1] etc."
   ]
  },
  {
   "cell_type": "code",
   "execution_count": 28,
   "id": "93e44e48",
   "metadata": {},
   "outputs": [
    {
     "data": {
      "text/plain": [
       "'hello'"
      ]
     },
     "execution_count": 28,
     "metadata": {},
     "output_type": "execute_result"
    }
   ],
   "source": [
    "tuple1[0]"
   ]
  },
  {
   "cell_type": "markdown",
   "id": "84324a86",
   "metadata": {},
   "source": [
    "## Ordered \n",
    "* When we say, tuple items are ordered mean, items have a defined order. and that order will not change."
   ]
  },
  {
   "cell_type": "markdown",
   "id": "ee2dbae3",
   "metadata": {},
   "source": [
    "## Unchangeable\n",
    "\n",
    "* Tuples are unchangeable, mean once tuple is declared we can't change it"
   ]
  },
  {
   "cell_type": "markdown",
   "id": "19a57abb",
   "metadata": {},
   "source": [
    "## Allow Duplicated\n",
    "\n",
    "* Tuples are indexed, they can have items with the same values."
   ]
  },
  {
   "cell_type": "code",
   "execution_count": 29,
   "id": "8b33ce7b",
   "metadata": {},
   "outputs": [
    {
     "name": "stdout",
     "output_type": "stream",
     "text": [
      "('apple', 'banana', 'cherry', 'apple', 'cherry')\n"
     ]
    }
   ],
   "source": [
    "thistuple = (\"apple\", \"banana\", \"cherry\", \"apple\", \"cherry\")\n",
    "print(thistuple)"
   ]
  },
  {
   "cell_type": "markdown",
   "id": "5d22c877",
   "metadata": {},
   "source": [
    "## Tuple Length\n",
    "\n",
    "* To check the length of the tuple use len() function"
   ]
  },
  {
   "cell_type": "code",
   "execution_count": 32,
   "id": "88d0fd4b",
   "metadata": {},
   "outputs": [
    {
     "data": {
      "text/plain": [
       "5"
      ]
     },
     "execution_count": 32,
     "metadata": {},
     "output_type": "execute_result"
    }
   ],
   "source": [
    "len(thistuple)"
   ]
  },
  {
   "cell_type": "markdown",
   "id": "31944dcb",
   "metadata": {},
   "source": [
    "## Create Tuple With One Item\n",
    "* If you will create tuple with one item, you have to put comma after the one item.\n",
    "* Otherwise python interpreter will take it as string"
   ]
  },
  {
   "cell_type": "code",
   "execution_count": 31,
   "id": "d4c8d343",
   "metadata": {},
   "outputs": [
    {
     "name": "stdout",
     "output_type": "stream",
     "text": [
      "<class 'tuple'>\n",
      "<class 'str'>\n"
     ]
    }
   ],
   "source": [
    "thistuple = (\"apple\",)\n",
    "print(type(thistuple))\n",
    "\n",
    "#NOT a tuple\n",
    "thistuple = (\"apple\")\n",
    "print(type(thistuple))"
   ]
  },
  {
   "cell_type": "markdown",
   "id": "3bb9de1b",
   "metadata": {},
   "source": [
    "## Tuple Items - Data Tupes\n",
    "\n",
    "* Tuple can be of any data tupe."
   ]
  },
  {
   "cell_type": "code",
   "execution_count": 42,
   "id": "1529d111",
   "metadata": {},
   "outputs": [
    {
     "name": "stdout",
     "output_type": "stream",
     "text": [
      "('apple', 'banana', 'cherry')\n",
      "(1, 5, 7, 9, 3)\n",
      "(True, False, False)\n",
      "('abc', 34, True, 40, 'male')\n",
      "===============\n",
      "<class 'tuple'>\n",
      "<class 'tuple'>\n",
      "<class 'tuple'>\n",
      "<class 'tuple'>\n"
     ]
    }
   ],
   "source": [
    "tuple1 = (\"apple\", \"banana\", \"cherry\")\n",
    "tuple2 = (1, 5, 7, 9, 3)\n",
    "tuple3 = (True, False, False)\n",
    "tuple4 = (\"abc\", 34, True, 40, \"male\") # Tuple can have multiple data types\n",
    "\n",
    "print(tuple1)\n",
    "print(tuple2)\n",
    "print(tuple3)\n",
    "print(tuple4)\n",
    "print(\"===============\")\n",
    "print(type(tuple1))\n",
    "print(type(tuple2))\n",
    "print(type(tuple3))\n",
    "print(type(tuple4))"
   ]
  },
  {
   "cell_type": "markdown",
   "id": "a81783c5",
   "metadata": {},
   "source": [
    "## Tuple Constructur"
   ]
  },
  {
   "cell_type": "code",
   "execution_count": 46,
   "id": "5642d34d",
   "metadata": {},
   "outputs": [
    {
     "data": {
      "text/plain": [
       "(1, 2, 3, 4, 5)"
      ]
     },
     "execution_count": 46,
     "metadata": {},
     "output_type": "execute_result"
    }
   ],
   "source": [
    "thistuple = tuple([1,2,3,4,5])\n",
    "thistuple"
   ]
  }
 ],
 "metadata": {
  "kernelspec": {
   "display_name": "Python 3 (ipykernel)",
   "language": "python",
   "name": "python3"
  },
  "language_info": {
   "codemirror_mode": {
    "name": "ipython",
    "version": 3
   },
   "file_extension": ".py",
   "mimetype": "text/x-python",
   "name": "python",
   "nbconvert_exporter": "python",
   "pygments_lexer": "ipython3",
   "version": "3.11.2"
  }
 },
 "nbformat": 4,
 "nbformat_minor": 5
}
