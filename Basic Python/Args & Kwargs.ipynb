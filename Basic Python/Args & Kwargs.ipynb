{
 "cells": [
  {
   "cell_type": "code",
   "execution_count": 14,
   "id": "25fff47a-0a42-4a1a-b0ec-e314a8d4fe4e",
   "metadata": {},
   "outputs": [
    {
     "name": "stdout",
     "output_type": "stream",
     "text": [
      "Your Ordered a Large Pizza: \n",
      " - large\n",
      "You Ordered a Pizaa with toping:\n",
      "-oliva\n",
      "-pioneer\n",
      "{'delivery': True, 'Tip': 5}\n",
      "Details of the items are: \n",
      "- delivery: True\n",
      "- Tip: 5\n"
     ]
    }
   ],
   "source": [
    "def pizza(size,*toping,**details):\n",
    "    print(\"Your Ordered a Large Pizza: \\n -\",size)\n",
    "    print(\"You Ordered a Pizaa with toping:\")\n",
    "    for top in toping:\n",
    "        print(f\"-{top}\")\n",
    "    print(details)\n",
    "    print(\"Details of the items are: \")\n",
    "    for key,value in details.items():\n",
    "        print(f\"- {key}: {value}\")\n",
    "\n",
    "pizza(\"large\",\"oliva\",\"pioneer\",delivery=True, Tip = 5)"
   ]
  },
  {
   "cell_type": "code",
   "execution_count": null,
   "id": "7162dd6e-e4fc-41cc-8fa7-baea7e70674c",
   "metadata": {},
   "outputs": [],
   "source": []
  }
 ],
 "metadata": {
  "kernelspec": {
   "display_name": "Python 3 (ipykernel)",
   "language": "python",
   "name": "python3"
  },
  "language_info": {
   "codemirror_mode": {
    "name": "ipython",
    "version": 3
   },
   "file_extension": ".py",
   "mimetype": "text/x-python",
   "name": "python",
   "nbconvert_exporter": "python",
   "pygments_lexer": "ipython3",
   "version": "3.11.4"
  }
 },
 "nbformat": 4,
 "nbformat_minor": 5
}
