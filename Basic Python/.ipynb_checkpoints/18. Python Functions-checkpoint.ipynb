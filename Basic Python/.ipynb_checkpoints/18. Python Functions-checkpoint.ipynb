{
 "cells": [
  {
   "cell_type": "markdown",
   "id": "a64c91a2",
   "metadata": {},
   "source": [
    "## Python Functions\n",
    "\n",
    "* In Python, a function is a block of reusable code that performs a specific task. Functions help to organize code into modular, reusable components, which can improve the readability, maintainability, and scalability of a program. Here are some key features of Python functions:\n",
    "\n",
    "1. Syntax: The basic syntax for defining a function in Python is as follows:\n",
    "\t\t\tdef function_name(parameters):\n",
    "                \t  \"\"\"Docstring\"\"\"\n",
    " \t\t\t  \t\t  # function code\n",
    "    \t\t\t      return output\n"
   ]
  }
 ],
 "metadata": {
  "kernelspec": {
   "display_name": "Python 3 (ipykernel)",
   "language": "python",
   "name": "python3"
  },
  "language_info": {
   "codemirror_mode": {
    "name": "ipython",
    "version": 3
   },
   "file_extension": ".py",
   "mimetype": "text/x-python",
   "name": "python",
   "nbconvert_exporter": "python",
   "pygments_lexer": "ipython3",
   "version": "3.11.2"
  }
 },
 "nbformat": 4,
 "nbformat_minor": 5
}
