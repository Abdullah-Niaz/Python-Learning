{
 "cells": [
  {
   "cell_type": "markdown",
   "id": "65cf65e1",
   "metadata": {},
   "source": [
    "# Datetime\n",
    "\n",
    "Python datetime is a module that provides classes to work with dates, times, and time intervals. It defines several classes, including date, time, datetime, timedelta, tzinfo, and timezone.\n",
    "\n",
    "#### Here is an example of using datetime module to get the current date and time:"
   ]
  },
  {
   "cell_type": "code",
   "execution_count": 2,
   "id": "1f4c9503",
   "metadata": {},
   "outputs": [
    {
     "name": "stdout",
     "output_type": "stream",
     "text": [
      "Current date and time is: 2023-04-15 01:49:07.620748\n"
     ]
    }
   ],
   "source": [
    "import datetime\n",
    "\n",
    "# Get the current date and time\n",
    "now = datetime.datetime.now()\n",
    "\n",
    "# Print the current date and time\n",
    "print(\"Current date and time is:\", now)\n"
   ]
  },
  {
   "cell_type": "markdown",
   "id": "0b160870",
   "metadata": {},
   "source": [
    "##### This will output something like:\n",
    "    \n",
    "Current date and time is: 2023-04-15 10:30:00.123456"
   ]
  },
  {
   "cell_type": "markdown",
   "id": "65b0b33d",
   "metadata": {},
   "source": [
    "You can also create datetime objects by specifying the year, month, day, hour, minute, second, and microsecond:"
   ]
  },
  {
   "cell_type": "code",
   "execution_count": 4,
   "id": "a676c535",
   "metadata": {},
   "outputs": [
    {
     "name": "stdout",
     "output_type": "stream",
     "text": [
      "2023-04-15 10:30:00.123456\n"
     ]
    }
   ],
   "source": [
    "# Create a datetime object\n",
    "dt = datetime.datetime(2023, 4, 15, 10, 30, 0, 123456)\n",
    "\n",
    "# Print the datetime object\n",
    "print(dt)"
   ]
  },
  {
   "cell_type": "markdown",
   "id": "a4850160",
   "metadata": {},
   "source": [
    "##### This will output:\n",
    "   \n",
    "2023-04-15 10:30:00.123456"
   ]
  },
  {
   "cell_type": "markdown",
   "id": "859c73d2",
   "metadata": {},
   "source": [
    "You can perform arithmetic operations with datetime objects using the timedelta class:"
   ]
  },
  {
   "cell_type": "code",
   "execution_count": 6,
   "id": "3a167812",
   "metadata": {},
   "outputs": [
    {
     "name": "stdout",
     "output_type": "stream",
     "text": [
      "2023-04-16 10:30:00.123456\n"
     ]
    }
   ],
   "source": [
    "# Create a timedelta object representing 1 day\n",
    "delta = datetime.timedelta(days=1)\n",
    "\n",
    "# Add 1 day to the datetime object\n",
    "new_dt = dt + delta\n",
    "\n",
    "# Print the new datetime object\n",
    "print(new_dt)"
   ]
  },
  {
   "cell_type": "markdown",
   "id": "f96da3f2",
   "metadata": {},
   "source": [
    "##### This will output:\n",
    "\n",
    "2023-04-16 10:30:00.123456"
   ]
  },
  {
   "cell_type": "markdown",
   "id": "1ce3f4db",
   "metadata": {},
   "source": [
    "##### These are just some of the basic examples of using the datetime module in Python. There are many more features and capabilities available in this powerful module.\n",
    "\n",
    "### https://www.w3schools.com/python/python_datetime.asp"
   ]
  }
 ],
 "metadata": {
  "kernelspec": {
   "display_name": "Python 3 (ipykernel)",
   "language": "python",
   "name": "python3"
  },
  "language_info": {
   "codemirror_mode": {
    "name": "ipython",
    "version": 3
   },
   "file_extension": ".py",
   "mimetype": "text/x-python",
   "name": "python",
   "nbconvert_exporter": "python",
   "pygments_lexer": "ipython3",
   "version": "3.11.2"
  }
 },
 "nbformat": 4,
 "nbformat_minor": 5
}
