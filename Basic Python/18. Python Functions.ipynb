{
 "cells": [
  {
   "cell_type": "markdown",
   "id": "f6eb90e5",
   "metadata": {},
   "source": [
    "## Python Functions\n",
    "\n",
    "* In Python, a function is a block of reusable code that performs a specific task. Functions help to organize code into modular, reusable components, which can improve the readability, maintainability, and scalability of a program. Here are some key features of Python functions:\n",
    "\n",
    "1. **Syntax:** The basic syntax for defining a function in Python is as follows:"
   ]
  },
  {
   "cell_type": "code",
   "execution_count": 5,
   "id": "7dbbfe46",
   "metadata": {},
   "outputs": [],
   "source": [
    "def function_name(parameters):\n",
    "    \"\"\"Docstring\"\"\"\n",
    "    # function code\n",
    "    return output"
   ]
  },
  {
   "cell_type": "markdown",
   "id": "b1d90362",
   "metadata": {},
   "source": [
    "2. **Parameters:** Parameters are inputs to a function, which can be used to perform calculations or operations. Functions can have zero or more parameters, which are defined inside the parentheses of the function definition.\n",
    "\n",
    "3. **Docstrings:** Docstrings are used to provide documentation for a function, which describes its purpose, inputs, and outputs. Docstrings are enclosed in triple quotes (\"\"\" \"\"\") and appear immediately after the function definition.\n",
    "\n",
    "4. **Return Values:** Functions can return output values, which are used to pass data back to the calling code. Return values are defined using the return keyword and can be of any data type.\n",
    "\n",
    "Here is an example of a simple function in Python that takes two parameters (x and y) and returns their sum:"
   ]
  },
  {
   "cell_type": "code",
   "execution_count": 6,
   "id": "98305b40",
   "metadata": {},
   "outputs": [],
   "source": [
    "def add_numbers(x, y):\n",
    "    \"\"\"This function adds two numbers\"\"\"\n",
    "    sum = x + y\n",
    "    return sum"
   ]
  },
  {
   "cell_type": "markdown",
   "id": "295bf26a",
   "metadata": {},
   "source": [
    "To use this function, you can call it and pass in the required parameters:"
   ]
  },
  {
   "cell_type": "code",
   "execution_count": 9,
   "id": "6ddf25fc",
   "metadata": {},
   "outputs": [
    {
     "name": "stdout",
     "output_type": "stream",
     "text": [
      "15\n"
     ]
    }
   ],
   "source": [
    "result = add_numbers(5, 10)\n",
    "print(result)  # Output: 15"
   ]
  },
  {
   "cell_type": "markdown",
   "id": "102220fb",
   "metadata": {},
   "source": [
    "Functions are an important part of Python programming and are used extensively in many applications, including web development, data analysis, and machine learning."
   ]
  },
  {
   "cell_type": "markdown",
   "id": "41cdb20d",
   "metadata": {},
   "source": [
    "## In Details Functions"
   ]
  },
  {
   "cell_type": "markdown",
   "id": "fff53ef8",
   "metadata": {},
   "source": [
    "### Creating a Function\n",
    "\n",
    "* In python a function is defined using the def keyword"
   ]
  },
  {
   "cell_type": "code",
   "execution_count": 12,
   "id": "b89e8caa",
   "metadata": {},
   "outputs": [],
   "source": [
    "def my_function():\n",
    "    print('hello world')"
   ]
  },
  {
   "cell_type": "markdown",
   "id": "6caa3533",
   "metadata": {},
   "source": [
    "### Calling a Functions\n",
    "\n",
    "* To call a function, use the function name written after the parenthesis."
   ]
  },
  {
   "cell_type": "code",
   "execution_count": 16,
   "id": "98316883",
   "metadata": {},
   "outputs": [
    {
     "name": "stdout",
     "output_type": "stream",
     "text": [
      "Hello from a I am function 😋\n"
     ]
    }
   ],
   "source": [
    "def my_function():\n",
    "  print(\"Hello from a I am function 😋\")\n",
    "\n",
    "my_function()"
   ]
  },
  {
   "cell_type": "markdown",
   "id": "d64cbe41",
   "metadata": {},
   "source": [
    "### Arguments"
   ]
  },
  {
   "cell_type": "markdown",
   "id": "22e76909",
   "metadata": {},
   "source": [
    "**In Python, arguments are inputs or values that are passed into a function when it is called. There are two main types of arguments in Python: positional arguments and keyword arguments.**\n",
    "\n",
    "1. **Positional Arguments:** Positional arguments are the most basic type of arguments in Python. They are passed to a function in the order in which they are defined in the function definition. For example, in the following function definition, x and y are positional arguments:"
   ]
  },
  {
   "cell_type": "code",
   "execution_count": 19,
   "id": "c00ec470",
   "metadata": {},
   "outputs": [],
   "source": [
    "def add_numbers(x, y):\n",
    "    sum = x + y\n",
    "    return sum"
   ]
  },
  {
   "cell_type": "markdown",
   "id": "473d6546",
   "metadata": {},
   "source": [
    "When this function is called, the values of x and y are passed as positional arguments in the same order:"
   ]
  },
  {
   "cell_type": "code",
   "execution_count": 22,
   "id": "bde34fab",
   "metadata": {},
   "outputs": [
    {
     "data": {
      "text/plain": [
       "15"
      ]
     },
     "execution_count": 22,
     "metadata": {},
     "output_type": "execute_result"
    }
   ],
   "source": [
    "result = add_numbers(5, 10)\n",
    "result"
   ]
  },
  {
   "cell_type": "markdown",
   "id": "8737230c",
   "metadata": {},
   "source": [
    "2. **Keyword Arguments:** Keyword arguments are passed to a function using the name of the parameter as a keyword. Keyword arguments are useful when you want to pass values in a different order than the one defined in the function definition or when you want to pass only some of the arguments. For example, in the following function definition, x and y are keyword arguments:"
   ]
  },
  {
   "cell_type": "code",
   "execution_count": 23,
   "id": "259762ed",
   "metadata": {},
   "outputs": [],
   "source": [
    "def add_numbers(x, y):\n",
    "    sum = x + y\n",
    "    return sum\n"
   ]
  },
  {
   "cell_type": "markdown",
   "id": "266ea4e2",
   "metadata": {},
   "source": [
    "When this function is called, you can pass x and y as keyword arguments:"
   ]
  },
  {
   "cell_type": "code",
   "execution_count": 25,
   "id": "529f1b78",
   "metadata": {},
   "outputs": [
    {
     "data": {
      "text/plain": [
       "15"
      ]
     },
     "execution_count": 25,
     "metadata": {},
     "output_type": "execute_result"
    }
   ],
   "source": [
    "result = add_numbers(x=5, y=10)\n",
    "result"
   ]
  },
  {
   "cell_type": "markdown",
   "id": "00a00d7b",
   "metadata": {},
   "source": [
    "You can also mix positional and keyword arguments in a function call:"
   ]
  },
  {
   "cell_type": "code",
   "execution_count": 29,
   "id": "1d8b1160",
   "metadata": {},
   "outputs": [
    {
     "data": {
      "text/plain": [
       "25"
      ]
     },
     "execution_count": 29,
     "metadata": {},
     "output_type": "execute_result"
    }
   ],
   "source": [
    "result = add_numbers(5, y=20)\n",
    "result"
   ]
  },
  {
   "cell_type": "markdown",
   "id": "9a4ae380",
   "metadata": {},
   "source": [
    "Python also allows you to specify default values for parameters, which can be used when no argument is passed for that parameter:"
   ]
  },
  {
   "cell_type": "code",
   "execution_count": 31,
   "id": "02ab4c35",
   "metadata": {},
   "outputs": [],
   "source": [
    "def add_numbers(x, y=10):\n",
    "    sum = x + y\n",
    "    return sum"
   ]
  },
  {
   "cell_type": "markdown",
   "id": "7e8811b9",
   "metadata": {},
   "source": [
    "When this function is called with only one argument, the default value for y will be used"
   ]
  },
  {
   "cell_type": "code",
   "execution_count": 38,
   "id": "bc93a1f3",
   "metadata": {},
   "outputs": [
    {
     "data": {
      "text/plain": [
       "60"
      ]
     },
     "execution_count": 38,
     "metadata": {},
     "output_type": "execute_result"
    }
   ],
   "source": [
    "result = add_numbers(50)\n",
    "result"
   ]
  },
  {
   "cell_type": "markdown",
   "id": "bfd16eb9",
   "metadata": {},
   "source": [
    "In summary, arguments are inputs or values that are passed to a function when it is called. Python supports two main types of arguments: positional arguments and keyword arguments."
   ]
  },
  {
   "cell_type": "markdown",
   "id": "611ca399",
   "metadata": {},
   "source": [
    "## Arbitrary Arguments"
   ]
  },
  {
   "cell_type": "markdown",
   "id": "462d4e34",
   "metadata": {},
   "source": [
    "In Python, arbitrary arguments allow you to pass a variable number of arguments to a function. This is useful when you don't know how many arguments will be passed to a function at the time of its definition. There are two types of arbitrary arguments in Python: *args and **kwargs.\n",
    "\n",
    "1. ***args:** The *args syntax allows you to pass a variable number of positional arguments to a function. When you use *args in a function definition, it collects all the positional arguments passed to the function into a tuple. Here is an example:"
   ]
  },
  {
   "cell_type": "code",
   "execution_count": 53,
   "id": "68feeaf9",
   "metadata": {},
   "outputs": [
    {
     "name": "stdout",
     "output_type": "stream",
     "text": [
      "15\n"
     ]
    }
   ],
   "source": [
    "def add_numbers(*args):\n",
    "    sum = 0\n",
    "    for arg in args:\n",
    "        sum += arg\n",
    "    return sum\n",
    "\n",
    "result = add_numbers(1, 2, 3, 4, 5)\n",
    "print(result) # Output: 15"
   ]
  },
  {
   "cell_type": "code",
   "execution_count": 55,
   "id": "3f1f7fef",
   "metadata": {},
   "outputs": [
    {
     "name": "stdout",
     "output_type": "stream",
     "text": [
      "This is my:  2\n"
     ]
    }
   ],
   "source": [
    "def foo(*no):\n",
    "    print(\"This is my: \",no[1])\n",
    "\n",
    "n = foo(1,2,4,5)"
   ]
  },
  {
   "cell_type": "markdown",
   "id": "ba47df8d",
   "metadata": {},
   "source": [
    "2. ****kwargs:** The **kwargs syntax allows you to pass a variable number of keyword arguments to a function. When you use **kwargs in a function definition, it collects all the keyword arguments passed to the function into a dictionary. Here is an example:"
   ]
  },
  {
   "cell_type": "code",
   "execution_count": 52,
   "id": "5e1f4263",
   "metadata": {},
   "outputs": [
    {
     "name": "stdout",
     "output_type": "stream",
     "text": [
      "name: John\n",
      "age: 30\n",
      "city: New York\n"
     ]
    }
   ],
   "source": [
    "def print_info(**kwargs):\n",
    "    for key, value in kwargs.items():\n",
    "        print(key + \": \" + str(value))\n",
    "\n",
    "print_info(name=\"John\", age=30, city=\"New York\")\n"
   ]
  },
  {
   "cell_type": "code",
   "execution_count": 46,
   "id": "83e5b459",
   "metadata": {},
   "outputs": [
    {
     "name": "stdout",
     "output_type": "stream",
     "text": [
      "Positional arguments:\n",
      "1\n",
      "2\n",
      "3\n",
      "Keyword arguments:\n",
      "a: apple\n",
      "b: banana\n",
      "c: cherry\n"
     ]
    }
   ],
   "source": [
    "def foo(*args, **kwargs):\n",
    "    print(\"Positional arguments:\")\n",
    "    for arg in args:\n",
    "        print(arg)\n",
    "    print(\"Keyword arguments:\")\n",
    "    for key, value in kwargs.items():\n",
    "        print(key + \": \" + str(value))\n",
    "\n",
    "foo(1, 2, 3, a='apple', b='banana', c='cherry')\n"
   ]
  },
  {
   "cell_type": "code",
   "execution_count": 56,
   "id": "13a8cd53",
   "metadata": {},
   "outputs": [
    {
     "name": "stdout",
     "output_type": "stream",
     "text": [
      "The youngest child is Emil\n"
     ]
    }
   ],
   "source": [
    "def my_function(**kids):\n",
    "  print(\"The youngest child is \" + kids[\"e\"])\n",
    "\n",
    "my_function(e=\"Emil\", b=\"Tobias\", c=\"Linus\")"
   ]
  }
 ],
 "metadata": {
  "kernelspec": {
   "display_name": "Python 3 (ipykernel)",
   "language": "python",
   "name": "python3"
  },
  "language_info": {
   "codemirror_mode": {
    "name": "ipython",
    "version": 3
   },
   "file_extension": ".py",
   "mimetype": "text/x-python",
   "name": "python",
   "nbconvert_exporter": "python",
   "pygments_lexer": "ipython3",
   "version": "3.11.2"
  }
 },
 "nbformat": 4,
 "nbformat_minor": 5
}
