{
 "cells": [
  {
   "attachments": {},
   "cell_type": "markdown",
   "metadata": {},
   "source": [
    "## Python File Handling\n",
    "\n",
    "File handling in Python refers to the process of working with files on a computer system. It involves creating, reading, updating, and deleting files using Python code.\n",
    "\n",
    "In Python, the built-in open() function is used to open a file and return a file object, which can be used to read or write data to the file. The open() function takes two arguments: the name of the file and the mode in which the file should be opened.\n",
    "\n",
    "The different modes in which a file can be opened include:\n",
    "\n",
    "1. 'r' – Read mode, used for reading data from a file (default mode)\n",
    "2. 'w' – Write mode, used for writing data to a file. It overwrites the file if it already exists, and creates a new file if it doesn't exist.\n",
    "3. 'a' – Append mode, used for appending data to an existing file.\n",
    "4. 'x' – Exclusive mode, used for creating a new file. It raises an error if the file already exists.\n",
    "5. 'b' – Binary mode, used for working with binary data.\n",
    "6. 't' – Text mode, used for working with text data (default mode)\n",
    "\n",
    "\n",
    "Once a file has been opened, you can use methods like read(), write(), and close() to read from, write to, and close the file, respectively. It's important to remember to always close the file after you're done working with it, to free up system resources.\n",
    "\n",
    "**Here's an example of reading data from a file using Python:**"
   ]
  },
  {
   "cell_type": "code",
   "execution_count": 4,
   "metadata": {},
   "outputs": [
    {
     "name": "stdout",
     "output_type": "stream",
     "text": [
      "lorum ipsum\n",
      "\n"
     ]
    }
   ],
   "source": [
    "# Open the file in read mode\n",
    "file = open(\"demofile.txt\", \"r\")\n",
    "\n",
    "# Read the contents of the file\n",
    "contents = file.read()\n",
    "\n",
    "# Print the contents of the file\n",
    "print(contents)\n",
    "\n",
    "# Close the file\n",
    "file.close()\n"
   ]
  },
  {
   "cell_type": "markdown",
   "metadata": {},
   "source": [
    "This is just a basic example; there are many more operations you can perform on files using Python.\n",
    "\n",
    "\n",
    "\n"
   ]
  },
  {
   "cell_type": "code",
   "execution_count": 1,
   "metadata": {},
   "outputs": [
    {
     "data": {
      "text/plain": [
       "'Hello world'"
      ]
     },
     "execution_count": 1,
     "metadata": {},
     "output_type": "execute_result"
    }
   ],
   "source": [
    "# Open the file in write mod\n",
    "file = open(\"demofile.txt\", \"w\")\n",
    "file.write(\"Hello world\")\n",
    "file.close()\n",
    "\n",
    "file = open(\"demofile.txt\",\"r\")\n",
    "file.read()"
   ]
  },
  {
   "cell_type": "code",
   "execution_count": 67,
   "metadata": {},
   "outputs": [
    {
     "data": {
      "text/plain": [
       "'This is my demo file which i have created to append my text in the file '"
      ]
     },
     "execution_count": 67,
     "metadata": {},
     "output_type": "execute_result"
    }
   ],
   "source": [
    "file2 = open(\"demofile2.txt\",\"w\")\n",
    "file2.write(\"This is my demo file which i have created to append my text in the file \")\n",
    "file2.close()\n",
    "\n",
    "file2 =open(\"demofile2.txt\",\"r\")\n",
    "file2.read()\n"
   ]
  }
 ],
 "metadata": {
  "kernelspec": {
   "display_name": "Python 3",
   "language": "python",
   "name": "python3"
  },
  "language_info": {
   "codemirror_mode": {
    "name": "ipython",
    "version": 3
   },
   "file_extension": ".py",
   "mimetype": "text/x-python",
   "name": "python",
   "nbconvert_exporter": "python",
   "pygments_lexer": "ipython3",
   "version": "3.11.2"
  },
  "orig_nbformat": 4
 },
 "nbformat": 4,
 "nbformat_minor": 2
}
