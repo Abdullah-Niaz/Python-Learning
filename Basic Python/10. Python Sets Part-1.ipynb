{
 "cells": [
  {
   "cell_type": "markdown",
   "id": "cc2b0117",
   "metadata": {},
   "source": [
    "# Set\n",
    "\n",
    "* Sets are used to store multiple items in single varaible.\n",
    "* Set is a collection which is unordered, unchangeable, and uindexed.\n",
    "* Sets are Written inside brackets."
   ]
  },
  {
   "cell_type": "code",
   "execution_count": 2,
   "id": "4a3841ac",
   "metadata": {},
   "outputs": [
    {
     "data": {
      "text/plain": [
       "{'Aple', 'Banana', 'Cherry', 'Mango'}"
      ]
     },
     "execution_count": 2,
     "metadata": {},
     "output_type": "execute_result"
    }
   ],
   "source": [
    "my_set = {\"Aple\",\"Banana\",\"Cherry\",\"Mango\"}\n",
    "my_set"
   ]
  },
  {
   "cell_type": "markdown",
   "id": "c7aede62",
   "metadata": {},
   "source": [
    "## Set Items\n",
    "* Set items are unordered, unchangeable, and do not allow duplicate values.\n",
    "\n",
    "## Unordered\n",
    "\n",
    "* Unordered means that the items in a set do not have a defined order.\n",
    "\n",
    "* Set items can appear in a different order every time you use them, and cannot be referred to by index or key.\n",
    "\n",
    "## Unchangeable\n",
    "* Set items are unchangeable, meaning that we cannot change the items after the set has been created.\n"
   ]
  },
  {
   "cell_type": "code",
   "execution_count": 4,
   "id": "5ead3f77",
   "metadata": {},
   "outputs": [
    {
     "name": "stdout",
     "output_type": "stream",
     "text": [
      "{'banana', 'cherry', 'apple'}\n"
     ]
    }
   ],
   "source": [
    "# Duplicates Not Allowed\n",
    "thisset = {\"apple\", \"banana\", \"cherry\", \"apple\"}\n",
    "print(thisset)"
   ]
  },
  {
   "cell_type": "code",
   "execution_count": 6,
   "id": "1771a80a",
   "metadata": {},
   "outputs": [
    {
     "name": "stdout",
     "output_type": "stream",
     "text": [
      "{True, 2, 'apple', 'banana', 'cherry'}\n"
     ]
    }
   ],
   "source": [
    "thisset = {\"apple\", \"banana\", \"cherry\", True, 1, 2} # value True and 1 is same\n",
    "print(thisset)"
   ]
  },
  {
   "cell_type": "markdown",
   "id": "23b1ec9d",
   "metadata": {},
   "source": [
    "## Length\n",
    "\n",
    "* Get the length of the set using the len() function."
   ]
  },
  {
   "cell_type": "code",
   "execution_count": 7,
   "id": "9e66839d",
   "metadata": {},
   "outputs": [
    {
     "name": "stdout",
     "output_type": "stream",
     "text": [
      "3\n"
     ]
    }
   ],
   "source": [
    "thisset = {\"apple\", \"banana\", \"cherry\"}\n",
    "\n",
    "print(len(thisset))"
   ]
  },
  {
   "cell_type": "markdown",
   "id": "9c1e5aa6",
   "metadata": {},
   "source": [
    "## Set Items - Data Types\n",
    "\n",
    "* Set items can be of any data type:"
   ]
  },
  {
   "cell_type": "code",
   "execution_count": 10,
   "id": "54bd3950",
   "metadata": {},
   "outputs": [
    {
     "name": "stdout",
     "output_type": "stream",
     "text": [
      "{'banana', 'cherry', 'apple'} {1, 3, 5, 7, 9} {False, True}\n"
     ]
    }
   ],
   "source": [
    "set1 = {\"apple\", \"banana\", \"cherry\"}\n",
    "set2 = {1, 5, 7, 9, 3}\n",
    "set3 = {True, False, False}\n",
    "print(set1,set2,set3)"
   ]
  },
  {
   "cell_type": "code",
   "execution_count": 12,
   "id": "68eabb20",
   "metadata": {},
   "outputs": [
    {
     "data": {
      "text/plain": [
       "{34, 40, True, 'abc', 'male'}"
      ]
     },
     "execution_count": 12,
     "metadata": {},
     "output_type": "execute_result"
    }
   ],
   "source": [
    "set1 = {\"abc\", 34, True, 40, \"male\"}\n",
    "set1"
   ]
  },
  {
   "cell_type": "markdown",
   "id": "e738834b",
   "metadata": {},
   "source": [
    "## Type of the Set"
   ]
  },
  {
   "cell_type": "code",
   "execution_count": 13,
   "id": "3182b16a",
   "metadata": {},
   "outputs": [
    {
     "data": {
      "text/plain": [
       "set"
      ]
     },
     "execution_count": 13,
     "metadata": {},
     "output_type": "execute_result"
    }
   ],
   "source": [
    "set1 = {\"abc\", 34, True, 40, \"male\"}\n",
    "type(set1)"
   ]
  },
  {
   "cell_type": "markdown",
   "id": "5a436432",
   "metadata": {},
   "source": [
    "## Set Constructor"
   ]
  },
  {
   "cell_type": "code",
   "execution_count": 14,
   "id": "35fe41cf",
   "metadata": {},
   "outputs": [
    {
     "name": "stdout",
     "output_type": "stream",
     "text": [
      "{'banana', 'apple', 'cherry'}\n"
     ]
    }
   ],
   "source": [
    "thisset = set((\"apple\", \"banana\", \"cherry\")) # note the double round-brackets\n",
    "print(thisset)"
   ]
  }
 ],
 "metadata": {
  "kernelspec": {
   "display_name": "Python 3 (ipykernel)",
   "language": "python",
   "name": "python3"
  },
  "language_info": {
   "codemirror_mode": {
    "name": "ipython",
    "version": 3
   },
   "file_extension": ".py",
   "mimetype": "text/x-python",
   "name": "python",
   "nbconvert_exporter": "python",
   "pygments_lexer": "ipython3",
   "version": "3.11.2"
  }
 },
 "nbformat": 4,
 "nbformat_minor": 5
}
