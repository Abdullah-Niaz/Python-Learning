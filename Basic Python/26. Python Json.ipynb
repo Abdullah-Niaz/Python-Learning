{
 "cells": [
  {
   "cell_type": "markdown",
   "id": "f99e60a3",
   "metadata": {},
   "source": [
    "# Json\n",
    "\n",
    "JSON stands for JavaScript Object Notation, which is a lightweight data interchange format. In Python, JSON is a built-in package used to work with JSON data.\n",
    "\n",
    "JSON data consists of key-value pairs, where the keys are always strings, and the values can be strings, numbers, arrays, or even other JSON objects. JSON is commonly used for data exchange between a client and a server in web applications, as it is easy to parse and has a simple syntax.\n",
    "\n",
    "In Python, the json module provides functions for encoding and decoding JSON data. The json.dumps() function converts a Python object into a JSON string, while the json.loads() function converts a JSON string into a Python object. Here's an example:\n",
    "\n"
   ]
  },
  {
   "cell_type": "code",
   "execution_count": 2,
   "id": "0f03283d",
   "metadata": {},
   "outputs": [
    {
     "name": "stdout",
     "output_type": "stream",
     "text": [
      "{\"name\": \"John\", \"age\": 30, \"city\": \"New York\"}\n",
      "{'name': 'John', 'age': 30, 'city': 'New York'}\n"
     ]
    }
   ],
   "source": [
    "import json\n",
    "\n",
    "# JSON data\n",
    "data = {\n",
    "    \"name\": \"John\",\n",
    "    \"age\": 30,\n",
    "    \"city\": \"New York\"\n",
    "}\n",
    "\n",
    "# Convert Python object to JSON string\n",
    "json_string = json.dumps(data)\n",
    "\n",
    "# Convert JSON string to Python object\n",
    "python_object = json.loads(json_string)\n",
    "\n",
    "print(json_string)\n",
    "print(python_object)\n"
   ]
  },
  {
   "cell_type": "code",
   "execution_count": 3,
   "id": "55e30f92",
   "metadata": {},
   "outputs": [],
   "source": [
    "#### Output:"
   ]
  },
  {
   "cell_type": "markdown",
   "id": "c3cb5379",
   "metadata": {},
   "source": [
    "**{\"name\": \"John\", \"age\": 30, \"city\": \"New York\"}**\n",
    "\n",
    "**{'name': 'John', 'age': 30, 'city': 'New York'}**"
   ]
  }
 ],
 "metadata": {
  "kernelspec": {
   "display_name": "Python 3 (ipykernel)",
   "language": "python",
   "name": "python3"
  },
  "language_info": {
   "codemirror_mode": {
    "name": "ipython",
    "version": 3
   },
   "file_extension": ".py",
   "mimetype": "text/x-python",
   "name": "python",
   "nbconvert_exporter": "python",
   "pygments_lexer": "ipython3",
   "version": "3.11.2"
  }
 },
 "nbformat": 4,
 "nbformat_minor": 5
}
