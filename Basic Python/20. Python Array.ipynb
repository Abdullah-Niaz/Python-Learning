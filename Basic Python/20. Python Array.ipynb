{
 "cells": [
  {
   "cell_type": "markdown",
   "id": "b8eef1f1",
   "metadata": {},
   "source": [
    "***Note: Python does not have built-in support for Arrays, but Python Lists can be used instead.***"
   ]
  },
  {
   "cell_type": "markdown",
   "id": "4a380160",
   "metadata": {},
   "source": [
    "**I have covered the list in details above**"
   ]
  }
 ],
 "metadata": {
  "kernelspec": {
   "display_name": "Python 3 (ipykernel)",
   "language": "python",
   "name": "python3"
  },
  "language_info": {
   "codemirror_mode": {
    "name": "ipython",
    "version": 3
   },
   "file_extension": ".py",
   "mimetype": "text/x-python",
   "name": "python",
   "nbconvert_exporter": "python",
   "pygments_lexer": "ipython3",
   "version": "3.11.2"
  }
 },
 "nbformat": 4,
 "nbformat_minor": 5
}
