{
 "cells": [
  {
   "cell_type": "markdown",
   "id": "824df95b",
   "metadata": {},
   "source": [
    "## Python String Fromating\n",
    "\n",
    "Python string formatting is a way to create formatted strings by inserting values into placeholders in a string. There are several ways to format strings in Python, including:\n",
    "\n",
    "**1. Using f-strings: f-strings are a new way to format strings in Python 3.6 and later. They allow you to embed expressions inside string literals, using curly braces {}.**\n",
    "\n",
    "**Example:**"
   ]
  },
  {
   "cell_type": "code",
   "execution_count": 3,
   "id": "b02717e5",
   "metadata": {},
   "outputs": [
    {
     "name": "stdout",
     "output_type": "stream",
     "text": [
      "My name is John and I'm 30 years old.\n"
     ]
    }
   ],
   "source": [
    "name = \"John\"\n",
    "age = 30\n",
    "print(f\"My name is {name} and I'm {age} years old.\")"
   ]
  },
  {
   "cell_type": "markdown",
   "id": "673d523a",
   "metadata": {},
   "source": [
    "**2. Using the format() method: This method allows you to insert values into placeholders in a string using the format() method. Placeholders are represented by curly braces {}.**"
   ]
  },
  {
   "cell_type": "code",
   "execution_count": 5,
   "id": "8813a526",
   "metadata": {},
   "outputs": [
    {
     "name": "stdout",
     "output_type": "stream",
     "text": [
      "My name is John and I'm 30 years old.\n"
     ]
    }
   ],
   "source": [
    "name = \"John\"\n",
    "age = 30\n",
    "print(\"My name is {} and I'm {} years old.\".format(name, age))"
   ]
  },
  {
   "cell_type": "markdown",
   "id": "b427d131",
   "metadata": {},
   "source": [
    "**3. Using %-formatting: This method allows you to insert values into placeholders in a string using the % operator.**"
   ]
  },
  {
   "cell_type": "code",
   "execution_count": 6,
   "id": "7d4d0ebe",
   "metadata": {},
   "outputs": [
    {
     "name": "stdout",
     "output_type": "stream",
     "text": [
      "My name is John and I'm 30 years old.\n"
     ]
    }
   ],
   "source": [
    "name = \"John\"\n",
    "age = 30\n",
    "print(\"My name is %s and I'm %d years old.\" % (name, age))"
   ]
  }
 ],
 "metadata": {
  "kernelspec": {
   "display_name": "Python 3 (ipykernel)",
   "language": "python",
   "name": "python3"
  },
  "language_info": {
   "codemirror_mode": {
    "name": "ipython",
    "version": 3
   },
   "file_extension": ".py",
   "mimetype": "text/x-python",
   "name": "python",
   "nbconvert_exporter": "python",
   "pygments_lexer": "ipython3",
   "version": "3.11.2"
  }
 },
 "nbformat": 4,
 "nbformat_minor": 5
}
