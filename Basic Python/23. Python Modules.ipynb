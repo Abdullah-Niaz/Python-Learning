{
 "cells": [
  {
   "cell_type": "markdown",
   "id": "86df5730",
   "metadata": {},
   "source": [
    "# Modules \n",
    "In Python, a module is a file containing Python definitions and statements. Modules can be used to organize code into logical units, making it easier to manage and reuse code across multiple projects.\n",
    "\n",
    "A module can define functions, classes, and variables, which can be accessed by other modules or scripts using the import statement. When a module is imported, its contents are executed and any functions, classes, or variables defined in the module become part of the importing module's namespace.\n",
    "\n",
    "Python comes with a large standard library of modules that provide functionality for common tasks such as file I/O, networking, and regular expressions. Additionally, there are thousands of third-party modules available that can be installed using tools like pip, which can greatly extend Python's capabilities.\n",
    "\n",
    "#### Here's an example of a simple module:"
   ]
  },
  {
   "cell_type": "markdown",
   "id": "d209b7ee",
   "metadata": {},
   "source": [
    "file name > my_module.py\n",
    "\n",
    "def greet(name):\n",
    "    print(f\"Hello, {name}!\")\n",
    "\n",
    "PI = 3.14159"
   ]
  },
  {
   "cell_type": "markdown",
   "id": "69fe0353",
   "metadata": {},
   "source": [
    "file name > main.py\n",
    "\n",
    "import my_module\n",
    "\n",
    "my_module.greet(\"John\") # Output: \"Hello, John!\"\n",
    "print(my_module.PI) # Output: 3.14159"
   ]
  },
  {
   "cell_type": "markdown",
   "id": "40055ce1",
   "metadata": {},
   "source": [
    "In this example, we import the my_module module and call its greet() function with the argument \"John\". We also access the PI variable from the my_module module and print its value."
   ]
  },
  {
   "cell_type": "markdown",
   "id": "3983fbd1",
   "metadata": {},
   "source": [
    "## Built-in Modules\n",
    "\n",
    "There are several built-in modules in Python, which you can import whenever you like."
   ]
  },
  {
   "cell_type": "code",
   "execution_count": 6,
   "id": "76486a24",
   "metadata": {},
   "outputs": [
    {
     "name": "stdout",
     "output_type": "stream",
     "text": [
      "Windows\n"
     ]
    }
   ],
   "source": [
    "import platform\n",
    "\n",
    "x = platform.system()\n",
    "print(x)"
   ]
  },
  {
   "cell_type": "markdown",
   "id": "8f5e222f",
   "metadata": {},
   "source": [
    "### Using the dir() Function\n",
    "\n",
    "There is a built-in function to list all the function names (or variable names) in a module. The dir() function:\n",
    "\n"
   ]
  },
  {
   "cell_type": "code",
   "execution_count": 7,
   "id": "abc7aada",
   "metadata": {},
   "outputs": [
    {
     "name": "stdout",
     "output_type": "stream",
     "text": [
      "['_Processor', '_WIN32_CLIENT_RELEASES', '_WIN32_SERVER_RELEASES', '__builtins__', '__cached__', '__copyright__', '__doc__', '__file__', '__loader__', '__name__', '__package__', '__spec__', '__version__', '_comparable_version', '_component_re', '_default_architecture', '_follow_symlinks', '_get_machine_win32', '_ironpython26_sys_version_parser', '_ironpython_sys_version_parser', '_java_getprop', '_libc_search', '_mac_ver_xml', '_node', '_norm_version', '_os_release_cache', '_os_release_candidates', '_os_release_line', '_os_release_unescape', '_parse_os_release', '_platform', '_platform_cache', '_pypy_sys_version_parser', '_sys_version', '_sys_version_cache', '_sys_version_parser', '_syscmd_file', '_syscmd_ver', '_uname_cache', '_unknown_as_blank', '_ver_output', '_ver_stages', 'architecture', 'collections', 'freedesktop_os_release', 'functools', 'itertools', 'java_ver', 'libc_ver', 'mac_ver', 'machine', 'node', 'os', 'platform', 'processor', 'python_branch', 'python_build', 'python_compiler', 'python_implementation', 'python_revision', 'python_version', 'python_version_tuple', 're', 'release', 'sys', 'system', 'system_alias', 'uname', 'uname_result', 'version', 'win32_edition', 'win32_is_iot', 'win32_ver']\n"
     ]
    }
   ],
   "source": [
    "import platform\n",
    "\n",
    "x = dir(platform)\n",
    "print(x)"
   ]
  }
 ],
 "metadata": {
  "kernelspec": {
   "display_name": "Python 3 (ipykernel)",
   "language": "python",
   "name": "python3"
  },
  "language_info": {
   "codemirror_mode": {
    "name": "ipython",
    "version": 3
   },
   "file_extension": ".py",
   "mimetype": "text/x-python",
   "name": "python",
   "nbconvert_exporter": "python",
   "pygments_lexer": "ipython3",
   "version": "3.11.2"
  }
 },
 "nbformat": 4,
 "nbformat_minor": 5
}
