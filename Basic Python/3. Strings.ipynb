{
 "cells": [
  {
   "cell_type": "markdown",
   "id": "484cd77c",
   "metadata": {},
   "source": [
    "# Strings"
   ]
  },
  {
   "cell_type": "markdown",
   "id": "40bbc961",
   "metadata": {},
   "source": [
    "Strings in python are surrounded by either single or double quotes.\n",
    "'hello' or \"hello\". Both are same.\n",
    "Display it using print() function"
   ]
  },
  {
   "cell_type": "code",
   "execution_count": 2,
   "id": "40d3d371",
   "metadata": {},
   "outputs": [
    {
     "name": "stdout",
     "output_type": "stream",
     "text": [
      "Hello\n",
      "Hello\n"
     ]
    }
   ],
   "source": [
    "print(\"Hello\")\n",
    "print('Hello')"
   ]
  },
  {
   "cell_type": "markdown",
   "id": "32b6c61a",
   "metadata": {},
   "source": [
    "### Assign String  to a Variable"
   ]
  },
  {
   "cell_type": "code",
   "execution_count": 31,
   "id": "8a3e687b",
   "metadata": {},
   "outputs": [
    {
     "name": "stdout",
     "output_type": "stream",
     "text": [
      "Hello World\n"
     ]
    }
   ],
   "source": [
    "x = \"Hello World\"\n",
    "print(x)"
   ]
  },
  {
   "cell_type": "markdown",
   "id": "95ba0376",
   "metadata": {},
   "source": [
    "### Multiline Strings"
   ]
  },
  {
   "cell_type": "markdown",
   "id": "c7168a10",
   "metadata": {},
   "source": [
    "You can assign a multiline string to a variable by using three quotes:"
   ]
  },
  {
   "cell_type": "code",
   "execution_count": 8,
   "id": "dba3c3bf",
   "metadata": {},
   "outputs": [
    {
     "name": "stdout",
     "output_type": "stream",
     "text": [
      "Lorem ipsum dolor sit amet,\n",
      "consectetur adipiscing elit,\n",
      "sed do eiusmod tempor incididunt\n",
      "ut labore et dolore magna aliqua.\n"
     ]
    }
   ],
   "source": [
    "a = \"\"\"Lorem ipsum dolor sit amet,\n",
    "consectetur adipiscing elit,\n",
    "sed do eiusmod tempor incididunt\n",
    "ut labore et dolore magna aliqua.\"\"\"\n",
    "print(a)"
   ]
  },
  {
   "cell_type": "code",
   "execution_count": 10,
   "id": "7b085910",
   "metadata": {},
   "outputs": [
    {
     "name": "stdout",
     "output_type": "stream",
     "text": [
      "Lorem ipsum dolor sit amet,\n",
      "consectetur adipiscing elit,\n",
      "sed do eiusmod tempor incididunt\n",
      "ut labore et dolore magna aliqua.\n"
     ]
    }
   ],
   "source": [
    "a = '''Lorem ipsum dolor sit amet,\n",
    "consectetur adipiscing elit,\n",
    "sed do eiusmod tempor incididunt\n",
    "ut labore et dolore magna aliqua.'''\n",
    "print(a)"
   ]
  },
  {
   "cell_type": "markdown",
   "id": "f3031753",
   "metadata": {},
   "source": [
    "### Strings are Arrays"
   ]
  },
  {
   "cell_type": "markdown",
   "id": "04f1596b",
   "metadata": {},
   "source": [
    "Like many other programming langauges, strings in python are arrays of bytes representing unicode characters.\n",
    "\n",
    "However, Python does not have a character data type, a single character is imple a string with a length of 1.\n",
    "\n",
    "square brackets can be used to acces the elements of the strings."
   ]
  },
  {
   "cell_type": "code",
   "execution_count": 12,
   "id": "c14be0b6",
   "metadata": {},
   "outputs": [
    {
     "name": "stdout",
     "output_type": "stream",
     "text": [
      "e\n"
     ]
    }
   ],
   "source": [
    "x = \"Hello World\"\n",
    "print(x[1]) # This is called slicing "
   ]
  },
  {
   "cell_type": "markdown",
   "id": "26486809",
   "metadata": {},
   "source": [
    "### Loop Through the String"
   ]
  },
  {
   "cell_type": "code",
   "execution_count": 21,
   "id": "4720913d",
   "metadata": {},
   "outputs": [
    {
     "name": "stdout",
     "output_type": "stream",
     "text": [
      "H\n",
      "e\n",
      "l\n",
      "l\n",
      "o\n",
      " \n",
      "W\n",
      "o\n",
      "r\n",
      "l\n",
      "d\n",
      "\n",
      "\tLength of the string is :  11\n"
     ]
    }
   ],
   "source": [
    "x = \"Hello World\"\n",
    "for i in x:\n",
    "    print(i)\n",
    "print(\"\\n\\tLength of the string is : \",len(x))"
   ]
  },
  {
   "cell_type": "markdown",
   "id": "1dbcc5e9",
   "metadata": {},
   "source": [
    "### Check String "
   ]
  },
  {
   "cell_type": "code",
   "execution_count": 30,
   "id": "1674d5b4",
   "metadata": {},
   "outputs": [
    {
     "name": "stdout",
     "output_type": "stream",
     "text": [
      "True\n",
      "False\n",
      "yes, it exits\n"
     ]
    }
   ],
   "source": [
    "x = \"This is my book which i bought from pakistan\"\n",
    "print(\"book\" in x) # it will return bool values true other wise else\n",
    "print(\"book\" not in x) # it will return false, because book exits\n",
    "\n",
    "# Same can be done using condition\n",
    "if \"book\" in x:\n",
    "    print(\"yes, it exits\")"
   ]
  },
  {
   "cell_type": "markdown",
   "id": "1dbf265b",
   "metadata": {},
   "source": [
    "## Slicing Strings"
   ]
  },
  {
   "cell_type": "markdown",
   "id": "73ddf0ac",
   "metadata": {},
   "source": [
    "You can return a range of characters by using the slice syntax.\n",
    "\n",
    "Specify the start index and the end index, separated by a colon, to return a part of the string.\n",
    "\n",
    "varable[start,end,step]"
   ]
  },
  {
   "cell_type": "code",
   "execution_count": 50,
   "id": "2ee66137",
   "metadata": {},
   "outputs": [
    {
     "name": "stdout",
     "output_type": "stream",
     "text": [
      "llo\n"
     ]
    }
   ],
   "source": [
    "x = \"Hello World\"\n",
    "print(x[2:5:1])"
   ]
  },
  {
   "cell_type": "markdown",
   "id": "225fa379",
   "metadata": {},
   "source": [
    "### Slice from start"
   ]
  },
  {
   "cell_type": "code",
   "execution_count": 37,
   "id": "95a6b8af",
   "metadata": {},
   "outputs": [
    {
     "name": "stdout",
     "output_type": "stream",
     "text": [
      "Hell\n",
      "llo World\n"
     ]
    }
   ],
   "source": [
    "x = \"Hello World\"\n",
    "print(x[:4])\n",
    "print(x[2:])"
   ]
  },
  {
   "cell_type": "markdown",
   "id": "700dd2fd",
   "metadata": {},
   "source": [
    "### Negative Slicing"
   ]
  },
  {
   "cell_type": "markdown",
   "id": "f5dcfa7b",
   "metadata": {},
   "source": [
    " Use negative slicing to start from end of the sting"
   ]
  },
  {
   "cell_type": "code",
   "execution_count": 72,
   "id": "8a549d64",
   "metadata": {},
   "outputs": [
    {
     "name": "stdout",
     "output_type": "stream",
     "text": [
      "!dlroW ,olleH\n"
     ]
    }
   ],
   "source": [
    "b = \"Hello, World!\"\n",
    "print(b[::-1]) # This will reverse the string"
   ]
  }
 ],
 "metadata": {
  "kernelspec": {
   "display_name": "Python 3 (ipykernel)",
   "language": "python",
   "name": "python3"
  },
  "language_info": {
   "codemirror_mode": {
    "name": "ipython",
    "version": 3
   },
   "file_extension": ".py",
   "mimetype": "text/x-python",
   "name": "python",
   "nbconvert_exporter": "python",
   "pygments_lexer": "ipython3",
   "version": "3.11.2"
  }
 },
 "nbformat": 4,
 "nbformat_minor": 5
}
