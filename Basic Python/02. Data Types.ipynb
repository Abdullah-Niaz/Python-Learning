{
 "cells": [
  {
   "cell_type": "markdown",
   "id": "4ec634f0",
   "metadata": {},
   "source": [
    "# Built-in Data Types"
   ]
  },
  {
   "cell_type": "markdown",
   "id": "d9337485",
   "metadata": {},
   "source": [
    "In programming, data type is an important concept.\n",
    "Variables can store data of different types, and different types can do different things.\n",
    "\n",
    "Python has the following data types built-in by default, in these categories:\n",
    "\n",
    "* Text Type:\tstr\n",
    "* Numeric Types:\tint, float, complex\n",
    "* Sequence Types:\tlist, tuple, range\n",
    "* Mapping Type:\tdict\n",
    "* Set Types:\tset, frozenset\n",
    "* Boolean Type:\tbool\n",
    "* Binary Types:\tbytes, bytearray, memoryview\n",
    "* None Type:\tNoneType"
   ]
  },
  {
   "cell_type": "markdown",
   "id": "062c9ad6",
   "metadata": {},
   "source": [
    "## Getting the Data Type"
   ]
  },
  {
   "cell_type": "markdown",
   "id": "103ff40e",
   "metadata": {},
   "source": [
    "You can get the data type of the any object by using the type() function."
   ]
  },
  {
   "cell_type": "code",
   "execution_count": 3,
   "id": "51be86c1",
   "metadata": {},
   "outputs": [
    {
     "name": "stdout",
     "output_type": "stream",
     "text": [
      "<class 'int'>\n"
     ]
    }
   ],
   "source": [
    "x = 5 \n",
    "print(type(x))"
   ]
  },
  {
   "cell_type": "markdown",
   "id": "eece19cc",
   "metadata": {},
   "source": [
    "## Python Numbers"
   ]
  },
  {
   "cell_type": "markdown",
   "id": "0d7287ef",
   "metadata": {},
   "source": [
    "There are three numeric types in python.\n",
    "* int \n",
    "* float \n",
    "* complex"
   ]
  },
  {
   "cell_type": "code",
   "execution_count": 7,
   "id": "63244e7b",
   "metadata": {},
   "outputs": [
    {
     "name": "stdout",
     "output_type": "stream",
     "text": [
      "2 2.3 (4+1j)\n"
     ]
    }
   ],
   "source": [
    "x = 2          # integer\n",
    "y = 2.3        # Float \n",
    "z = 1j + 4     # Complex\n",
    "print(x,y,z)"
   ]
  },
  {
   "cell_type": "markdown",
   "id": "13a2586f",
   "metadata": {},
   "source": [
    "To Verify the Type of Data type use Type() function."
   ]
  },
  {
   "cell_type": "code",
   "execution_count": 10,
   "id": "9d6dff41",
   "metadata": {},
   "outputs": [
    {
     "name": "stdout",
     "output_type": "stream",
     "text": [
      "<class 'int'>\n",
      "<class 'float'>\n",
      "<class 'complex'>\n"
     ]
    }
   ],
   "source": [
    "print(type(x))\n",
    "print(type(y))\n",
    "print(type(z))"
   ]
  },
  {
   "cell_type": "markdown",
   "id": "19fb6d35",
   "metadata": {},
   "source": [
    "## Type Conversion "
   ]
  },
  {
   "cell_type": "markdown",
   "id": "9d3bbc30",
   "metadata": {},
   "source": [
    "you can convert from one type to another with the int(),float(),complex() method."
   ]
  },
  {
   "cell_type": "code",
   "execution_count": 23,
   "id": "744016f7",
   "metadata": {},
   "outputs": [
    {
     "name": "stdout",
     "output_type": "stream",
     "text": [
      "Before Conversion:  2 2.3 (4+1j)\n",
      "After Conversion:  2.0 2 (2.3+0j)\n"
     ]
    }
   ],
   "source": [
    "x = 2          # integer\n",
    "# Types conversion \n",
    "a = float(x)\n",
    "\n",
    "\n",
    "y = 2.3        # Float \n",
    "# Types conversion int\n",
    "b = int(y)\n",
    "\n",
    "\n",
    "z = 1j + 4     # Complex\n",
    "# Types conversion to Any\n",
    "c = complex(y)\n",
    "\n",
    "\n",
    "print(\"Before Conversion: \",x,y,z)\n",
    "print(\"After Conversion: \",a,b,c)"
   ]
  },
  {
   "cell_type": "markdown",
   "id": "c30c9eac",
   "metadata": {},
   "source": [
    "## Random Number"
   ]
  },
  {
   "cell_type": "markdown",
   "id": "8ec65e99",
   "metadata": {},
   "source": [
    "Python does not have a random() function to make a random number, but Python has a built-in module called random that can be used to make random numbers:"
   ]
  },
  {
   "cell_type": "code",
   "execution_count": 38,
   "id": "6c46297a",
   "metadata": {},
   "outputs": [
    {
     "name": "stdout",
     "output_type": "stream",
     "text": [
      "3\n"
     ]
    }
   ],
   "source": [
    "import random \n",
    "print(random.randrange(1,10))"
   ]
  }
 ],
 "metadata": {
  "kernelspec": {
   "display_name": "Python 3 (ipykernel)",
   "language": "python",
   "name": "python3"
  },
  "language_info": {
   "codemirror_mode": {
    "name": "ipython",
    "version": 3
   },
   "file_extension": ".py",
   "mimetype": "text/x-python",
   "name": "python",
   "nbconvert_exporter": "python",
   "pygments_lexer": "ipython3",
   "version": "3.11.2"
  }
 },
 "nbformat": 4,
 "nbformat_minor": 5
}
