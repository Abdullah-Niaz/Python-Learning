{
 "cells": [
  {
   "cell_type": "markdown",
   "id": "47fce691",
   "metadata": {},
   "source": [
    "# Variables"
   ]
  },
  {
   "cell_type": "markdown",
   "id": "5203574a",
   "metadata": {},
   "source": [
    "Variables are the container to Store data.`\n",
    "Variables do not need to be declared with any particular type, and can even change type after they have been set."
   ]
  },
  {
   "cell_type": "code",
   "execution_count": 3,
   "id": "54d14ce6",
   "metadata": {},
   "outputs": [
    {
     "name": "stdout",
     "output_type": "stream",
     "text": [
      "5\n",
      "Hello\n"
     ]
    }
   ],
   "source": [
    "x = 5 \n",
    "y = \"Hello\" ## string can be delclared by either single or double quotes\n",
    "print(x)\n",
    "print(y)"
   ]
  },
  {
   "cell_type": "markdown",
   "id": "135399b4",
   "metadata": {},
   "source": [
    "## Casting"
   ]
  },
  {
   "cell_type": "markdown",
   "id": "2ae9be02",
   "metadata": {},
   "source": [
    "if you want to specify the data type of a variable, this can be done with casting."
   ]
  },
  {
   "cell_type": "code",
   "execution_count": 11,
   "id": "3016a881",
   "metadata": {},
   "outputs": [
    {
     "name": "stdout",
     "output_type": "stream",
     "text": [
      "3 3\n"
     ]
    }
   ],
   "source": [
    "x = str(3) \n",
    "y = int(3.3)\n",
    "print(x,y)"
   ]
  },
  {
   "cell_type": "markdown",
   "id": "d5ecd963",
   "metadata": {},
   "source": [
    "## Get the Type"
   ]
  },
  {
   "cell_type": "markdown",
   "id": "500c5039",
   "metadata": {},
   "source": [
    "You can get the type of variable with the type() function."
   ]
  },
  {
   "cell_type": "code",
   "execution_count": 13,
   "id": "ba1b2528",
   "metadata": {},
   "outputs": [
    {
     "name": "stdout",
     "output_type": "stream",
     "text": [
      "<class 'str'>\n",
      "<class 'int'>\n"
     ]
    }
   ],
   "source": [
    "print(type(x))\n",
    "print(type(y))"
   ]
  },
  {
   "cell_type": "markdown",
   "id": "9d707218",
   "metadata": {},
   "source": [
    "## Case Sensitive"
   ]
  },
  {
   "cell_type": "markdown",
   "id": "34bbf3a9",
   "metadata": {},
   "source": [
    "Variable names are case sensitives."
   ]
  },
  {
   "cell_type": "code",
   "execution_count": 15,
   "id": "92197ba9",
   "metadata": {},
   "outputs": [
    {
     "name": "stdout",
     "output_type": "stream",
     "text": [
      "10 3\n"
     ]
    }
   ],
   "source": [
    "x = 10\n",
    "X = 20 \n",
    "#x will not work as X \n",
    "print(x,y)"
   ]
  },
  {
   "cell_type": "markdown",
   "id": "8fbadb38",
   "metadata": {},
   "source": [
    "# Variables Names "
   ]
  },
  {
   "cell_type": "markdown",
   "id": "ee8c6b7c",
   "metadata": {},
   "source": [
    "A variable can have a short name (like x and y) or a more descriptive name (age, carname, total_volume). \n",
    "Rules for Python variables:\n",
    "* A variable name must start with a letter or the underscore character\n",
    "* A variable name cannot start with a number\n",
    "* A variable name can only contain alpha-numeric characters and underscores (A-z, 0-9, and _ )\n",
    "* Variable names are case-sensitive (age, Age and AGE are three different variables)\n",
    "* A variable name cannot be any of the Python keywords.\n"
   ]
  },
  {
   "cell_type": "code",
   "execution_count": 18,
   "id": "2d5d22a5",
   "metadata": {},
   "outputs": [],
   "source": [
    "# Commonly written \n",
    "myname= \"Ali\"\n",
    "_myname= \"Ali\"\n",
    "_my_name= \"Ali\"\n",
    "MyVar = \"Ali\""
   ]
  },
  {
   "cell_type": "markdown",
   "id": "162a977c",
   "metadata": {},
   "source": [
    "## Multi Words Variable Names"
   ]
  },
  {
   "cell_type": "markdown",
   "id": "05e172e6",
   "metadata": {},
   "source": [
    "Variables names with more than one word can be difficult to read.\n",
    "There are several methods you can use to make them more readable."
   ]
  },
  {
   "cell_type": "markdown",
   "id": "fbf3d203",
   "metadata": {},
   "source": [
    "### 1. Camel Case"
   ]
  },
  {
   "cell_type": "markdown",
   "id": "9ce9da21",
   "metadata": {},
   "source": [
    "Each word, excep the first word, starts with the capital letter."
   ]
  },
  {
   "cell_type": "code",
   "execution_count": 19,
   "id": "a55ad291",
   "metadata": {},
   "outputs": [],
   "source": [
    "myVariableName = \"Abdullah\"\n",
    "mySchoolResult = \"Announced\""
   ]
  },
  {
   "cell_type": "markdown",
   "id": "08657057",
   "metadata": {},
   "source": [
    "### 2. Snake Case"
   ]
  },
  {
   "cell_type": "markdown",
   "id": "652af9c3",
   "metadata": {},
   "source": [
    "Each word is separated by an underscore character.]"
   ]
  },
  {
   "cell_type": "code",
   "execution_count": 20,
   "id": "307f19cf",
   "metadata": {},
   "outputs": [],
   "source": [
    "my_variable_name = \"Abdullah\"\n",
    "my_school_reault = \"Announced\""
   ]
  },
  {
   "cell_type": "markdown",
   "id": "2cb30466",
   "metadata": {},
   "source": [
    "### 3. Pascal Case "
   ]
  },
  {
   "cell_type": "markdown",
   "id": "3cf938fc",
   "metadata": {},
   "source": [
    "Each word starts with captial letter."
   ]
  },
  {
   "cell_type": "code",
   "execution_count": 21,
   "id": "3615ee7e",
   "metadata": {},
   "outputs": [],
   "source": [
    "MyVariableName = \"Abdullah\"\n",
    "MySchoolResult = \"Anounced\""
   ]
  },
  {
   "cell_type": "markdown",
   "id": "06a2f4d7",
   "metadata": {},
   "source": [
    "## Assign Multiple Values"
   ]
  },
  {
   "cell_type": "markdown",
   "id": "ef446233",
   "metadata": {},
   "source": [
    "Python allows you to assign values to multiple varables in one line."
   ]
  },
  {
   "cell_type": "code",
   "execution_count": 23,
   "id": "0e7f3bf7",
   "metadata": {},
   "outputs": [
    {
     "name": "stdout",
     "output_type": "stream",
     "text": [
      "Ali Omer Hamza\n"
     ]
    }
   ],
   "source": [
    "x , y , z = \"Ali\" , \"Omer\" , \"Hamza\"\n",
    "print(x,y,z)"
   ]
  },
  {
   "cell_type": "markdown",
   "id": "4f22adae",
   "metadata": {},
   "source": [
    "## Assign One Value to Multiple Variables"
   ]
  },
  {
   "cell_type": "code",
   "execution_count": 27,
   "id": "9b5816c3",
   "metadata": {},
   "outputs": [
    {
     "name": "stdout",
     "output_type": "stream",
     "text": [
      "Class Class Class\n"
     ]
    }
   ],
   "source": [
    "x = y = z = \"Class\"\n",
    "print(x,y,z)"
   ]
  },
  {
   "cell_type": "markdown",
   "id": "3c0dd67a",
   "metadata": {},
   "source": [
    "## Unpack Collectionn"
   ]
  },
  {
   "cell_type": "markdown",
   "id": "d67baa50",
   "metadata": {},
   "source": [
    "if you have collection of values in list, tuple. Python allows you to extract the values into variables. This is called UnPacking."
   ]
  },
  {
   "cell_type": "code",
   "execution_count": 32,
   "id": "e87acd26",
   "metadata": {},
   "outputs": [
    {
     "name": "stdout",
     "output_type": "stream",
     "text": [
      "Apple Mango Orange\n"
     ]
    }
   ],
   "source": [
    "fruits = [\"Apple\",\"Mango\",\"Orange\"]\n",
    "x , y , z = fruits\n",
    "print(x,y,z)"
   ]
  },
  {
   "cell_type": "code",
   "execution_count": 35,
   "id": "2ca49ea2",
   "metadata": {},
   "outputs": [
    {
     "name": "stdout",
     "output_type": "stream",
     "text": [
      "Apple ['Mango', 'Orange'] Banana\n"
     ]
    }
   ],
   "source": [
    "fruits = [\"Apple\",\"Mango\",\"Orange\",\"Banana\"]\n",
    "x , *y , z = fruits\n",
    "print(x,y,z)"
   ]
  },
  {
   "cell_type": "markdown",
   "id": "b69a6853",
   "metadata": {},
   "source": [
    "## Global Variables"
   ]
  },
  {
   "cell_type": "code",
   "execution_count": 40,
   "id": "10942666",
   "metadata": {},
   "outputs": [
    {
     "name": "stdout",
     "output_type": "stream",
     "text": [
      "Inside function values Ali\n",
      "OutSide function values Omer\n"
     ]
    }
   ],
   "source": [
    "x = \"Omer\"\n",
    "def foo():\n",
    "    x = \"Ali\"\n",
    "    print(\"Inside function values {}\".format(x))\n",
    "foo()\n",
    "print(\"OutSide function values {}\".format(x))"
   ]
  },
  {
   "cell_type": "code",
   "execution_count": 44,
   "id": "194093f4",
   "metadata": {},
   "outputs": [
    {
     "name": "stdout",
     "output_type": "stream",
     "text": [
      "inside Hello World\n",
      "outside Hello World\n"
     ]
    }
   ],
   "source": [
    "def my():\n",
    "    global x \n",
    "    x = \"Hello World\"\n",
    "    print(\"inside\",x)\n",
    "    \n",
    "my()\n",
    "print(\"outside\",x)"
   ]
  }
 ],
 "metadata": {
  "kernelspec": {
   "display_name": "Python 3 (ipykernel)",
   "language": "python",
   "name": "python3"
  },
  "language_info": {
   "codemirror_mode": {
    "name": "ipython",
    "version": 3
   },
   "file_extension": ".py",
   "mimetype": "text/x-python",
   "name": "python",
   "nbconvert_exporter": "python",
   "pygments_lexer": "ipython3",
   "version": "3.11.2"
  }
 },
 "nbformat": 4,
 "nbformat_minor": 5
}
