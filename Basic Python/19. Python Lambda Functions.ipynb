{
 "cells": [
  {
   "cell_type": "markdown",
   "id": "010a0249",
   "metadata": {},
   "source": [
    "## Python Lambda"
   ]
  },
  {
   "cell_type": "markdown",
   "id": "ff4b9e3e",
   "metadata": {},
   "source": [
    "* In Python, a lambda function (also known as an anonymous function) is a small, single-expression function that doesn't have a name. It is created using the keyword lambda followed by a list of arguments, a colon, and the expression to be evaluated.\n",
    "\n",
    "\t**The general syntax of a lambda function is as follows:**"
   ]
  },
  {
   "cell_type": "code",
   "execution_count": 1,
   "id": "a795eddc",
   "metadata": {},
   "outputs": [
    {
     "data": {
      "text/plain": [
       "<function __main__.<lambda>(arguments)>"
      ]
     },
     "execution_count": 1,
     "metadata": {},
     "output_type": "execute_result"
    }
   ],
   "source": [
    "lambda arguments: expression"
   ]
  },
  {
   "cell_type": "markdown",
   "id": "fe607fe4",
   "metadata": {},
   "source": [
    "Here's an example of a lambda function that returns the square of a number:"
   ]
  },
  {
   "cell_type": "code",
   "execution_count": 5,
   "id": "4f7ebdb3",
   "metadata": {},
   "outputs": [],
   "source": [
    "square = lambda x: x**2"
   ]
  },
  {
   "cell_type": "markdown",
   "id": "513081cd",
   "metadata": {},
   "source": [
    "This lambda function takes a single argument x and returns its square using the expression x**2. The function can be called like any other function:"
   ]
  },
  {
   "cell_type": "code",
   "execution_count": 7,
   "id": "b1522b30",
   "metadata": {},
   "outputs": [
    {
     "name": "stdout",
     "output_type": "stream",
     "text": [
      "25\n"
     ]
    }
   ],
   "source": [
    "result = square(5)\n",
    "print(result)  # Output: 25"
   ]
  },
  {
   "cell_type": "markdown",
   "id": "a0a3042e",
   "metadata": {},
   "source": [
    "Lambda functions are often used in combination with functions that take other functions as arguments (such as map, filter, and reduce) or in situations where a small, one-time-use function is needed."
   ]
  },
  {
   "cell_type": "markdown",
   "id": "459140b1",
   "metadata": {},
   "source": [
    "# Lambda in Advance\n",
    "\n",
    "* Lambda functions are a type of function in Python that are defined using a single line of code and do not have a name. They are also referred to as anonymous functions, because they are not assigned to a name like a regular function. Instead, they are created and used on the fly, and typically only used in one specific context.\n",
    "\n",
    "* Lambda functions are typically used in cases where you need to pass a function as an argument to another function, like map(), filter(), and reduce(). They can be used as a shorthand way to define a function that is only going to be used once, without the need to define and name a separate function.\n",
    "\n",
    "\t**The syntax of a lambda function is quite simple:**"
   ]
  },
  {
   "cell_type": "code",
   "execution_count": 10,
   "id": "1628f1ae",
   "metadata": {},
   "outputs": [
    {
     "data": {
      "text/plain": [
       "<function __main__.<lambda>(arguments)>"
      ]
     },
     "execution_count": 10,
     "metadata": {},
     "output_type": "execute_result"
    }
   ],
   "source": [
    "lambda arguments: expression"
   ]
  },
  {
   "cell_type": "markdown",
   "id": "92acbeb2",
   "metadata": {},
   "source": [
    "The arguments are the input arguments that the function will take, and the expression is the calculation or operation that will be performed on the input arguments.\n",
    "\n",
    "**For example, the following lambda function takes two arguments and returns their sum:**"
   ]
  },
  {
   "cell_type": "code",
   "execution_count": 14,
   "id": "28ebdbe8",
   "metadata": {},
   "outputs": [
    {
     "data": {
      "text/plain": [
       "<function __main__.<lambda>(x, y)>"
      ]
     },
     "execution_count": 14,
     "metadata": {},
     "output_type": "execute_result"
    }
   ],
   "source": [
    "lambda x, y: x + y"
   ]
  },
  {
   "cell_type": "markdown",
   "id": "cf015e93",
   "metadata": {},
   "source": [
    "This can be used just like a regular function:"
   ]
  },
  {
   "cell_type": "code",
   "execution_count": 15,
   "id": "ebcd3dc6",
   "metadata": {},
   "outputs": [
    {
     "name": "stdout",
     "output_type": "stream",
     "text": [
      "8\n"
     ]
    }
   ],
   "source": [
    "result = (lambda x, y: x + y)(3, 5)\n",
    "print(result) # Output: 8"
   ]
  },
  {
   "cell_type": "markdown",
   "id": "6e6169cc",
   "metadata": {},
   "source": [
    "Lambda functions can also be used to create functions that return other functions. For example, the following lambda function returns a function that multiplies its input by a given number:"
   ]
  },
  {
   "cell_type": "code",
   "execution_count": 16,
   "id": "d9bd1eaf",
   "metadata": {},
   "outputs": [
    {
     "name": "stdout",
     "output_type": "stream",
     "text": [
      "10\n",
      "15\n"
     ]
    }
   ],
   "source": [
    "def multiply_by(n):\n",
    "    return lambda x: x * n\n",
    "\n",
    "double = multiply_by(2)\n",
    "triple = multiply_by(3)\n",
    "\n",
    "print(double(5)) # Output: 10\n",
    "print(triple(5)) # Output: 15"
   ]
  },
  {
   "cell_type": "markdown",
   "id": "e5a28ca1",
   "metadata": {},
   "source": [
    "In this example, the multiply_by() function returns a lambda function that multiplies its input by the value n. The double and triple variables are assigned to the result of calling multiply_by() with the values 2 and 3, respectively. These variables now contain functions that can be used to multiply numbers by 2 or 3, respectively.\n",
    "\n",
    "Overall, lambda functions provide a powerful and flexible way to define simple functions that can be used in a variety of contexts. However, they should be used with caution, as they can sometimes make code more difficult to read and understand if overused."
   ]
  },
  {
   "cell_type": "markdown",
   "id": "94a3da8d",
   "metadata": {},
   "source": [
    "### Practices"
   ]
  },
  {
   "cell_type": "code",
   "execution_count": 18,
   "id": "4cb08340",
   "metadata": {},
   "outputs": [
    {
     "data": {
      "text/plain": [
       "9"
      ]
     },
     "execution_count": 18,
     "metadata": {},
     "output_type": "execute_result"
    }
   ],
   "source": [
    "x = lambda x: x**2\n",
    "x(3)"
   ]
  },
  {
   "cell_type": "code",
   "execution_count": 20,
   "id": "599db2dc",
   "metadata": {},
   "outputs": [
    {
     "data": {
      "text/plain": [
       "6"
      ]
     },
     "execution_count": 20,
     "metadata": {},
     "output_type": "execute_result"
    }
   ],
   "source": [
    "result = lambda x,y,z : x + y + z\n",
    "result(1,2,3)"
   ]
  },
  {
   "cell_type": "code",
   "execution_count": 49,
   "id": "75756618",
   "metadata": {},
   "outputs": [
    {
     "name": "stdout",
     "output_type": "stream",
     "text": [
      "4 6\n",
      "0.0\n"
     ]
    }
   ],
   "source": [
    "def multiply_by(n):\n",
    "    return lambda x: x*n\n",
    "double = multiply_by(2)\n",
    "triple = multiply_by(3)\n",
    "print(double(2),triple(2))"
   ]
  },
  {
   "cell_type": "code",
   "execution_count": 32,
   "id": "076220f4",
   "metadata": {},
   "outputs": [
    {
     "data": {
      "text/plain": [
       "6"
      ]
     },
     "execution_count": 32,
     "metadata": {},
     "output_type": "execute_result"
    }
   ],
   "source": [
    "x = (lambda x,y,z:x+y+z)(1,2,3)\n",
    "x"
   ]
  },
  {
   "cell_type": "code",
   "execution_count": 42,
   "id": "8144ac97",
   "metadata": {},
   "outputs": [],
   "source": [
    "def foo(n,x=2):\n",
    "    return x *n\n",
    "double = foo(2)\n",
    "triple = foo(3)"
   ]
  },
  {
   "cell_type": "code",
   "execution_count": 44,
   "id": "1c78e846",
   "metadata": {},
   "outputs": [
    {
     "data": {
      "text/plain": [
       "12"
      ]
     },
     "execution_count": 44,
     "metadata": {},
     "output_type": "execute_result"
    }
   ],
   "source": [
    "x = lambda x : x + 10\n",
    "x(2)"
   ]
  },
  {
   "cell_type": "code",
   "execution_count": 46,
   "id": "5dae46e6",
   "metadata": {},
   "outputs": [
    {
     "data": {
      "text/plain": [
       "2"
      ]
     },
     "execution_count": 46,
     "metadata": {},
     "output_type": "execute_result"
    }
   ],
   "source": [
    "x = lambda a,b: a*b\n",
    "x(1,2)"
   ]
  },
  {
   "cell_type": "code",
   "execution_count": 1,
   "id": "313769ed",
   "metadata": {},
   "outputs": [
    {
     "data": {
      "text/plain": [
       "6"
      ]
     },
     "execution_count": 1,
     "metadata": {},
     "output_type": "execute_result"
    }
   ],
   "source": [
    " x = lambda a,b,c: a*b*c\n",
    "x(1,2,3)"
   ]
  },
  {
   "cell_type": "code",
   "execution_count": 4,
   "id": "cbc27dcb",
   "metadata": {},
   "outputs": [
    {
     "data": {
      "text/plain": [
       "14"
      ]
     },
     "execution_count": 4,
     "metadata": {},
     "output_type": "execute_result"
    }
   ],
   "source": [
    "def foo(fx,value):\n",
    "    return 6 + fx(value)\n",
    "r = lambda x:x*x*x\n",
    "foo(r,2)"
   ]
  }
 ],
 "metadata": {
  "kernelspec": {
   "display_name": "Python 3 (ipykernel)",
   "language": "python",
   "name": "python3"
  },
  "language_info": {
   "codemirror_mode": {
    "name": "ipython",
    "version": 3
   },
   "file_extension": ".py",
   "mimetype": "text/x-python",
   "name": "python",
   "nbconvert_exporter": "python",
   "pygments_lexer": "ipython3",
   "version": "3.11.2"
  }
 },
 "nbformat": 4,
 "nbformat_minor": 5
}
