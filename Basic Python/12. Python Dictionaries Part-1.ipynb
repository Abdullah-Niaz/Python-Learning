{
 "cells": [
  {
   "cell_type": "markdown",
   "id": "b0bf5796",
   "metadata": {},
   "source": [
    "# Dictionaries\n",
    "\n",
    "* Dictionaries are used to Store data values in key:value pairs.\n",
    "* A Dictionary is a collection which is ordered, changeable, and don't allow duplicates\n",
    "* Dictionary items are written inside the Curly Brackets {}.\n",
    "\n",
    "### Ordered\n",
    "\n",
    "* Dictinoaries are ordered we can say that it has a defined order.\n",
    "\n",
    "### Changeable\n",
    "\n",
    "* Dictionaries items are changeable, we can change the items just by isng the key name.\n",
    "\n",
    "### Duplicates Not Allowed\n",
    "\n",
    "* Dictionaries don't have two items with same key. it will print choose the last one. if we items are same."
   ]
  },
  {
   "cell_type": "code",
   "execution_count": 2,
   "id": "9b809e57",
   "metadata": {},
   "outputs": [
    {
     "data": {
      "text/plain": [
       "{'Name': 'Abdullah', 'Class': 'BSCS', 'Roll_No': 'bsf2205784', 'Status': True}"
      ]
     },
     "execution_count": 2,
     "metadata": {},
     "output_type": "execute_result"
    }
   ],
   "source": [
    "dict1 = {\n",
    "    \"Name\" :\"Abdullah\",\n",
    "    \"Class\" : \"BSCS\",\n",
    "    \"Roll_No\": \"bsf2205784\",\n",
    "    \"Status\" : True,\n",
    "}\n",
    "dict1"
   ]
  },
  {
   "cell_type": "markdown",
   "id": "33e13899",
   "metadata": {},
   "source": [
    "## Dictinoary-Items\n",
    "\n",
    "* Dictionary items are accessed by using the kwy name."
   ]
  },
  {
   "cell_type": "code",
   "execution_count": 3,
   "id": "8431e136",
   "metadata": {},
   "outputs": [
    {
     "data": {
      "text/plain": [
       "'Abdullah'"
      ]
     },
     "execution_count": 3,
     "metadata": {},
     "output_type": "execute_result"
    }
   ],
   "source": [
    "dict1 = {\n",
    "    \"Name\" :\"Abdullah\",\n",
    "    \"Class\" : \"BSCS\",\n",
    "    \"Roll_No\": \"bsf2205784\",\n",
    "    \"Status\" : True,\n",
    "}\n",
    "dict1[\"Name\"]"
   ]
  },
  {
   "cell_type": "code",
   "execution_count": 5,
   "id": "c2c53824",
   "metadata": {},
   "outputs": [
    {
     "data": {
      "text/plain": [
       "{'Name': 'Omer', 'Class': 'BSCS', 'Roll_No': 'bsf2205784', 'Status': True}"
      ]
     },
     "execution_count": 5,
     "metadata": {},
     "output_type": "execute_result"
    }
   ],
   "source": [
    "dict1 = {\n",
    "    \"Name\" :\"Abdullah\",\n",
    "    \"Class\" : \"BSCS\",\n",
    "    \"Roll_No\": \"bsf2205784\",\n",
    "    \"Status\" : True,\n",
    "    \"Name\" : \"Omer\"\n",
    "}\n",
    "dict1"
   ]
  },
  {
   "cell_type": "code",
   "execution_count": null,
   "id": "c5bd585c",
   "metadata": {},
   "outputs": [],
   "source": []
  }
 ],
 "metadata": {
  "kernelspec": {
   "display_name": "Python 3 (ipykernel)",
   "language": "python",
   "name": "python3"
  },
  "language_info": {
   "codemirror_mode": {
    "name": "ipython",
    "version": 3
   },
   "file_extension": ".py",
   "mimetype": "text/x-python",
   "name": "python",
   "nbconvert_exporter": "python",
   "pygments_lexer": "ipython3",
   "version": "3.11.2"
  }
 },
 "nbformat": 4,
 "nbformat_minor": 5
}
