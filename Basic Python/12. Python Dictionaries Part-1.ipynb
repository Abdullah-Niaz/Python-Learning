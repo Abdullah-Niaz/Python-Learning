{
 "cells": [
  {
   "cell_type": "markdown",
   "id": "38cce176",
   "metadata": {},
   "source": [
    "# Dictionaries\n",
    "\n",
    "* Dictionaries are used to Store data values in key:value pairs.\n",
    "* A Dictionary is a collection which is ordered, changeable, and don't allow duplicates\n",
    "* Dictionary items are written inside the Curly Brackets {}.\n",
    "\n",
    "### Ordered\n",
    "\n",
    "* Dictinoaries are ordered we can say that it has a defined order.\n",
    "\n",
    "### Changeable\n",
    "\n",
    "* Dictionaries items are changeable, we can change the items just by isng the key name.\n",
    "\n",
    "### Duplicates Not Allowed\n",
    "\n",
    "* Dictionaries don't have two items with same key. it will print choose the last one. if we items are same."
   ]
  },
  {
   "cell_type": "code",
   "execution_count": 2,
   "id": "88e2af56",
   "metadata": {},
   "outputs": [
    {
     "data": {
      "text/plain": [
       "{'Name': 'Abdullah', 'Class': 'BSCS', 'Roll_No': 'bsf2205784', 'Status': True}"
      ]
     },
     "execution_count": 2,
     "metadata": {},
     "output_type": "execute_result"
    }
   ],
   "source": [
    "dict1 = {\n",
    "    \"Name\" :\"Abdullah\",\n",
    "    \"Class\" : \"BSCS\",\n",
    "    \"Roll_No\": \"bsf2205784\",\n",
    "    \"Status\" : True,\n",
    "}\n",
    "dict1"
   ]
  },
  {
   "cell_type": "markdown",
   "id": "570f13eb",
   "metadata": {},
   "source": [
    "## Dictinoary-Items\n",
    "\n",
    "* Dictionary items are accessed by using the kwy name."
   ]
  },
  {
   "cell_type": "code",
   "execution_count": 3,
   "id": "20c812b9",
   "metadata": {},
   "outputs": [
    {
     "data": {
      "text/plain": [
       "'Abdullah'"
      ]
     },
     "execution_count": 3,
     "metadata": {},
     "output_type": "execute_result"
    }
   ],
   "source": [
    "dict1 = {\n",
    "    \"Name\" :\"Abdullah\",\n",
    "    \"Class\" : \"BSCS\",\n",
    "    \"Roll_No\": \"bsf2205784\",\n",
    "    \"Status\" : True,\n",
    "}\n",
    "dict1[\"Name\"]"
   ]
  },
  {
   "cell_type": "code",
   "execution_count": 11,
   "id": "5c92a6d2",
   "metadata": {},
   "outputs": [
    {
     "data": {
      "text/plain": [
       "{'Name': 'Omer', 'Class': 'BSCS', 'Roll_No': 'bsf2205784', 'Status': True}"
      ]
     },
     "execution_count": 11,
     "metadata": {},
     "output_type": "execute_result"
    }
   ],
   "source": [
    "dict1 = {\n",
    "    \"Name\" :\"Abdullah\",\n",
    "    \"Class\" : \"BSCS\",\n",
    "    \"Roll_No\": \"bsf2205784\",\n",
    "    \"Status\" : True,\n",
    "    \"Name\" : \"Omer\"\n",
    "}\n",
    "dict1"
   ]
  },
  {
   "cell_type": "code",
   "execution_count": null,
   "id": "02e4c46e",
   "metadata": {},
   "outputs": [],
   "source": []
  },
  {
   "cell_type": "markdown",
   "id": "51a9fd2e",
   "metadata": {},
   "source": [
    "## Dict Length"
   ]
  },
  {
   "cell_type": "code",
   "execution_count": 6,
   "id": "1f35ad04",
   "metadata": {},
   "outputs": [
    {
     "data": {
      "text/plain": [
       "4"
      ]
     },
     "execution_count": 6,
     "metadata": {},
     "output_type": "execute_result"
    }
   ],
   "source": [
    "dict1 = {\n",
    "    \"Name\" :\"Abdullah\",\n",
    "    \"Class\" : \"BSCS\",\n",
    "    \"Roll_No\": \"bsf2205784\",\n",
    "    \"Status\" : True,\n",
    "}\n",
    "len(dict1)"
   ]
  },
  {
   "cell_type": "markdown",
   "id": "94b92cca",
   "metadata": {},
   "source": [
    "## Dictionary Items - Data Types\n",
    "\n",
    "* The values in dictionary items can be of any data type:"
   ]
  },
  {
   "cell_type": "code",
   "execution_count": 8,
   "id": "d8ca1c36",
   "metadata": {},
   "outputs": [],
   "source": [
    "thisdict = {\n",
    "  \"brand\": \"Ford\",\n",
    "  \"electric\": False,\n",
    "  \"year\": 1964,\n",
    "  \"colors\": [\"red\", \"white\", \"blue\"]\n",
    "}"
   ]
  },
  {
   "cell_type": "markdown",
   "id": "f063a2da",
   "metadata": {},
   "source": [
    "# Type"
   ]
  },
  {
   "cell_type": "code",
   "execution_count": 10,
   "id": "86715e37",
   "metadata": {},
   "outputs": [
    {
     "data": {
      "text/plain": [
       "True"
      ]
     },
     "execution_count": 10,
     "metadata": {},
     "output_type": "execute_result"
    }
   ],
   "source": [
    "thisdict = {\n",
    "  \"brand\": \"Ford\",\n",
    "  \"electric\": False,\n",
    "  \"year\": 1964,\n",
    "  \"colors\": [\"red\", \"white\", \"blue\"]\n",
    "}\n",
    "#type(thisdict)\n",
    "isinstance(thisdict,dict)"
   ]
  },
  {
   "cell_type": "markdown",
   "id": "961ad30e",
   "metadata": {},
   "source": [
    "## Dict Constructor"
   ]
  },
  {
   "cell_type": "code",
   "execution_count": 14,
   "id": "7cee5360",
   "metadata": {},
   "outputs": [
    {
     "data": {
      "text/plain": [
       "{'a': 1, 'b': 2, 'c': 34, 'd': 5}"
      ]
     },
     "execution_count": 14,
     "metadata": {},
     "output_type": "execute_result"
    }
   ],
   "source": [
    "dictcons = dict(a = 1, b = 2, c= 34, d= 5)\n",
    "dictcons"
   ]
  },
  {
   "cell_type": "code",
   "execution_count": null,
   "id": "3687aa2f",
   "metadata": {},
   "outputs": [],
   "source": []
  }
 ],
 "metadata": {
  "kernelspec": {
   "display_name": "Python 3 (ipykernel)",
   "language": "python",
   "name": "python3"
  },
  "language_info": {
   "codemirror_mode": {
    "name": "ipython",
    "version": 3
   },
   "file_extension": ".py",
   "mimetype": "text/x-python",
   "name": "python",
   "nbconvert_exporter": "python",
   "pygments_lexer": "ipython3",
   "version": "3.11.2"
  }
 },
 "nbformat": 4,
 "nbformat_minor": 5
}
