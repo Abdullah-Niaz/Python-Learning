{
 "cells": [
  {
   "cell_type": "markdown",
   "id": "78db1309",
   "metadata": {},
   "source": [
    "# Python Scope\n",
    "\n",
    "In Python, the term \"scope\" refers to the region of the program where a variable or function is defined and can be accessed. The scope of a variable or function determines where in the program it can be used, and whether it can be accessed by other parts of the program.\n",
    "\n",
    "Python has two main types of scopes: global scope and local scope. Global scope refers to the region of the program where a variable or function is defined at the top level of the module. Global variables and functions can be accessed from anywhere within the module. On the other hand, local scope refers to the region of the program where a variable or function is defined inside a function or block of code. Local variables and functions can only be accessed within the function or block of code where they are defined.\n",
    "\n",
    "Python also has the concept of nested scopes, where a function can access variables from the scope in which it was defined as well as from the global scope. However, the global variables can only be accessed inside a function using the global keyword.\n",
    "\n",
    "It is important to understand the concept of scope in Python because it can help prevent naming conflicts and make your code more organized and maintainable.\n",
    "\n",
    "###  Here are some examples to illustrate the concept of scope in Python:"
   ]
  },
  {
   "cell_type": "markdown",
   "id": "3be1fa79",
   "metadata": {},
   "source": [
    "#### Example 1: Global Scope\n",
    "\n",
    "In this example, name is defined in the global scope and can be accessed from within the say_hello() function. When the say_hello() function is called, it prints out \"Hello, John\" because it accesses the global variable name."
   ]
  },
  {
   "cell_type": "code",
   "execution_count": 2,
   "id": "efe6e39a",
   "metadata": {},
   "outputs": [
    {
     "name": "stdout",
     "output_type": "stream",
     "text": [
      "Hello, John\n"
     ]
    }
   ],
   "source": [
    "name = \"John\"\n",
    "\n",
    "def say_hello():\n",
    "    # Accessing global variable\n",
    "    print(\"Hello, \" + name)\n",
    "\n",
    "say_hello() # Output: \"Hello, John\""
   ]
  },
  {
   "cell_type": "markdown",
   "id": "9d8c242f",
   "metadata": {},
   "source": [
    "#### Example 2: Local Scope\n",
    "\n",
    "In this example, result is defined within the square() function and can only be accessed from within that function. When the square() function is called with an argument of 5, it calculates the result of 5 squared (which is 25) and returns it. The print() function then outputs the result of the square() function call.In this example, result is defined within the square() function and can only be accessed from within that function. When the square() function is called with an argument of 5, it calculates the result of 5 squared (which is 25) and returns it. The print() function then outputs the result of the square() function call."
   ]
  },
  {
   "cell_type": "code",
   "execution_count": 4,
   "id": "437f6d1e",
   "metadata": {},
   "outputs": [
    {
     "name": "stdout",
     "output_type": "stream",
     "text": [
      "25\n"
     ]
    }
   ],
   "source": [
    "def square(x):\n",
    "    # Local scope variable\n",
    "    result = x * x\n",
    "    return result\n",
    "\n",
    "print(square(5)) # Output: 25"
   ]
  },
  {
   "cell_type": "markdown",
   "id": "35c7f17c",
   "metadata": {},
   "source": [
    "#### Example 3: Nested Scope\n",
    "\n",
    "In this example, message is defined within the greet() function, and greet_name() is defined within the greet() function as well. greet_name() can access both the global variable name and the nested variable message. When the greet() function is called, it calls the greet_name() function, which prints out \"Hello, John\" because it accesses both the message and name variables from the nested and global scopes, respectively."
   ]
  },
  {
   "cell_type": "code",
   "execution_count": 6,
   "id": "6b01ec71",
   "metadata": {},
   "outputs": [
    {
     "name": "stdout",
     "output_type": "stream",
     "text": [
      "Hello, John\n"
     ]
    }
   ],
   "source": [
    "# Global scope variable\n",
    "name = \"John\"\n",
    "\n",
    "def greet():\n",
    "    # Nested scope variable\n",
    "    message = \"Hello, \"\n",
    "\n",
    "    def greet_name():\n",
    "        # Accessing variable from nested scope\n",
    "        print(message + name)\n",
    "\n",
    "    greet_name()\n",
    "\n",
    "greet() # Output: \"Hello, John\"\n"
   ]
  },
  {
   "cell_type": "markdown",
   "id": "269974f8",
   "metadata": {},
   "source": [
    "## Naming Variables\n",
    "\n",
    "If you operate with the same variable name inside and outside of a function, Python will treat them as two separate variables, one available in the global scope (outside the function) and one available in the local scope (inside the function):"
   ]
  },
  {
   "cell_type": "code",
   "execution_count": 7,
   "id": "b7e1bd0d",
   "metadata": {},
   "outputs": [
    {
     "name": "stdout",
     "output_type": "stream",
     "text": [
      "300\n",
      "200\n"
     ]
    }
   ],
   "source": [
    "x = 200\n",
    "def fun():\n",
    "    x = 300\n",
    "    print(x)\n",
    "fun()\n",
    "print(x)"
   ]
  },
  {
   "cell_type": "markdown",
   "id": "57f25435",
   "metadata": {},
   "source": [
    "## Global Keyword\n",
    "\n",
    "If you need to create a global variable, but are stuck in the local scope, you can use the global keyword."
   ]
  },
  {
   "cell_type": "code",
   "execution_count": 11,
   "id": "8d9e34b1",
   "metadata": {},
   "outputs": [
    {
     "name": "stdout",
     "output_type": "stream",
     "text": [
      "300\n",
      "300\n"
     ]
    }
   ],
   "source": [
    "x = 200 # it will be changed\n",
    "def fun():\n",
    "    global x\n",
    "    x = 300\n",
    "    print(x)\n",
    "fun()\n",
    "print(x)"
   ]
  }
 ],
 "metadata": {
  "kernelspec": {
   "display_name": "Python 3 (ipykernel)",
   "language": "python",
   "name": "python3"
  },
  "language_info": {
   "codemirror_mode": {
    "name": "ipython",
    "version": 3
   },
   "file_extension": ".py",
   "mimetype": "text/x-python",
   "name": "python",
   "nbconvert_exporter": "python",
   "pygments_lexer": "ipython3",
   "version": "3.11.2"
  }
 },
 "nbformat": 4,
 "nbformat_minor": 5
}
