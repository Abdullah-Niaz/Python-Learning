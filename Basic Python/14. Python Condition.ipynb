{
 "cells": [
  {
   "cell_type": "markdown",
   "id": "406320ac",
   "metadata": {},
   "source": [
    "# Python Condition or Statments\n",
    "\n",
    "* Python Supports the usual logical condition from the mathematics.\n",
    "  - Equal ==\n",
    "  - Not Equl !=\n",
    "  - Less than < \n",
    "  - Greater than > \n",
    "  - Less than or equal to <=\n",
    "  - Greater than or equal to =>\n",
    "  \n",
    "  These Condition can be used in several ways, most commonly in statementsa and loop"
   ]
  },
  {
   "cell_type": "markdown",
   "id": "111a7c1d",
   "metadata": {},
   "source": [
    "# if KeyWord"
   ]
  },
  {
   "cell_type": "code",
   "execution_count": 3,
   "id": "60db305a",
   "metadata": {},
   "outputs": [
    {
     "name": "stdout",
     "output_type": "stream",
     "text": [
      "B is Greater\n"
     ]
    }
   ],
   "source": [
    "# Example \n",
    "\n",
    "a = 20 \n",
    "b = 40 \n",
    "if a > b:\n",
    "    print(\"A is Greater\")\n",
    "else:\n",
    "    print(\"B is Greater\")"
   ]
  },
  {
   "cell_type": "markdown",
   "id": "27fc52d6",
   "metadata": {},
   "source": [
    "## Indentation\n",
    "\n",
    "* Python relies on indentation mean whitespaces to define the scope in code. Other programming lanugages often use curly brackets for this purpose."
   ]
  },
  {
   "cell_type": "markdown",
   "id": "eb0c2e61",
   "metadata": {},
   "source": [
    "## Elif KeyWord\n",
    "\n",
    "* The elif keyword i python way of saying \"if the previous conditions were not true, then try this condition\"."
   ]
  },
  {
   "cell_type": "code",
   "execution_count": 5,
   "id": "2c208f2e",
   "metadata": {},
   "outputs": [
    {
     "name": "stdout",
     "output_type": "stream",
     "text": [
      "50 b is Greater\n"
     ]
    }
   ],
   "source": [
    "a = 30\n",
    "b = 50\n",
    "if a > b: \n",
    "    print(a,\"a is Greater\")\n",
    "elif b > a :\n",
    "    print(b, \"b is Greater\")\n",
    "    "
   ]
  },
  {
   "cell_type": "markdown",
   "id": "a5d3e1a5",
   "metadata": {},
   "source": [
    "## Else KeyWord"
   ]
  },
  {
   "cell_type": "code",
   "execution_count": 7,
   "id": "3a78b7c3",
   "metadata": {},
   "outputs": [
    {
     "name": "stdout",
     "output_type": "stream",
     "text": [
      "C is Greater\n"
     ]
    }
   ],
   "source": [
    "a = 20 \n",
    "b = 30 \n",
    "c = 40 \n",
    "if a > b:\n",
    "    print(\"A is Greater than B\")\n",
    "elif b > c:\n",
    "    print(\"B is Greater than C\")\n",
    "else:\n",
    "    print(\"C is Greater\")"
   ]
  },
  {
   "cell_type": "markdown",
   "id": "5b7ef809",
   "metadata": {},
   "source": [
    "## Short Hnad if \n",
    "\n",
    "* if you have only one statement to execute, you can put it on the same line as the if statement."
   ]
  },
  {
   "cell_type": "code",
   "execution_count": 9,
   "id": "e518a69e",
   "metadata": {},
   "outputs": [
    {
     "name": "stdout",
     "output_type": "stream",
     "text": [
      "C is Greater\n"
     ]
    }
   ],
   "source": [
    "a = 10 \n",
    "b = 30\n",
    "c = 40\n",
    "if a > b: print(\"A is Greater than B\")\n",
    "elif b > c: print(\"B is Greater than C\")\n",
    "else: print(\"C is Greater\")"
   ]
  },
  {
   "cell_type": "code",
   "execution_count": 12,
   "id": "cacf297f",
   "metadata": {},
   "outputs": [
    {
     "name": "stdout",
     "output_type": "stream",
     "text": [
      "B\n"
     ]
    }
   ],
   "source": [
    "a = 20\n",
    "b = 40\n",
    "print(\"A\") if a> b else print(\"B\")"
   ]
  }
 ],
 "metadata": {
  "kernelspec": {
   "display_name": "Python 3 (ipykernel)",
   "language": "python",
   "name": "python3"
  },
  "language_info": {
   "codemirror_mode": {
    "name": "ipython",
    "version": 3
   },
   "file_extension": ".py",
   "mimetype": "text/x-python",
   "name": "python",
   "nbconvert_exporter": "python",
   "pygments_lexer": "ipython3",
   "version": "3.11.2"
  }
 },
 "nbformat": 4,
 "nbformat_minor": 5
}
