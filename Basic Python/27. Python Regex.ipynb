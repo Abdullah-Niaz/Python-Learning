{
 "cells": [
  {
   "cell_type": "markdown",
   "id": "e649d518",
   "metadata": {},
   "source": [
    "## Python Regular Expression \n",
    "Regular expressions (regex) are a powerful tool for searching and manipulating strings in Python. The re module in Python provides support for regex operations.\n",
    "\n",
    "Here are some examples of using regex in Python:\n",
    "\n",
    "**1. Matching a pattern:**"
   ]
  },
  {
   "cell_type": "code",
   "execution_count": 2,
   "id": "6688f1ad",
   "metadata": {},
   "outputs": [
    {
     "name": "stdout",
     "output_type": "stream",
     "text": [
      "Pattern found\n"
     ]
    }
   ],
   "source": [
    "import re\n",
    "\n",
    "pattern = r'hello'\n",
    "text = 'Hello, World!'\n",
    "match = re.search(pattern, text, re.IGNORECASE)\n",
    "if match:\n",
    "    print('Pattern found')\n",
    "else:\n",
    "    print('Pattern not found')\n"
   ]
  },
  {
   "cell_type": "markdown",
   "id": "5f28a64b",
   "metadata": {},
   "source": [
    "In the above code, we define a pattern r'hello' and a text Hello, World!. We then use the re.search() function to search for the pattern in the text. The re.IGNORECASE flag is used to ignore case when matching the pattern. If the pattern is found, it will print \"Pattern found\", otherwise it will print \"Pattern not found\"."
   ]
  },
  {
   "cell_type": "markdown",
   "id": "2f1fc553",
   "metadata": {},
   "source": [
    "**2. Extracting information from a string:**"
   ]
  },
  {
   "cell_type": "code",
   "execution_count": 4,
   "id": "d408fb02",
   "metadata": {},
   "outputs": [
    {
     "name": "stdout",
     "output_type": "stream",
     "text": [
      "Phone number: 555-1234\n"
     ]
    }
   ],
   "source": [
    "import re\n",
    "\n",
    "text = 'My phone number is 555-1234'\n",
    "pattern = r'\\d{3}-\\d{4}'\n",
    "match = re.search(pattern, text)\n",
    "if match:\n",
    "    print('Phone number:', match.group())\n",
    "else:\n",
    "    print('Phone number not found')\n"
   ]
  },
  {
   "cell_type": "markdown",
   "id": "c873c341",
   "metadata": {},
   "source": [
    "**3. Replacing text:**"
   ]
  },
  {
   "cell_type": "code",
   "execution_count": 9,
   "id": "a1638525",
   "metadata": {},
   "outputs": [
    {
     "name": "stdout",
     "output_type": "stream",
     "text": [
      "Hello, World!\n"
     ]
    }
   ],
   "source": [
    "import re\n",
    "\n",
    "text = 'Hello, World!'\n",
    "pattern = r'world'\n",
    "new_text = re.sub(pattern, 'Python', text)\n",
    "print(new_text)"
   ]
  },
  {
   "cell_type": "markdown",
   "id": "b12521c3",
   "metadata": {},
   "source": [
    "In the above code, we define a pattern r'world' to match the word \"world\". We then use the re.sub() function to replace the pattern with the word \"Python\". The re.IGNORECASE flag is used to ignore case when matching the pattern. The new text is then printed."
   ]
  }
 ],
 "metadata": {
  "kernelspec": {
   "display_name": "Python 3 (ipykernel)",
   "language": "python",
   "name": "python3"
  },
  "language_info": {
   "codemirror_mode": {
    "name": "ipython",
    "version": 3
   },
   "file_extension": ".py",
   "mimetype": "text/x-python",
   "name": "python",
   "nbconvert_exporter": "python",
   "pygments_lexer": "ipython3",
   "version": "3.11.2"
  }
 },
 "nbformat": 4,
 "nbformat_minor": 5
}
