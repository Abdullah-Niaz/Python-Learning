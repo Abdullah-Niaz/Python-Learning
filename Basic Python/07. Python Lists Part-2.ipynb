{
 "cells": [
  {
   "cell_type": "markdown",
   "id": "c34481bb",
   "metadata": {},
   "source": [
    "# Access List items"
   ]
  },
  {
   "cell_type": "markdown",
   "id": "65059c48",
   "metadata": {},
   "source": [
    "lists item are indexed and you can access them by using refering the index number "
   ]
  },
  {
   "cell_type": "code",
   "execution_count": 23,
   "id": "19fb4945",
   "metadata": {},
   "outputs": [
    {
     "name": "stdout",
     "output_type": "stream",
     "text": [
      "aple\n",
      "banana\n",
      "mango\n",
      "['aple', 'mango', 2, 4, 21.23, 353.2]\n",
      "[353.2, 32.3, 21.23, 5, 4, 3, 2, 1, 'mango', 'banana', 'aple']\n",
      "[4, 21.23, 353.2]\n",
      "11\n"
     ]
    }
   ],
   "source": [
    "mylist = [\"aple\",\"banana\",\"mango\",1,2,3,4,5,21.23,32.3,353.2]\n",
    "print(mylist[0])\n",
    "print(mylist[1])\n",
    "print(mylist[2])\n",
    "\n",
    "print(mylist[0::2])  # Slicing\n",
    "print(mylist[::-1])  # Reverse Slicing\n",
    "print(mylist[-5::2]) # Negative Slicing\n",
    "print(len(mylist))   # Length of my list\n"
   ]
  },
  {
   "cell_type": "markdown",
   "id": "29785509",
   "metadata": {},
   "source": [
    "## Check if item exits"
   ]
  },
  {
   "cell_type": "code",
   "execution_count": 29,
   "id": "c4ddff79",
   "metadata": {},
   "outputs": [
    {
     "name": "stdout",
     "output_type": "stream",
     "text": [
      "True\n",
      "False NO! it's exists\n"
     ]
    },
    {
     "name": "stderr",
     "output_type": "stream",
     "text": [
      "<>:3: SyntaxWarning: \"is not\" with a literal. Did you mean \"!=\"?\n",
      "<>:3: SyntaxWarning: \"is not\" with a literal. Did you mean \"!=\"?\n",
      "C:\\Users\\abdul\\AppData\\Local\\Temp\\ipykernel_17708\\1353873779.py:3: SyntaxWarning: \"is not\" with a literal. Did you mean \"!=\"?\n",
      "  if \"abc\" is not list1:\n"
     ]
    }
   ],
   "source": [
    "list1 = [\"abc\", 34, True, 40, \"male\"]\n",
    "print(\"abc\" in list1)\n",
    "if \"abc\" is not list1:\n",
    "    print(False,\"NO! it's exists\")"
   ]
  },
  {
   "cell_type": "markdown",
   "id": "7f998a7e",
   "metadata": {},
   "source": [
    "# Change list Items"
   ]
  },
  {
   "cell_type": "markdown",
   "id": "b7f70937",
   "metadata": {},
   "source": [
    "To change the value of specific item, refer the index number and change that"
   ]
  },
  {
   "cell_type": "code",
   "execution_count": 34,
   "id": "b895ab5e",
   "metadata": {},
   "outputs": [
    {
     "data": {
      "text/plain": [
       "['apple', 'banana', 'Mango']"
      ]
     },
     "execution_count": 34,
     "metadata": {},
     "output_type": "execute_result"
    }
   ],
   "source": [
    "mylist = [\"apple\", \"banana\", \"cherry\"]\n",
    "mylist[2] = \"Mango\"\n",
    "mylist"
   ]
  },
  {
   "cell_type": "markdown",
   "id": "e31879e3",
   "metadata": {},
   "source": [
    "## Change a Range of items "
   ]
  },
  {
   "cell_type": "code",
   "execution_count": 37,
   "id": "0ac4ad65",
   "metadata": {},
   "outputs": [
    {
     "data": {
      "text/plain": [
       "['ali', 'omer', 'hamza']"
      ]
     },
     "execution_count": 37,
     "metadata": {},
     "output_type": "execute_result"
    }
   ],
   "source": [
    "mylist = [\"apple\", \"banana\", \"cherry\"]\n",
    "mylist[0:] = [\"ali\",\"omer\",\"hamza\"]\n",
    "mylist"
   ]
  },
  {
   "cell_type": "markdown",
   "id": "f57dc5bb",
   "metadata": {},
   "source": [
    "### There are too many method to work on list"
   ]
  },
  {
   "cell_type": "code",
   "execution_count": 39,
   "id": "6a2195c5",
   "metadata": {},
   "outputs": [
    {
     "data": {
      "text/plain": [
       "['__add__',\n",
       " '__class__',\n",
       " '__class_getitem__',\n",
       " '__contains__',\n",
       " '__delattr__',\n",
       " '__delitem__',\n",
       " '__dir__',\n",
       " '__doc__',\n",
       " '__eq__',\n",
       " '__format__',\n",
       " '__ge__',\n",
       " '__getattribute__',\n",
       " '__getitem__',\n",
       " '__getstate__',\n",
       " '__gt__',\n",
       " '__hash__',\n",
       " '__iadd__',\n",
       " '__imul__',\n",
       " '__init__',\n",
       " '__init_subclass__',\n",
       " '__iter__',\n",
       " '__le__',\n",
       " '__len__',\n",
       " '__lt__',\n",
       " '__mul__',\n",
       " '__ne__',\n",
       " '__new__',\n",
       " '__reduce__',\n",
       " '__reduce_ex__',\n",
       " '__repr__',\n",
       " '__reversed__',\n",
       " '__rmul__',\n",
       " '__setattr__',\n",
       " '__setitem__',\n",
       " '__sizeof__',\n",
       " '__str__',\n",
       " '__subclasshook__',\n",
       " 'append',\n",
       " 'clear',\n",
       " 'copy',\n",
       " 'count',\n",
       " 'extend',\n",
       " 'index',\n",
       " 'insert',\n",
       " 'pop',\n",
       " 'remove',\n",
       " 'reverse',\n",
       " 'sort']"
      ]
     },
     "execution_count": 39,
     "metadata": {},
     "output_type": "execute_result"
    }
   ],
   "source": [
    "dir(list)"
   ]
  },
  {
   "cell_type": "code",
   "execution_count": 42,
   "id": "70049f5e",
   "metadata": {},
   "outputs": [
    {
     "name": "stdout",
     "output_type": "stream",
     "text": [
      "['apple', 'banana', 'cherry', 'Omer']\n"
     ]
    }
   ],
   "source": [
    "mylist = [\"apple\", \"banana\", \"cherry\"]\n",
    "mylist.append(\"Omer\")\n",
    "print(mylist)"
   ]
  },
  {
   "cell_type": "code",
   "execution_count": 46,
   "id": "0f480e81",
   "metadata": {},
   "outputs": [],
   "source": [
    "cls = mylist.clear()\n",
    "cls"
   ]
  },
  {
   "cell_type": "code",
   "execution_count": 50,
   "id": "9393365a",
   "metadata": {},
   "outputs": [
    {
     "data": {
      "text/plain": [
       "['apple', 'banana', 'cherry']"
      ]
     },
     "execution_count": 50,
     "metadata": {},
     "output_type": "execute_result"
    }
   ],
   "source": [
    "mylist = [\"apple\", \"banana\", \"cherry\"]\n",
    "cop = mylist.copy()\n",
    "cop"
   ]
  },
  {
   "cell_type": "code",
   "execution_count": 53,
   "id": "385e62e3",
   "metadata": {},
   "outputs": [
    {
     "data": {
      "text/plain": [
       "1"
      ]
     },
     "execution_count": 53,
     "metadata": {},
     "output_type": "execute_result"
    }
   ],
   "source": [
    "mylist.count(\"apple\")"
   ]
  },
  {
   "cell_type": "markdown",
   "id": "4d491058",
   "metadata": {},
   "source": [
    "# Loop Through list"
   ]
  },
  {
   "cell_type": "code",
   "execution_count": 59,
   "id": "3ee9e7b1",
   "metadata": {},
   "outputs": [
    {
     "name": "stdout",
     "output_type": "stream",
     "text": [
      "apple\n",
      "banana\n",
      "cherry\n"
     ]
    }
   ],
   "source": [
    "mylist = [\"apple\", \"banana\", \"cherry\"]\n",
    "for i in mylist:\n",
    "    print(i)"
   ]
  },
  {
   "cell_type": "code",
   "execution_count": 63,
   "id": "eb5798de",
   "metadata": {},
   "outputs": [
    {
     "name": "stdout",
     "output_type": "stream",
     "text": [
      "apple\n",
      "banana\n",
      "cherry\n"
     ]
    }
   ],
   "source": [
    "mylist = [\"apple\", \"banana\", \"cherry\"]\n",
    "i  = 0\n",
    "while i < len(mylist):\n",
    "    print(mylist[i])\n",
    "    i += 1"
   ]
  },
  {
   "cell_type": "markdown",
   "id": "171e4d33",
   "metadata": {},
   "source": [
    "## Creating a list using Loop"
   ]
  },
  {
   "cell_type": "code",
   "execution_count": 68,
   "id": "e8ef3092",
   "metadata": {},
   "outputs": [
    {
     "name": "stdout",
     "output_type": "stream",
     "text": [
      "[0, 1, 4, 9, 16, 25, 36, 49, 64, 81]\n"
     ]
    }
   ],
   "source": [
    "square = []\n",
    "for i in range(10):\n",
    "    square.append(i * i)\n",
    "print(square)    "
   ]
  },
  {
   "cell_type": "markdown",
   "id": "c3d21853",
   "metadata": {},
   "source": [
    "### Mapping "
   ]
  },
  {
   "cell_type": "code",
   "execution_count": 84,
   "id": "bb35a012",
   "metadata": {},
   "outputs": [
    {
     "name": "stdout",
     "output_type": "stream",
     "text": [
      "[42, 46, 36, 68, 88, 54]\n"
     ]
    }
   ],
   "source": [
    "def make_even(num):\n",
    "    if num%2 == 1:\n",
    "        return num+1\n",
    "    else:\n",
    "        return num\n",
    "nums = [41,45,35,67,87,53]\n",
    "even = []\n",
    "for num in nums:\n",
    "    even.append(make_even(num))\n",
    "print(even)"
   ]
  },
  {
   "cell_type": "code",
   "execution_count": 90,
   "id": "0c09fdf5",
   "metadata": {},
   "outputs": [
    {
     "name": "stdout",
     "output_type": "stream",
     "text": [
      "[42, 46, 36, 68, 88, 54]\n"
     ]
    }
   ],
   "source": [
    "def make_even(num):\n",
    "    if num % 2 == 1:\n",
    "        return num+1\n",
    "    else:\n",
    "        return num\n",
    "x = [41,45,35,67,87,53]\n",
    "\n",
    "# map(function,iteratable)\n",
    "\n",
    "Even_numbers = list(map(make_even,x))\n",
    "print(Even_numbers)"
   ]
  },
  {
   "cell_type": "code",
   "execution_count": 103,
   "id": "5a402d85",
   "metadata": {},
   "outputs": [
    {
     "name": "stdout",
     "output_type": "stream",
     "text": [
      "[42, 46, 36, 68, 88, 54]\n"
     ]
    }
   ],
   "source": [
    "def foo(num):\n",
    "    if num % 2 == 1:\n",
    "        return num + 1\n",
    "    else:\n",
    "        return num\n",
    "x = [41,45,35,67,87,53]\n",
    "\n",
    "even = list(map(foo,x))\n",
    "print(even)"
   ]
  }
 ],
 "metadata": {
  "kernelspec": {
   "display_name": "Python 3 (ipykernel)",
   "language": "python",
   "name": "python3"
  },
  "language_info": {
   "codemirror_mode": {
    "name": "ipython",
    "version": 3
   },
   "file_extension": ".py",
   "mimetype": "text/x-python",
   "name": "python",
   "nbconvert_exporter": "python",
   "pygments_lexer": "ipython3",
   "version": "3.11.2"
  }
 },
 "nbformat": 4,
 "nbformat_minor": 5
}
