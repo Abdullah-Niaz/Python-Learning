{
 "cells": [
  {
   "cell_type": "markdown",
   "id": "6eb6718f",
   "metadata": {},
   "source": [
    "## Python Classes & Objects \n",
    "\n",
    "* Python is an object oriented programming language.\n",
    "* Almost everything in Python is an object, with its properties and methods.\n",
    "* A Class is like an object constructor, or a \"blueprint\" for creating objects."
   ]
  },
  {
   "cell_type": "markdown",
   "id": "875e9629",
   "metadata": {},
   "source": [
    "### Create a Class\n",
    "\n",
    "* Create a class using the Class Keyword"
   ]
  },
  {
   "cell_type": "code",
   "execution_count": 9,
   "id": "9ac4b91d",
   "metadata": {},
   "outputs": [
    {
     "data": {
      "text/plain": [
       "5"
      ]
     },
     "execution_count": 9,
     "metadata": {},
     "output_type": "execute_result"
    }
   ],
   "source": [
    "class My_Class:\n",
    "    x = 5\n",
    "My_Class()\n",
    "My_Class().x"
   ]
  },
  {
   "cell_type": "markdown",
   "id": "0ff00ee0",
   "metadata": {},
   "source": [
    "### Create Object\n",
    "\n",
    "* Now we can use the class named My_Class to create objects:"
   ]
  },
  {
   "cell_type": "code",
   "execution_count": 12,
   "id": "acdf46d2",
   "metadata": {},
   "outputs": [
    {
     "data": {
      "text/plain": [
       "5"
      ]
     },
     "execution_count": 12,
     "metadata": {},
     "output_type": "execute_result"
    }
   ],
   "source": [
    "obj1 = My_Class()\n",
    "obj1.x"
   ]
  },
  {
   "cell_type": "markdown",
   "id": "92c6dbf6",
   "metadata": {},
   "source": [
    "### The __init__() Function\n",
    "\n",
    "* The examples above are classes and objects in their simplest form, and are not really useful in real life applications.\n",
    "* To understand the meaning of classes we have to understand the built-in __init__() function.\n",
    "* All classes have a function called __init__(), which is always executed when the class is being initiated.\n",
    "* Use the __init__() function to assign values to object properties, or other operations that are necessary to do when the object is being created:\n",
    "* **Note:** The __init__() function is called automatically every time the class is being used to create a new object."
   ]
  },
  {
   "cell_type": "markdown",
   "id": "308b48f4",
   "metadata": {},
   "source": [
    "### The self Parameter\n",
    "\n",
    "* The self parameter is a reference to the current instance of the class, and is used to access variables that belongs to the class.\n",
    "* It does not have to be named self , you can call it whatever you like, but it has to be the first parameter of any function in the class:"
   ]
  },
  {
   "cell_type": "code",
   "execution_count": 16,
   "id": "aa50213a",
   "metadata": {},
   "outputs": [
    {
     "name": "stdout",
     "output_type": "stream",
     "text": [
      "John 36\n"
     ]
    }
   ],
   "source": [
    "# class Class_name \n",
    "class Person:\n",
    "  # Inilization function or Constructor / methods\n",
    "  def __init__(self, name, age):\n",
    "    self.name = name # Atributes\n",
    "    self.age = age\n",
    "\n",
    "# objects\n",
    "obj1 = Person(\"John\", 36)\n",
    "\n",
    "print(obj1.name,obj1.age)"
   ]
  },
  {
   "cell_type": "markdown",
   "id": "8ee8a70a",
   "metadata": {},
   "source": [
    "## Object Methods\n",
    "\n",
    "* Objects can also contain methods. Methods in objects are functions that belong to the object.\n",
    "\n",
    "\t**Let us create a method in the Person class:**"
   ]
  },
  {
   "cell_type": "code",
   "execution_count": 26,
   "id": "60488b44",
   "metadata": {},
   "outputs": [
    {
     "name": "stdout",
     "output_type": "stream",
     "text": [
      "Hello my name is John\n"
     ]
    }
   ],
   "source": [
    "class Person:\n",
    "  def __init__(self, name, age):\n",
    "    self.name = name\n",
    "    self.age = age\n",
    "  # methods\n",
    "  def myfunc(self):\n",
    "    print(f\"Hello my name is {self.name}\")\n",
    "\n",
    "p1 = Person(\"John\", 36)\n",
    "p1.myfunc()"
   ]
  },
  {
   "cell_type": "markdown",
   "id": "3921447c",
   "metadata": {},
   "source": [
    "### The self Parameter\n",
    "\n",
    "* The self parameter is a reference to the current instance of the class, and is used to access variables that belongs to the class.\n",
    "* It does not have to be named self , you can call it whatever you like, but it has to be the first parameter of any function in the class:"
   ]
  },
  {
   "cell_type": "code",
   "execution_count": 35,
   "id": "1177fb11",
   "metadata": {},
   "outputs": [
    {
     "name": "stdout",
     "output_type": "stream",
     "text": [
      "Hello my name is John and my age is 36\n"
     ]
    }
   ],
   "source": [
    "class Person:\n",
    "  def __init__(myownself, name, age):\n",
    "    myownself.name = name\n",
    "    myownself.age = age\n",
    "\n",
    "  def myfunc(abc):\n",
    "    print(f\"Hello my name is {abc.name} and my age is {abc.age}\")\n",
    "\n",
    "p1 = Person(\"John\", 36)\n",
    "p1.myfunc()"
   ]
  },
  {
   "cell_type": "markdown",
   "id": "c9555ff6",
   "metadata": {},
   "source": [
    "### Modify Object Properties"
   ]
  },
  {
   "cell_type": "code",
   "execution_count": 41,
   "id": "41c9387a",
   "metadata": {},
   "outputs": [],
   "source": [
    "p1.age = 40"
   ]
  },
  {
   "cell_type": "code",
   "execution_count": 42,
   "id": "5fae619f",
   "metadata": {},
   "outputs": [
    {
     "name": "stdout",
     "output_type": "stream",
     "text": [
      "Hello my name is John and my age is 40\n"
     ]
    }
   ],
   "source": [
    "p1.myfunc()"
   ]
  },
  {
   "cell_type": "markdown",
   "id": "e31aed9a",
   "metadata": {},
   "source": [
    "### Delete Object Properties"
   ]
  },
  {
   "cell_type": "code",
   "execution_count": 43,
   "id": "e59e8824",
   "metadata": {},
   "outputs": [],
   "source": [
    "del p1.age"
   ]
  },
  {
   "cell_type": "code",
   "execution_count": 46,
   "id": "79faef0d",
   "metadata": {},
   "outputs": [],
   "source": [
    "# p1.myfunc() # it will give you Attribute error of 'Person' object has no attribute 'age' because you deleted the age property"
   ]
  },
  {
   "cell_type": "markdown",
   "id": "7b74ecc0",
   "metadata": {},
   "source": [
    "### The pass Statement\n",
    "\n",
    "* class definitions cannot be empty, but if you for some reason have a class definition with no content, put in the pass statement to avoid getting an error."
   ]
  },
  {
   "cell_type": "code",
   "execution_count": 47,
   "id": "89be16b8",
   "metadata": {},
   "outputs": [],
   "source": [
    "class Person:\n",
    "  pass"
   ]
  }
 ],
 "metadata": {
  "kernelspec": {
   "display_name": "Python 3 (ipykernel)",
   "language": "python",
   "name": "python3"
  },
  "language_info": {
   "codemirror_mode": {
    "name": "ipython",
    "version": 3
   },
   "file_extension": ".py",
   "mimetype": "text/x-python",
   "name": "python",
   "nbconvert_exporter": "python",
   "pygments_lexer": "ipython3",
   "version": "3.11.2"
  }
 },
 "nbformat": 4,
 "nbformat_minor": 5
}
