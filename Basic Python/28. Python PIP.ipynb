{
 "cells": [
  {
   "cell_type": "markdown",
   "id": "3dc56a18",
   "metadata": {},
   "source": [
    "## Python PIP\n",
    "\n",
    "Python pip (short for \"Package Installer for Python\") is a command-line tool for installing, upgrading, and managing Python packages and their dependencies. Pip is a package manager for Python, which allows you to easily install, upgrade, and remove Python packages from the PyPI (Python Package Index).\n",
    "\n",
    "Pip is included with Python 3.4 and later versions, and can be used to install packages from the PyPI or from local archives. It is used extensively in the Python community to distribute and manage packages, and is often the go-to tool for installing Python packages.\n",
    "\n",
    "To use pip, you first need to install it (if it's not already installed), which can be done by running the following command in your terminal or command prompt:"
   ]
  },
  {
   "cell_type": "markdown",
   "id": "7d2ae97c",
   "metadata": {},
   "source": [
    "**python -m ensurepip --default-pip**"
   ]
  },
  {
   "cell_type": "markdown",
   "id": "65c54c45",
   "metadata": {},
   "source": [
    "Once pip is installed, you can use it to install packages by running:"
   ]
  },
  {
   "cell_type": "markdown",
   "id": "bfb821e4",
   "metadata": {},
   "source": [
    "pip install package-name"
   ]
  },
  {
   "cell_type": "code",
   "execution_count": null,
   "id": "ae424cf7",
   "metadata": {},
   "outputs": [],
   "source": []
  }
 ],
 "metadata": {
  "kernelspec": {
   "display_name": "Python 3 (ipykernel)",
   "language": "python",
   "name": "python3"
  },
  "language_info": {
   "codemirror_mode": {
    "name": "ipython",
    "version": 3
   },
   "file_extension": ".py",
   "mimetype": "text/x-python",
   "name": "python",
   "nbconvert_exporter": "python",
   "pygments_lexer": "ipython3",
   "version": "3.11.2"
  }
 },
 "nbformat": 4,
 "nbformat_minor": 5
}
