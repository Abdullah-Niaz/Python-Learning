{
  "nbformat": 4,
  "nbformat_minor": 0,
  "metadata": {
    "colab": {
      "provenance": [],
      "collapsed_sections": []
    },
    "kernelspec": {
      "name": "python3",
      "display_name": "Python 3"
    },
    "language_info": {
      "name": "python"
    }
  },
  "cells": [
    {
      "cell_type": "code",
      "metadata": {
        "colab": {
          "base_uri": "https://localhost:8080/"
        },
        "id": "lmtFdKDKm6Pd",
        "outputId": "2f71d8dd-a087-4b73-f4dd-7c72a25017c8"
      },
      "source": [
        "# These're my integer values\n",
        "a=5\n",
        "print(a)\n",
        "print(type(a))\n",
        "\n",
        "# These're my string values\n",
        "b=\"Hello world!\"\n",
        "print(b)\n",
        "print(type(b))\n",
        "print(id(b))\n",
        "# These're my float values\n",
        "c=6.8\n",
        "print(c)\n",
        "print(type(c))"
      ],
      "execution_count": null,
      "outputs": [
        {
          "output_type": "stream",
          "name": "stdout",
          "text": [
            "5\n",
            "<class 'int'>\n",
            "Hello world!\n",
            "<class 'str'>\n",
            "139975153435248\n",
            "6.8\n",
            "<class 'float'>\n"
          ]
        }
      ]
    },
    {
      "cell_type": "code",
      "metadata": {
        "colab": {
          "base_uri": "https://localhost:8080/"
        },
        "id": "GTShbeRPn6Q2",
        "outputId": "fbda95b4-9f12-4d36-d944-11b86aad3838"
      },
      "source": [
        "# How we can give the name to the code\n",
        "  # There are Eight ways to write the name of code\n",
        "\n",
        "# 1st is:\n",
        "varname=\"Ali\"\n",
        "print(varname)\n",
        "\n",
        "# 2nd is:\n",
        "varName=\"Hamza\"\n",
        "print(varName)\n",
        "\n",
        "# 3rd is :\n",
        "Varname=\"Omer\"\n",
        "print(Varname)\n",
        "\n",
        "# 4th is:\n",
        "VarName=\"Abdullah\"\n",
        "print(VarName)\n",
        "\n",
        "# 5th is:\n",
        "_varname=\"Talha\"\n",
        "print(_varname)\n",
        "\n",
        "# 6th is:\n",
        "var_name='Abbas'\n",
        "print(var_name)\n",
        "\n",
        "# 7th and the last:\n",
        "_var_name='Khurram'\n",
        "print(_var_name)\n",
        "\n",
        "# 8th is:\n",
        "varname5=\"Yasir\"\n",
        "print(varname5)"
      ],
      "execution_count": null,
      "outputs": [
        {
          "output_type": "stream",
          "name": "stdout",
          "text": [
            "Ali\n",
            "Hamza\n",
            "Omer\n",
            "Abdullah\n",
            "Talha\n",
            "Abbas\n",
            "Khurram\n",
            "Yasir\n"
          ]
        }
      ]
    },
    {
      "cell_type": "code",
      "metadata": {
        "colab": {
          "base_uri": "https://localhost:8080/"
        },
        "id": "jo0g4zJ1qGyo",
        "outputId": "4896dcfe-d180-44d2-999a-497cb157c522"
      },
      "source": [
        "# There are 3three ways to name the variable in pyhton, we will discuss them throughly\n",
        "\n",
        "# 1st one is :\n",
        "# Cammel case\n",
        "# In this case, the first letter of every word should be small and after the first letter every word should be capital\n",
        "myVariableNameIs=\"This is me Abdullah\"\n",
        "print(myVariableNameIs)\n",
        "\n",
        "# 2nd is :\n",
        "# Snake case\n",
        "# in this case, the first letter of the every word should be capital\n",
        "MyVariableNameIs=\"This is me Abbass\"\n",
        "print(MyVariableNameIs)\n",
        "\n",
        "# 3nd is :\n",
        "# Pascal case:\n",
        "# in thi case, we use the underscore(_) after the every word \n",
        "my_variable_name=\"This is me Hamza\"\n",
        "print(my_variable_name)\n"
      ],
      "execution_count": null,
      "outputs": [
        {
          "output_type": "stream",
          "name": "stdout",
          "text": [
            "This is me Abdullah\n",
            "This is me Abbass\n",
            "This is me Hamza\n"
          ]
        }
      ]
    },
    {
      "cell_type": "code",
      "metadata": {
        "colab": {
          "base_uri": "https://localhost:8080/"
        },
        "id": "vgcpg1bPEkBG",
        "outputId": "f121a3a9-6a1a-4cab-9a45-57adcf56cdc3"
      },
      "source": [
        "# how we can give on variable to all the values and also separately\n",
        "x,y,z=\"Ali\",\"Omer\",\"Hamza\"\n",
        "print(x)\n",
        "print(y)\n",
        "print(z)\n",
        "\n",
        "# or how we  can give the one value the mutiple variables\n",
        "\n",
        "x=y=z=\"Orange\",\"Yellow\"\n",
        "print(x)\n",
        "print(type(x))\n",
        "print(y)\n",
        "print(z)"
      ],
      "execution_count": null,
      "outputs": [
        {
          "output_type": "stream",
          "name": "stdout",
          "text": [
            "Ali\n",
            "Omer\n",
            "Hamza\n",
            "('Orange', 'Yellow')\n",
            "<class 'tuple'>\n",
            "('Orange', 'Yellow')\n",
            "('Orange', 'Yellow')\n"
          ]
        }
      ]
    },
    {
      "cell_type": "code",
      "metadata": {
        "colab": {
          "base_uri": "https://localhost:8080/"
        },
        "id": "BJow4Yg9FijA",
        "outputId": "5582d2e8-1a18-42d1-c347-1865a99a57d5"
      },
      "source": [
        "# Unpacking of the collections\n",
        "fruits=[\n",
        "        \"apple\",\"cherry\",\"yellow\",\"orange\",'purple',\"banana\",\"Mango\"\n",
        "]\n",
        "x,*y,z,h=fruits\n",
        "print(x)\n",
        "print(y)\n",
        "print(z)\n",
        "print(h)"
      ],
      "execution_count": null,
      "outputs": [
        {
          "output_type": "stream",
          "name": "stdout",
          "text": [
            "apple\n",
            "['cherry', 'yellow', 'orange', 'purple']\n",
            "banana\n",
            "Mango\n"
          ]
        }
      ]
    },
    {
      "cell_type": "code",
      "metadata": {
        "colab": {
          "base_uri": "https://localhost:8080/"
        },
        "id": "hO6Ni5UOGkoa",
        "outputId": "93d78487-5b19-422a-b17c-e0d0a3da89c0"
      },
      "source": [
        "# concatination in the python\n",
        "x=\"Awesome\"\n",
        "print(\"Hello, Pyhton is very \"+ x + \"\" , \"and very interesting language to understad\")\n",
        "\n"
      ],
      "execution_count": null,
      "outputs": [
        {
          "output_type": "stream",
          "name": "stdout",
          "text": [
            "Hello, Pyhton is very Awesome and very interesting language to understad\n"
          ]
        }
      ]
    },
    {
      "cell_type": "code",
      "metadata": {
        "colab": {
          "base_uri": "https://localhost:8080/"
        },
        "id": "xGFfZQTHJdid",
        "outputId": "52816ca0-7059-4f0a-cbb7-794df653abcb"
      },
      "source": [
        "x=(\"Hello, this is a python progaram\")\n",
        "print(x[3:9])\n",
        "print(x[1:3])\n",
        "print(x[4:9])\n",
        "print(x[-5:-2])\n",
        "print(x[-9:-1])"
      ],
      "execution_count": null,
      "outputs": [
        {
          "output_type": "stream",
          "name": "stdout",
          "text": [
            "lo, th\n",
            "el\n",
            "o, th\n",
            "gar\n",
            " progara\n"
          ]
        }
      ]
    },
    {
      "cell_type": "code",
      "metadata": {
        "colab": {
          "base_uri": "https://localhost:8080/"
        },
        "id": "p4r-dPfuJ3RV",
        "outputId": "1026798e-c412-4aa9-a791-f79647ff8efc"
      },
      "source": [
        "x=(\"Hello, this is a python progaram\")\n",
        "# This is how we can make our string like in a capital and small words\n",
        "print(x.upper())\n",
        "print(x.lower())\n",
        "\n",
        "# Now, we will check how we can remove the whitespaces from our string by using the strip() method\n",
        "print(x.strip())\n",
        "\n",
        "# how we can split the strings\n",
        "print(x.split(\",\"))\n"
      ],
      "execution_count": null,
      "outputs": [
        {
          "output_type": "stream",
          "name": "stdout",
          "text": [
            "HELLO, THIS IS A PYTHON PROGARAM\n",
            "hello, this is a python progaram\n",
            "Hello, this is a python progaram\n",
            "['Hello', ' this is a python progaram']\n"
          ]
        }
      ]
    },
    {
      "cell_type": "code",
      "metadata": {
        "colab": {
          "base_uri": "https://localhost:8080/"
        },
        "id": "VGnwuWJlLQWI",
        "outputId": "9d0303fd-85b1-4c62-dd26-6ecfc46c7047"
      },
      "source": [
        "# Formating\n",
        "age =19\n",
        "name=\"abdullah\"\n",
        "clss = 10\n",
        "# value = 50 = 0 ...... 49(50-1)\n",
        "c=\"My name is {}. And I'm {} year old an in {}th class\"\n",
        "\n",
        "print(c.format(name,age,clss))"
      ],
      "execution_count": null,
      "outputs": [
        {
          "output_type": "stream",
          "name": "stdout",
          "text": [
            "My name is abdullah. And I'm 19 year old an in  10th class\n"
          ]
        }
      ]
    },
    {
      "cell_type": "code",
      "metadata": {
        "colab": {
          "base_uri": "https://localhost:8080/"
        },
        "id": "6qHqpxUrKtYk",
        "outputId": "6255d102-01e0-4c56-f2a6-64da4c277624"
      },
      "source": [
        "# Boolean value in the python\n",
        "# There are some special character  < , > , => , <= , != ==\n",
        "x=70\n",
        "y=80 \n",
        "if x == y:\n",
        "  print(True)\n",
        "else:\n",
        "  print(False)\n",
        "\n",
        "if x != y:\n",
        "  print(True)\n",
        "else:\n",
        "  print(False)\n",
        "\n",
        "if x > y:\n",
        "  print(True)\n",
        "else:\n",
        "  print(False)\n",
        "\n",
        "if x < y:\n",
        "  print(True)\n",
        "else:\n",
        "  print(False)\n",
        "\n",
        "# if x => y:\n",
        "#   print(True)\n",
        "# else:\n",
        "#   print(False)\n",
        "\n",
        "if x <= y:\n",
        "  print(True)\n",
        "else:\n",
        "  print(False)\n",
        "\n",
        "\n",
        "\n",
        "\n"
      ],
      "execution_count": null,
      "outputs": [
        {
          "output_type": "stream",
          "name": "stdout",
          "text": [
            "False\n",
            "True\n",
            "False\n",
            "True\n",
            "True\n"
          ]
        }
      ]
    },
    {
      "cell_type": "code",
      "metadata": {
        "colab": {
          "base_uri": "https://localhost:8080/"
        },
        "id": "vF5t_a1oMlRp",
        "outputId": "562e5a20-dc20-43c5-aa36-9b8d3b459121"
      },
      "source": [
        "# list\n",
        "# list attributes in python\n",
        "print(dir(list))"
      ],
      "execution_count": null,
      "outputs": [
        {
          "output_type": "stream",
          "name": "stdout",
          "text": [
            "['__add__', '__class__', '__contains__', '__delattr__', '__delitem__', '__dir__', '__doc__', '__eq__', '__format__', '__ge__', '__getattribute__', '__getitem__', '__gt__', '__hash__', '__iadd__', '__imul__', '__init__', '__init_subclass__', '__iter__', '__le__', '__len__', '__lt__', '__mul__', '__ne__', '__new__', '__reduce__', '__reduce_ex__', '__repr__', '__reversed__', '__rmul__', '__setattr__', '__setitem__', '__sizeof__', '__str__', '__subclasshook__', 'append', 'clear', 'copy', 'count', 'extend', 'index', 'insert', 'pop', 'remove', 'reverse', 'sort']\n"
          ]
        }
      ]
    },
    {
      "cell_type": "code",
      "metadata": {
        "colab": {
          "base_uri": "https://localhost:8080/"
        },
        "id": "inwJHKYQMD-a",
        "outputId": "4123533f-ff2b-485d-e148-39481a9fecfe"
      },
      "source": [
        "# list method in the python\n",
        "\n",
        "x=[\"ali\",\"omer\",\"talha\",\"hamza\",\"abdullah\",\"yasir\",]\n",
        "print(x)\n",
        "\n",
        "\n",
        "# This is the append() method in this mehtod we can add anything like string, integer, float, but remember that these will be added at the end of the list \n",
        "# The basic mean of the append is to iclude \n",
        "x.append('ali') \n",
        "print(x)\n",
        "\n",
        "\n",
        "# The clear() method is used to clear the all the list\n",
        "x.clear()\n",
        "print(x)\n",
        "\n",
        "\n",
        "# The copy() method is used to copy the all the item from the  list\n",
        "x.copy()\n",
        "print(y)\n",
        "\n",
        "# The count() mehtod is use to count the items in list\n",
        "# print(count(x))\n",
        "\n",
        "# The extend() method is same as that the append\n",
        "# x.extend(\"Niaz\")\n",
        "print(x)\n",
        "\n",
        "# The index method is use to check the indexes of the list\n",
        "z=['ali', 'omer', 'talha', 'hamza', 'abdullah', 'yasir',365.454,2548,2548]\n",
        "z.index(\"omer\")\n",
        "print(z)\n",
        "\n",
        "# The insert() method is use to insert the item at the specified index\n",
        "x.insert(1,3)\n",
        "print(x)\n",
        "\n",
        "# The pop() method is used to remove the specific item\n",
        "y=['ali', 'omer', 'talha', 'hamza', 'abdullah', 'yasir','hina']\n",
        "y.pop(1)\n",
        "print(y)\n",
        "\n",
        "# The reverse() method is used to change the list (reverse)\n",
        "y.reverse()\n",
        "print(y)\n",
        "\n",
        "y.sort()\n",
        "print(y)\n"
      ],
      "execution_count": null,
      "outputs": [
        {
          "output_type": "stream",
          "name": "stdout",
          "text": [
            "['ali', 'omer', 'talha', 'hamza', 'abdullah', 'yasir']\n",
            "['ali', 'omer', 'talha', 'hamza', 'abdullah', 'yasir', 'ali']\n",
            "[]\n",
            "['abdullah', 'ali', 'hamza', 'hina', 'talha', 'yasir']\n",
            "[]\n",
            "['ali', 'omer', 'talha', 'hamza', 'abdullah', 'yasir', 365.454, 2548, 2548]\n",
            "[3]\n",
            "['ali', 'talha', 'hamza', 'abdullah', 'yasir', 'hina']\n",
            "['hina', 'yasir', 'abdullah', 'hamza', 'talha', 'ali']\n",
            "['abdullah', 'ali', 'hamza', 'hina', 'talha', 'yasir']\n"
          ]
        }
      ]
    },
    {
      "cell_type": "code",
      "metadata": {
        "colab": {
          "base_uri": "https://localhost:8080/"
        },
        "id": "Oua_1K0BSF5u",
        "outputId": "ca8ca3c6-0ceb-42b6-9a8d-28e05c07b903"
      },
      "source": [
        "# How we can check the len() of the list\n",
        "u=['ali', 'omer', 'talha', 'hamza', 'abdullah', 'yasir']\n",
        "print(len(u))\n",
        "\n",
        "# There are three data types in the pyhton\n",
        "x=[\"ali\",\"omer\",\"hamza\"]\n",
        "y=[1,2,3,4,5,6,7,8,9,0]\n",
        "z=[1.2,3.2,6.5,4.5,6.50]\n",
        "h=[True, False]\n",
        "print(x)\n",
        "print(y)\n",
        "print(z)\n",
        "print(h)\n",
        "\n",
        "print(type(x))\n",
        "print(type(y))\n",
        "print(type(z))\n",
        "print(type(h))"
      ],
      "execution_count": null,
      "outputs": [
        {
          "output_type": "stream",
          "name": "stdout",
          "text": [
            "6\n",
            "['ali', 'omer', 'hamza']\n",
            "[1, 2, 3, 4, 5, 6, 7, 8, 9, 0]\n",
            "[1.2, 3.2, 6.5, 4.5, 6.5]\n",
            "[True, False]\n",
            "<class 'list'>\n",
            "<class 'list'>\n",
            "<class 'list'>\n",
            "<class 'list'>\n"
          ]
        }
      ]
    },
    {
      "cell_type": "code",
      "metadata": {
        "colab": {
          "base_uri": "https://localhost:8080/"
        },
        "id": "gcnT3U9yMZde",
        "outputId": "048aeb5a-d32b-47b1-d037-d0d446c8af10"
      },
      "source": [
        "# This is how, we can print the list item by using the positve and negative indexing\n",
        "x=[\"me\",\"i\",\"you\", \"they\"]\n",
        "print(x[3])\n",
        "print(x[1:3])\n",
        "print(x[-3])\n",
        "print(x[-0:-2])\n"
      ],
      "execution_count": null,
      "outputs": [
        {
          "output_type": "stream",
          "name": "stdout",
          "text": [
            "they\n",
            "['i', 'you']\n",
            "i\n",
            "['me', 'i']\n"
          ]
        }
      ]
    },
    {
      "cell_type": "code",
      "metadata": {
        "colab": {
          "base_uri": "https://localhost:8080/"
        },
        "id": "DHBsy2I7UEha",
        "outputId": "dd5eb33e-31b7-4935-a886-d436a2465609"
      },
      "source": [
        "# check if the item exist in the list or not\n",
        "L = ['a', ['bb', ['ccc', 'ddd'], 'ee', 'ff'], 'g', 'h']\n",
        "if \"a\" in L:\n",
        "  print(\"yes\")\n",
        "else:\n",
        "  print(\"No\")"
      ],
      "execution_count": null,
      "outputs": [
        {
          "output_type": "stream",
          "name": "stdout",
          "text": [
            "yes\n"
          ]
        }
      ]
    },
    {
      "cell_type": "code",
      "metadata": {
        "colab": {
          "base_uri": "https://localhost:8080/"
        },
        "id": "jteqlYVVUoGh",
        "outputId": "74fa7e1d-c764-4fcf-dc82-4aa056536a13"
      },
      "source": [
        "# This is how we can change the list item\n",
        "L = ['a', ['bb', ['ccc', 'ddd'], 'ee', 'ff'], 'g', 'h']\n",
        "L[1]=\"Hello, world!\"\n",
        "print(L)"
      ],
      "execution_count": null,
      "outputs": [
        {
          "output_type": "stream",
          "name": "stdout",
          "text": [
            "['a', 'Hello, world!', 'g', 'h']\n"
          ]
        }
      ]
    },
    {
      "cell_type": "code",
      "metadata": {
        "colab": {
          "base_uri": "https://localhost:8080/"
        },
        "id": "zWddzoR__8xL",
        "outputId": "bc34cbff-2dbd-4ca4-b607-de9ad5402a4e"
      },
      "source": [
        "# Unpacking of the list \n",
        "x=['a','v','c','g','h']\n",
        "green,*red, blu=x\n",
        "print(green)\n",
        "print(red) #Use of starick, if the number of values is less than the variables than we use the starick to take that values into the one variable\n",
        "print(blu)\n"
      ],
      "execution_count": null,
      "outputs": [
        {
          "output_type": "stream",
          "name": "stdout",
          "text": [
            "a\n",
            "['v', 'c', 'g']\n",
            "h\n"
          ]
        }
      ]
    },
    {
      "cell_type": "code",
      "metadata": {
        "id": "ZgNGkVCv3UY0"
      },
      "source": [],
      "execution_count": null,
      "outputs": []
    },
    {
      "cell_type": "code",
      "metadata": {
        "colab": {
          "base_uri": "https://localhost:8080/"
        },
        "id": "NigZQlBL3UeI",
        "outputId": "51dfce98-ac74-4336-ad4e-106c6688c124"
      },
      "source": [
        "# Set is basically a group or banch of words\n",
        "set1={'a','b','c','d'}\n",
        "print(set1)"
      ],
      "execution_count": null,
      "outputs": [
        {
          "output_type": "stream",
          "name": "stdout",
          "text": [
            "{'b', 'a', 'd', 'c'}\n"
          ]
        }
      ]
    },
    {
      "cell_type": "code",
      "metadata": {
        "colab": {
          "base_uri": "https://localhost:8080/"
        },
        "id": "yDeY2ODj5E_a",
        "outputId": "49aea42e-f02d-4aa6-a60e-47860e859d03"
      },
      "source": [
        "# this is how we can check the attributesof the list\n",
        "print(dir(list))"
      ],
      "execution_count": null,
      "outputs": [
        {
          "output_type": "stream",
          "name": "stdout",
          "text": [
            "['__add__', '__class__', '__contains__', '__delattr__', '__delitem__', '__dir__', '__doc__', '__eq__', '__format__', '__ge__', '__getattribute__', '__getitem__', '__gt__', '__hash__', '__iadd__', '__imul__', '__init__', '__init_subclass__', '__iter__', '__le__', '__len__', '__lt__', '__mul__', '__ne__', '__new__', '__reduce__', '__reduce_ex__', '__repr__', '__reversed__', '__rmul__', '__setattr__', '__setitem__', '__sizeof__', '__str__', '__subclasshook__', 'append', 'clear', 'copy', 'count', 'extend', 'index', 'insert', 'pop', 'remove', 'reverse', 'sort']\n"
          ]
        }
      ]
    },
    {
      "cell_type": "code",
      "metadata": {
        "colab": {
          "base_uri": "https://localhost:8080/"
        },
        "id": "-4aplcT43VYP",
        "outputId": "4de971ae-06b4-4424-eb27-2fe5afed6536"
      },
      "source": [
        "# We can check the type and length of the set by using their method of checking\n",
        "group_of_words={'a','b','c','d'}\n",
        "print(type(group_of_words))\n",
        "print(len(group_of_words))\n",
        "\n",
        "\n",
        "\n",
        "\n",
        "# set can also be of many types like string, integer, float and bolean values\n",
        "string={\"a\",\"b\"}\n",
        "integer={1,2,4}\n",
        "float={2.2,2.5}\n",
        "boolean={True, False}\n",
        "print(string)\n",
        "print(integer)\n",
        "print(float)\n",
        "print(boolean)"
      ],
      "execution_count": null,
      "outputs": [
        {
          "output_type": "stream",
          "name": "stdout",
          "text": [
            "<class 'set'>\n",
            "4\n",
            "{'b', 'a'}\n",
            "{1, 2, 4}\n",
            "{2.2, 2.5}\n",
            "{False, True}\n"
          ]
        }
      ]
    },
    {
      "cell_type": "code",
      "metadata": {
        "colab": {
          "base_uri": "https://localhost:8080/"
        },
        "id": "p1HqrQSu3ho8",
        "outputId": "d2a234ae-52fe-48e6-a399-c606eee2c96f"
      },
      "source": [
        "# we can't access the list item directly, we only can access them by the for loop\n",
        "set1={'a','b','c','d'}\n",
        "for c in set1:\n",
        "  print(c)\n",
        "\n",
        "# check wheater the whole are if loop can run \n",
        "i=0\n",
        "while i < len(set1):  #we have experienced from this that set does'nt contain the while loop, if you use, it will print  the set according to the number of total values in the set\n",
        "  print(set1)\n",
        "  i=i+1\n",
        "\n",
        "# Check wheather the list comprehenison exits\n",
        "se={'a','b','c','d','a','a'}\n",
        "new={}\n",
        "for x in se:\n",
        "  if \"a \" in x:\n",
        "    new.append(x)\n",
        "    print(new) "
      ],
      "execution_count": null,
      "outputs": [
        {
          "output_type": "stream",
          "name": "stdout",
          "text": [
            "b\n",
            "c\n",
            "d\n",
            "a\n",
            "{'b', 'c', 'd', 'a'}\n",
            "{'b', 'c', 'd', 'a'}\n",
            "{'b', 'c', 'd', 'a'}\n",
            "{'b', 'c', 'd', 'a'}\n"
          ]
        }
      ]
    },
    {
      "cell_type": "code",
      "metadata": {
        "colab": {
          "base_uri": "https://localhost:8080/"
        },
        "id": "UUnad80o3km_",
        "outputId": "0fbed506-0404-41ba-ceba-13fe84e633ac"
      },
      "source": [
        "set1={'a','b','c','d'}\n",
        "#we can add the item into the  set \n",
        "set1.add(\"ali\")\n",
        "print(set1)"
      ],
      "execution_count": null,
      "outputs": [
        {
          "output_type": "stream",
          "name": "stdout",
          "text": [
            "{'c', 'a', 'b', 'd', 'ali'}\n"
          ]
        }
      ]
    },
    {
      "cell_type": "code",
      "metadata": {
        "colab": {
          "base_uri": "https://localhost:8080/"
        },
        "id": "IZmLlr8e3pjP",
        "outputId": "07e53e9b-c471-4f2b-b43e-6a8bc18aefb1"
      },
      "source": [
        "# we can also add a one set to another\n",
        "y={1,2,3,4,5,6,7}\n",
        "s={'a','b','c','d'}\n",
        "y.union(s)\n",
        "print(y)\n",
        "\n",
        "y.update(s)\n",
        "print(y)"
      ],
      "execution_count": null,
      "outputs": [
        {
          "output_type": "stream",
          "name": "stdout",
          "text": [
            "{1, 2, 3, 4, 5, 6, 7}\n",
            "{1, 2, 3, 4, 5, 6, 7, 'c', 'a', 'b', 'd'}\n"
          ]
        }
      ]
    },
    {
      "cell_type": "code",
      "metadata": {
        "colab": {
          "base_uri": "https://localhost:8080/"
        },
        "id": "wpUndfY63qjb",
        "outputId": "388a340e-2334-4c40-c6a6-76c1488aca53"
      },
      "source": [
        "# we can also check the duplicates values in the set by usig the intersection() method\n",
        "set1={'a','b','c','d'}\n",
        "y={1,2,3,4,5,6,7,\"a\",\"b\"}\n",
        "set1.intersection_update(y)\n",
        "print(set1)"
      ],
      "execution_count": null,
      "outputs": [
        {
          "output_type": "stream",
          "name": "stdout",
          "text": [
            "{'b', 'a'}\n"
          ]
        }
      ]
    },
    {
      "cell_type": "code",
      "metadata": {
        "colab": {
          "base_uri": "https://localhost:8080/"
        },
        "id": "H5iFgAgI3tY1",
        "outputId": "dced6579-c9db-4104-c0eb-ffb3bb9afb6d"
      },
      "source": [
        "x = {\"apple\", \"banana\", \"cherry\"}\n",
        "y = {\"google\", \"microsoft\", \"apple\"}\n",
        "set1=x.intersection(y)\n",
        "print(set1)"
      ],
      "execution_count": null,
      "outputs": [
        {
          "output_type": "stream",
          "name": "stdout",
          "text": [
            "{'apple'}\n"
          ]
        }
      ]
    },
    {
      "cell_type": "code",
      "metadata": {
        "id": "Dhqwg3-h3wPW"
      },
      "source": [],
      "execution_count": null,
      "outputs": []
    },
    {
      "cell_type": "code",
      "metadata": {
        "id": "fa_0Maz9-p2K"
      },
      "source": [
        "# Dictionaries"
      ],
      "execution_count": null,
      "outputs": []
    },
    {
      "cell_type": "code",
      "metadata": {
        "id": "9psspTAM-ubl"
      },
      "source": [
        "# What is dictionary\n",
        "#  Dictionary used to store data  \n",
        " \n",
        "   \n",
        "   "
      ],
      "execution_count": null,
      "outputs": []
    },
    {
      "cell_type": "code",
      "metadata": {
        "colab": {
          "base_uri": "https://localhost:8080/"
        },
        "id": "ucvoqz8q-xoh",
        "outputId": "9616dd9e-e85a-4441-a444-b71c1b430211"
      },
      "source": [
        "thisdict={\n",
        "    \"name\":\"Ali\",\n",
        "    \"Father\":\"liquat\",\n",
        "    \"Roll No\":15,\n",
        "    \"class\":12\n",
        "}\n",
        "print(thisdict)\n",
        "\n",
        "\n",
        "# If we want to print the specific item then there are two mwthod to print them \n",
        "# NO 1:\n",
        "print(thisdict[\"Father\"])\n",
        "\n",
        "# NO 2:\n",
        "x = thisdict.get(\"class\")\n",
        "print(x)"
      ],
      "execution_count": null,
      "outputs": [
        {
          "output_type": "stream",
          "name": "stdout",
          "text": [
            "{'name': 'Ali', 'Father': 'liquat', 'Roll No': 15, 'class': 12}\n",
            "liquat\n",
            "12\n"
          ]
        }
      ]
    },
    {
      "cell_type": "code",
      "metadata": {
        "colab": {
          "base_uri": "https://localhost:8080/"
        },
        "id": "jjCaMUYj-zx1",
        "outputId": "3c49d45b-7141-4758-b659-b8d425c708db"
      },
      "source": [
        "# if you want to remvoe the specific  item then use the  pop()\n",
        "thisdict={\n",
        "    \"name\":\"Ali\",\n",
        "    \"Father\":\"liquat\",\n",
        "    \"Roll No\":15,\n",
        "    \"class\":12\n",
        "}\n",
        "x=thisdict.pop(\"class\")\n",
        "print(x)\n",
        "print(thisdict)\n",
        "\n",
        "\n",
        "# Another method to remove the item is \n",
        "del thisdict[\"Roll No\"]\n",
        "print(thisdict)\n",
        "\n",
        "# if you want to clear the whole dictionar then use this \n",
        "thisdict.clear()\n",
        "print(thisdict) \n"
      ],
      "execution_count": null,
      "outputs": [
        {
          "output_type": "stream",
          "name": "stdout",
          "text": [
            "12\n",
            "{'name': 'Ali', 'Father': 'liquat', 'Roll No': 15}\n",
            "{'name': 'Ali', 'Father': 'liquat'}\n",
            "{}\n"
          ]
        }
      ]
    },
    {
      "cell_type": "code",
      "metadata": {
        "colab": {
          "base_uri": "https://localhost:8080/"
        },
        "id": "FSASif_X-9qs",
        "outputId": "37f5369b-a12d-481b-b38e-99f73e784eb1"
      },
      "source": [
        "# This is how we can check the lenght and type of the dictionary\n",
        "thisdict={\n",
        "    \"name\":\"Ali\",\n",
        "    \"Father\":\"liquat\",\n",
        "    \"type\":True,\n",
        "    \"Roll No\":15,\n",
        "    \"class\":12\n",
        "}\n",
        "print(len(thisdict))\n",
        "print(type(thisdict))"
      ],
      "execution_count": null,
      "outputs": [
        {
          "output_type": "stream",
          "name": "stdout",
          "text": [
            "5\n",
            "<class 'dict'>\n"
          ]
        }
      ]
    },
    {
      "cell_type": "code",
      "metadata": {
        "id": "NKWMYEuj_C_s"
      },
      "source": [],
      "execution_count": null,
      "outputs": []
    },
    {
      "cell_type": "code",
      "metadata": {
        "colab": {
          "base_uri": "https://localhost:8080/"
        },
        "id": "19_tL5A4--na",
        "outputId": "a2c25410-71c1-42f5-c16b-ad890df8fe59"
      },
      "source": [
        "# We can also get the keys of the dictionary\n",
        "thisdict={\n",
        "    \"name\":\"Ali\",\n",
        "    \"Father\":\"liquat\",\n",
        "    \"Roll No\":15,\n",
        "    \"class\":12\n",
        "}\n",
        "x=thisdict.keys()\n",
        "print(x)\n"
      ],
      "execution_count": null,
      "outputs": [
        {
          "output_type": "stream",
          "name": "stdout",
          "text": [
            "dict_keys(['name', 'Father', 'Roll No', 'class'])\n"
          ]
        }
      ]
    },
    {
      "cell_type": "code",
      "metadata": {
        "colab": {
          "base_uri": "https://localhost:8080/"
        },
        "id": "Yexs7YSE_F9s",
        "outputId": "11f3d2c0-1260-4083-aac2-e9c77810758e"
      },
      "source": [
        "# nested dictionaries and their types of printing \n",
        "\n",
        "child1 ={\n",
        "    \"Name\":\"Abdullah\",\n",
        "    \"Class\":45\n",
        "}\n",
        "child2 ={\n",
        "    \"Name\":\"Ali\",\n",
        "    \"Class\":25\n",
        "}\n",
        "child3 ={\n",
        "    \"Name\":\"Hamza\",\n",
        "    \"Class\":23\n",
        "}\n",
        "myfamily ={\n",
        "    \"Child1\":child1,\n",
        "    \"Child2\":child2,\n",
        "    \"Child3\":child3\n",
        "}\n",
        "print(myfamily)"
      ],
      "execution_count": null,
      "outputs": [
        {
          "output_type": "stream",
          "name": "stdout",
          "text": [
            "{'Child1': {'Name': 'Abdullah', 'Class': 45}, 'Child2': {'Name': 'Ali', 'Class': 25}, 'Child3': {'Name': 'Hamza', 'Class': 23}}\n"
          ]
        }
      ]
    },
    {
      "cell_type": "code",
      "metadata": {
        "colab": {
          "base_uri": "https://localhost:8080/"
        },
        "id": "e1DHzJ2e_HZm",
        "outputId": "dac19e61-4c3d-4ad9-8a32-842c8148d5f2"
      },
      "source": [
        "myfamily={\n",
        "    \"child1\" :{\n",
        "    \"Name\":\"Abdullah\",\n",
        "    \"Class\":45\n",
        "},\n",
        "\"child2\" :{\n",
        "    \"Name\":\"Ali\",\n",
        "    \"Class\":25\n",
        "},\n",
        "\"child3 \":{\n",
        "    \"Name\":\"Hamza\",\n",
        "    \"Class\":23\n",
        "},\n",
        "}\n",
        "print(myfamily)"
      ],
      "execution_count": null,
      "outputs": [
        {
          "output_type": "stream",
          "name": "stdout",
          "text": [
            "{'child1': {'Name': 'Abdullah', 'Class': 45}, 'child2': {'Name': 'Ali', 'Class': 25}, 'child3 ': {'Name': 'Hamza', 'Class': 23}}\n"
          ]
        }
      ]
    },
    {
      "cell_type": "code",
      "metadata": {
        "id": "kDmj5xFE_JLC"
      },
      "source": [],
      "execution_count": null,
      "outputs": []
    }
  ]
}