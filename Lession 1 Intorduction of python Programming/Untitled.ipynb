{
 "cells": [
  {
   "cell_type": "code",
   "execution_count": 43,
   "id": "e4d3c1f0",
   "metadata": {},
   "outputs": [
    {
     "data": {
      "text/plain": [
       "{1: 'hello', 2: 'world'}"
      ]
     },
     "execution_count": 43,
     "metadata": {},
     "output_type": "execute_result"
    }
   ],
   "source": [
    "# value =[23,234,545,645,6455,147,145] #len = value - 1 \n",
    "# tup = (1,243,4)\n",
    "dic = {\n",
    "    1 : \"hello\",\n",
    "    2 : \"world\"\n",
    "}\n",
    "lis = [12,43,3414,3412]\n",
    "# dic.update(a=\"hello\",b=\"world\")\n",
    "# dic.update(lis)\n",
    "dic"
   ]
  },
  {
   "cell_type": "code",
   "execution_count": 46,
   "id": "bf2e2a7c",
   "metadata": {},
   "outputs": [
    {
     "name": "stdout",
     "output_type": "stream",
     "text": [
      "1\n",
      "1\n",
      "2\n",
      "3\n",
      "5\n",
      "8\n",
      "13\n"
     ]
    }
   ],
   "source": [
    "a = 0\n",
    "b = 1\n",
    "while a < 10:\n",
    "    a , b = b , a+b\n",
    "    print(a)"
   ]
  }
 ],
 "metadata": {
  "kernelspec": {
   "display_name": "Python 3 (ipykernel)",
   "language": "python",
   "name": "python3"
  },
  "language_info": {
   "codemirror_mode": {
    "name": "ipython",
    "version": 3
   },
   "file_extension": ".py",
   "mimetype": "text/x-python",
   "name": "python",
   "nbconvert_exporter": "python",
   "pygments_lexer": "ipython3",
   "version": "3.10.7"
  }
 },
 "nbformat": 4,
 "nbformat_minor": 5
}
